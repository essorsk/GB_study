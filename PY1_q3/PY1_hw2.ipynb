{
 "cells": [
  {
   "cell_type": "code",
   "execution_count": 78,
   "metadata": {},
   "outputs": [],
   "source": [
    "import yaml\n",
    "from pprint import pprint\n",
    "import json\n",
    "import csv\n",
    "import re"
   ]
  },
  {
   "cell_type": "markdown",
   "metadata": {},
   "source": [
    "1.Задание на закрепление знаний по модулю CSV. Написать скрипт, осуществляющий выборку определенных данных из файлов info_1.txt, info_2.txt, info_3.txt и формирующий новый «отчетный» файл в формате CSV. Для этого:\n",
    "2.Создать функцию get_data(), в которой в цикле осуществляется перебор файлов с данными, их открытие и считывание данных. В этой функции из считанных данных необходимо с помощью регулярных выражений извлечь значения параметров «Изготовитель системы», «Название ОС», «Код продукта», «Тип системы». Значения каждого параметра поместить в соответствующий список. Должно получиться четыре списка — например, os_prod_list, os_name_list, os_code_list, os_type_list. В этой же функции создать главный список для хранения данных отчета — например, main_data — и поместить в него названия столбцов отчета в виде списка: «Изготовитель системы», «Название ОС», «Код продукта», «Тип системы». Значения для этих столбцов также оформить в виде списка и поместить в файл main_data (также для каждого файла);"
   ]
  },
  {
   "cell_type": "code",
   "execution_count": 19,
   "metadata": {},
   "outputs": [],
   "source": [
    "def get_data():\n",
    "    os_prod_list = []\n",
    "    os_name_list = []\n",
    "    os_code_list = []\n",
    "    os_type_list = []\n",
    "    main_data = [['Изготовитель системы', 'Название ОС', 'Код продукта', 'Тип системы'],]\n",
    "    i = 1\n",
    "    while i < 4:\n",
    "        current = 'info_' + str(i) + '.txt'\n",
    "        with open(current) as file:\n",
    "            for row in file:            \n",
    "                if re.search(r'Изготовитель ОС', row):\n",
    "                    os_prod_list.append(row.split(':')[1].strip())                    \n",
    "                elif re.search(r'Название ОС', row):\n",
    "                    os_name_list.append(row.split(':')[1].strip())                    \n",
    "                elif re.search(r'Код продукта', row):\n",
    "                    os_code_list.append(row.split(':')[1].strip())                    \n",
    "                elif re.search(r'Тип системы', row):\n",
    "                    os_type_list.append(row.split(':')[1].strip())                    \n",
    "        i +=1\n",
    "    k=0\n",
    "    for k in range(i-1):\n",
    "        spam = []\n",
    "        spam.append(os_prod_list[k])\n",
    "        spam.append(os_name_list[k])\n",
    "        spam.append(os_code_list[k])\n",
    "        spam.append(os_type_list[k])\n",
    "        main_data.append(spam)\n",
    "        \n",
    "    return main_data\n"
   ]
  },
  {
   "cell_type": "code",
   "execution_count": 20,
   "metadata": {},
   "outputs": [
    {
     "name": "stdout",
     "output_type": "stream",
     "text": [
      "[['Изготовитель системы', 'Название ОС', 'Код продукта', 'Тип системы'], ['Microsoft Corporation', 'Microsoft Windows 7 Профессиональная', '00971-OEM-1982661-00231', 'x64-based PC'], ['Microsoft Corporation', 'Microsoft Windows 10 Professional', '00971-OEM-1982661-00231', 'x64-based PC'], ['Microsoft Corporation', 'Microsoft Windows 8.1 Professional', '00971-OEM-1982661-00231', 'x86-based PC']]\n"
     ]
    }
   ],
   "source": [
    "print(get_data())"
   ]
  },
  {
   "cell_type": "markdown",
   "metadata": {},
   "source": [
    "3.Создать функцию write_to_csv(), в которую передавать ссылку на CSV-файл. В этой функции реализовать получение данных через вызов функции get_data(), а также сохранение подготовленных данных в соответствующий CSV-файл;"
   ]
  },
  {
   "cell_type": "code",
   "execution_count": 27,
   "metadata": {},
   "outputs": [],
   "source": [
    "def write_to_csv(csv_file):\n",
    "    with open(csv_file, 'w') as csv_file:\n",
    "        csv_writer = csv.writer(csv_file)\n",
    "        for row in get_data():\n",
    "            csv_writer.writerow(row)"
   ]
  },
  {
   "cell_type": "markdown",
   "metadata": {},
   "source": [
    "4.Проверить работу программы через вызов функции write_to_csv()."
   ]
  },
  {
   "cell_type": "code",
   "execution_count": 28,
   "metadata": {},
   "outputs": [],
   "source": [
    "write_to_csv('hw_csv.csv')"
   ]
  },
  {
   "cell_type": "markdown",
   "metadata": {},
   "source": [
    "5.Задание на закрепление знаний по модулю json. Есть файл orders в формате JSON с информацией о заказах. Написать скрипт, автоматизирующий его заполнение данными. Для этого:\n",
    "6.Создать функцию write_order_to_json(), в которую передается 5 параметров — товар (item), количество (quantity), цена (price), покупатель (buyer), дата (date). Функция должна предусматривать запись данных в виде словаря в файл orders.json. При записи данных указать величину отступа в 4 пробельных символа;"
   ]
  },
  {
   "cell_type": "code",
   "execution_count": 68,
   "metadata": {},
   "outputs": [],
   "source": [
    "def write_order_to_json(item, quantity, price, buyer, date):\n",
    "    order = {\n",
    "        'item': item,\n",
    "        'quantity': quantity,\n",
    "        'price': price,\n",
    "        'buyer': buyer,\n",
    "        'date': date\n",
    "    }\n",
    "    #позволит дозаписывать файл\n",
    "    spam = []\n",
    "    spam.append(order)\n",
    "    \n",
    "    with open('hw_json.json', 'w') as json_file:\n",
    "        json.dump(spam, json_file, sort_keys=True, indent=4)"
   ]
  },
  {
   "cell_type": "markdown",
   "metadata": {},
   "source": [
    "7. Проверить работу программы через вызов функции write_order_to_json() с передачей в нее значений каждого параметра."
   ]
  },
  {
   "cell_type": "code",
   "execution_count": 69,
   "metadata": {},
   "outputs": [],
   "source": [
    "write_order_to_json('bottle', 10, 15, 'mr.Smith', '10-01-2019')"
   ]
  },
  {
   "cell_type": "code",
   "execution_count": 54,
   "metadata": {},
   "outputs": [],
   "source": [
    "write_order_to_json('apple', 2, 25, 'Goodwin', '10-04-2019')"
   ]
  },
  {
   "cell_type": "code",
   "execution_count": 70,
   "metadata": {},
   "outputs": [
    {
     "name": "stdout",
     "output_type": "stream",
     "text": [
      "[{'buyer': 'mr.Smith', 'date': '10-01-2019', 'item': 'bottle', 'price': 15, 'quantity': 10}]\n"
     ]
    }
   ],
   "source": [
    "#Проверка того, что записалось в файл\n",
    "def get_data_from_json(json_file):\n",
    "    with open(json_file) as json_read_file:\n",
    "        orders = json.load(json_read_file)\n",
    "        return(orders)\n",
    "print(get_data_from_json('hw_json.json'))"
   ]
  },
  {
   "cell_type": "code",
   "execution_count": null,
   "metadata": {},
   "outputs": [],
   "source": [
    "# Функция write_order_to_json перезатирает данные. Т.е. записывается 1 строка"
   ]
  },
  {
   "cell_type": "code",
   "execution_count": 71,
   "metadata": {},
   "outputs": [],
   "source": [
    "#Изменим функцию на добавление данных\n",
    "def add_order_to_json(item, quantity, price, buyer, date):\n",
    "    order = {\n",
    "        'item': item,\n",
    "        'quantity': quantity,\n",
    "        'price': price,\n",
    "        'buyer': buyer,\n",
    "        'date': date\n",
    "    }\n",
    "    \n",
    "    with open('hw_json.json', 'ab') as json_file:\n",
    "        json_file.seek(-1, 2)\n",
    "        json_file.truncate()\n",
    "        \n",
    "    with open('hw_json.json', 'a+') as json_file:\n",
    "        json_file.write(', \\n')\n",
    "        json.dump(order, json_file, sort_keys=True, indent=4)\n",
    "        json_file.write('\\n]')\n"
   ]
  },
  {
   "cell_type": "code",
   "execution_count": 74,
   "metadata": {},
   "outputs": [],
   "source": [
    "add_order_to_json('banana', 4, 44, 'Brown', '04-04-2019')\n",
    "add_order_to_json('kiwi', 12, 22, 'Kiwi', '14-05-2019')"
   ]
  },
  {
   "cell_type": "code",
   "execution_count": 75,
   "metadata": {},
   "outputs": [
    {
     "name": "stdout",
     "output_type": "stream",
     "text": [
      "[{'buyer': 'mr.Smith', 'date': '10-01-2019', 'item': 'bottle', 'price': 15, 'quantity': 10}, {'buyer': 'Brown', 'date': '04-04-2019', 'item': 'banana', 'price': 44, 'quantity': 4}, {'buyer': 'Brown', 'date': '04-04-2019', 'item': 'banana', 'price': 44, 'quantity': 4}, {'buyer': 'Kiwi', 'date': '14-05-2019', 'item': 'kiwi', 'price': 22, 'quantity': 12}]\n"
     ]
    }
   ],
   "source": [
    "print(get_data_from_json('hw_json.json'))"
   ]
  },
  {
   "cell_type": "markdown",
   "metadata": {},
   "source": [
    "8. Задание на закрепление знаний по модулю yaml. Написать скрипт, автоматизирующий сохранение данных в файле YAML-формата. Для этого:"
   ]
  },
  {
   "cell_type": "markdown",
   "metadata": {},
   "source": [
    "9. Подготовить данные для записи в виде словаря, в котором первому ключу соответствует список, второму — целое число, третьему — вложенный словарь, где значение каждого ключа — это целое число с юникод-символом, отсутствующим в кодировке ASCII (например, €);"
   ]
  },
  {
   "cell_type": "code",
   "execution_count": 79,
   "metadata": {},
   "outputs": [],
   "source": [
    "yaml_data = {\n",
    "    'as_list':['sun', 'sea', 'beach'],\n",
    "    'as_int': 99999,\n",
    "    'as_dict': {\n",
    "        '100€': 'mango',\n",
    "        '5000€': 'bikini',\n",
    "        '79999€': 'vacation'\n",
    "    }\n",
    "}"
   ]
  },
  {
   "cell_type": "markdown",
   "metadata": {},
   "source": [
    "10. Реализовать сохранение данных в файл формата YAML — например, в файл file.yaml. При этом обеспечить стилизацию файла с помощью параметра default_flow_style, а также установить возможность работы с юникодом: allow_unicode = True;"
   ]
  },
  {
   "cell_type": "code",
   "execution_count": 82,
   "metadata": {},
   "outputs": [],
   "source": [
    "with open('file.yaml', 'w') as yaml_file:\n",
    "    yaml.dump(yaml_data, yaml_file, default_flow_style=False, allow_unicode=True)"
   ]
  },
  {
   "cell_type": "markdown",
   "metadata": {},
   "source": [
    "11. Реализовать считывание данных из созданного файла и проверить, совпадают ли они с исходными."
   ]
  },
  {
   "cell_type": "code",
   "execution_count": 83,
   "metadata": {},
   "outputs": [
    {
     "name": "stdout",
     "output_type": "stream",
     "text": [
      "as_dict:\n",
      "  100€: mango\n",
      "  5000€: bikini\n",
      "  79999€: vacation\n",
      "as_int: 99999\n",
      "as_list:\n",
      "- sun\n",
      "- sea\n",
      "- beach\n",
      "\n"
     ]
    }
   ],
   "source": [
    "with open('file.yaml') as yaml_file:\n",
    "    print(yaml_file.read())"
   ]
  },
  {
   "cell_type": "code",
   "execution_count": null,
   "metadata": {},
   "outputs": [],
   "source": []
  },
  {
   "cell_type": "code",
   "execution_count": null,
   "metadata": {},
   "outputs": [],
   "source": []
  },
  {
   "cell_type": "code",
   "execution_count": null,
   "metadata": {},
   "outputs": [],
   "source": []
  }
 ],
 "metadata": {
  "kernelspec": {
   "display_name": "Python 3",
   "language": "python",
   "name": "python3"
  },
  "language_info": {
   "codemirror_mode": {
    "name": "ipython",
    "version": 3
   },
   "file_extension": ".py",
   "mimetype": "text/x-python",
   "name": "python",
   "nbconvert_exporter": "python",
   "pygments_lexer": "ipython3",
   "version": "3.7.3"
  }
 },
 "nbformat": 4,
 "nbformat_minor": 2
}
