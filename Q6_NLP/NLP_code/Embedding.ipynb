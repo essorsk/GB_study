{
 "cells": [
  {
   "cell_type": "code",
   "execution_count": 3,
   "metadata": {
    "colab": {
     "base_uri": "https://localhost:8080/"
    },
    "executionInfo": {
     "elapsed": 32071,
     "status": "ok",
     "timestamp": 1606933353619,
     "user": {
      "displayName": "Roman Zakharov",
      "photoUrl": "",
      "userId": "18255168926005506833"
     },
     "user_tz": -180
    },
    "id": "wWzU9hqUomdU",
    "outputId": "ee62a493-d8a1-47d3-a93f-36020c36b035"
   },
   "outputs": [
    {
     "name": "stderr",
     "output_type": "stream",
     "text": [
      "\"wget\" ­Ґ пў«пҐвбп ў­гваҐ­­Ґ© Ё«Ё ў­Ґи­Ґ©\n",
      "Є®¬ ­¤®©, ЁбЇ®«­пҐ¬®© Їа®Ја ¬¬®© Ё«Ё Ї ЄҐв­л¬ д ©«®¬.\n",
      "\"unzip\" ­Ґ пў«пҐвбп ў­гваҐ­­Ґ© Ё«Ё ў­Ґи­Ґ©\n",
      "Є®¬ ­¤®©, ЁбЇ®«­пҐ¬®© Їа®Ја ¬¬®© Ё«Ё Ї ЄҐв­л¬ д ©«®¬.\n",
      "[nltk_data] Downloading package punkt to\n",
      "[nltk_data]     C:\\Users\\essor\\AppData\\Roaming\\nltk_data...\n",
      "[nltk_data]   Package punkt is already up-to-date!\n",
      "[nltk_data] Downloading package stopwords to\n",
      "[nltk_data]     C:\\Users\\essor\\AppData\\Roaming\\nltk_data...\n",
      "[nltk_data]   Package stopwords is already up-to-date!\n"
     ]
    },
    {
     "data": {
      "text/plain": [
       "True"
      ]
     },
     "execution_count": 3,
     "metadata": {},
     "output_type": "execute_result"
    }
   ],
   "source": [
    "!wget -O quora.zip -qq --no-check-certificate \"https://drive.google.com/uc?export=download&id=1ERtxpdWOgGQ3HOigqAMHTJjmOE_tWvoF\" --user\n",
    "!unzip quora.zip\n",
    "!pip install -q --upgrade nltk gensim bokeh pandas\n",
    "\n",
    "import nltk\n",
    "nltk.download('punkt')\n",
    "nltk.download('stopwords')"
   ]
  },
  {
   "cell_type": "markdown",
   "metadata": {
    "id": "VXl16AOdtlDk"
   },
   "source": [
    "# Словные эмбеддинги"
   ]
  },
  {
   "cell_type": "markdown",
   "metadata": {
    "id": "ErZ_TOu0vAOR"
   },
   "source": [
    "Все видели такие картинки (я надеюсь):\n",
    "![embeddings relations](https://www.tensorflow.org/images/linear-relationships.png)\n",
    "*From [Vector Representations of Words, Tensorflow tutorial](https://www.tensorflow.org/tutorials/representation/word2vec)*\n",
    "\n",
    "Сегодня будем заниматься такими моделями.\n",
    "\n",
    "Начнём утро с визуализаций. Идём на сайт [http://rusvectores.org/ru/](http://rusvectores.org/ru/) и смотрим, что умеют обученные модели для русского.\n",
    "\n",
    "Обратите внимание на разделы *Похожие слова* и *Калькулятор*, а также на набор моделей, которые в них можно выбирать."
   ]
  },
  {
   "cell_type": "markdown",
   "metadata": {
    "id": "FkxsGQqZNjxj"
   },
   "source": [
    "## Тренируем простую модель"
   ]
  },
  {
   "cell_type": "markdown",
   "metadata": {
    "id": "PaOn69Bg1hH-"
   },
   "source": [
    "Просто так смотреть на чужие модели, конечно, неприкольно - поэтому будем постепенно приближаться к решению конкретной задачи: [Quora Question Pairs at kaggle](https://www.kaggle.com/c/quora-question-pairs):"
   ]
  },
  {
   "cell_type": "code",
   "execution_count": 4,
   "metadata": {
    "colab": {
     "base_uri": "https://localhost:8080/",
     "height": 419
    },
    "executionInfo": {
     "elapsed": 1730,
     "status": "ok",
     "timestamp": 1606933447577,
     "user": {
      "displayName": "Roman Zakharov",
      "photoUrl": "",
      "userId": "18255168926005506833"
     },
     "user_tz": -180
    },
    "id": "K-X7I7nc1gyS",
    "outputId": "afb8eace-9493-4fce-ec6e-6297b2df4807"
   },
   "outputs": [
    {
     "ename": "FileNotFoundError",
     "evalue": "[Errno 2] No such file or directory: 'train.csv'",
     "output_type": "error",
     "traceback": [
      "\u001b[1;31m---------------------------------------------------------------------------\u001b[0m",
      "\u001b[1;31mFileNotFoundError\u001b[0m                         Traceback (most recent call last)",
      "\u001b[1;32m<ipython-input-4-6e6944e841e7>\u001b[0m in \u001b[0;36m<module>\u001b[1;34m\u001b[0m\n\u001b[0;32m      1\u001b[0m \u001b[1;32mimport\u001b[0m \u001b[0mpandas\u001b[0m \u001b[1;32mas\u001b[0m \u001b[0mpd\u001b[0m\u001b[1;33m\u001b[0m\u001b[1;33m\u001b[0m\u001b[0m\n\u001b[0;32m      2\u001b[0m \u001b[1;33m\u001b[0m\u001b[0m\n\u001b[1;32m----> 3\u001b[1;33m \u001b[0mquora_data\u001b[0m \u001b[1;33m=\u001b[0m \u001b[0mpd\u001b[0m\u001b[1;33m.\u001b[0m\u001b[0mread_csv\u001b[0m\u001b[1;33m(\u001b[0m\u001b[1;34m'train.csv'\u001b[0m\u001b[1;33m)\u001b[0m\u001b[1;33m\u001b[0m\u001b[1;33m\u001b[0m\u001b[0m\n\u001b[0m\u001b[0;32m      4\u001b[0m \u001b[1;33m\u001b[0m\u001b[0m\n\u001b[0;32m      5\u001b[0m \u001b[0mquora_data\u001b[0m\u001b[1;33m\u001b[0m\u001b[1;33m\u001b[0m\u001b[0m\n",
      "\u001b[1;32mC:\\Programs\\anaconda3\\lib\\site-packages\\pandas\\io\\parsers.py\u001b[0m in \u001b[0;36mread_csv\u001b[1;34m(filepath_or_buffer, sep, delimiter, header, names, index_col, usecols, squeeze, prefix, mangle_dupe_cols, dtype, engine, converters, true_values, false_values, skipinitialspace, skiprows, skipfooter, nrows, na_values, keep_default_na, na_filter, verbose, skip_blank_lines, parse_dates, infer_datetime_format, keep_date_col, date_parser, dayfirst, cache_dates, iterator, chunksize, compression, thousands, decimal, lineterminator, quotechar, quoting, doublequote, escapechar, comment, encoding, dialect, error_bad_lines, warn_bad_lines, delim_whitespace, low_memory, memory_map, float_precision)\u001b[0m\n\u001b[0;32m    686\u001b[0m     )\n\u001b[0;32m    687\u001b[0m \u001b[1;33m\u001b[0m\u001b[0m\n\u001b[1;32m--> 688\u001b[1;33m     \u001b[1;32mreturn\u001b[0m \u001b[0m_read\u001b[0m\u001b[1;33m(\u001b[0m\u001b[0mfilepath_or_buffer\u001b[0m\u001b[1;33m,\u001b[0m \u001b[0mkwds\u001b[0m\u001b[1;33m)\u001b[0m\u001b[1;33m\u001b[0m\u001b[1;33m\u001b[0m\u001b[0m\n\u001b[0m\u001b[0;32m    689\u001b[0m \u001b[1;33m\u001b[0m\u001b[0m\n\u001b[0;32m    690\u001b[0m \u001b[1;33m\u001b[0m\u001b[0m\n",
      "\u001b[1;32mC:\\Programs\\anaconda3\\lib\\site-packages\\pandas\\io\\parsers.py\u001b[0m in \u001b[0;36m_read\u001b[1;34m(filepath_or_buffer, kwds)\u001b[0m\n\u001b[0;32m    452\u001b[0m \u001b[1;33m\u001b[0m\u001b[0m\n\u001b[0;32m    453\u001b[0m     \u001b[1;31m# Create the parser.\u001b[0m\u001b[1;33m\u001b[0m\u001b[1;33m\u001b[0m\u001b[1;33m\u001b[0m\u001b[0m\n\u001b[1;32m--> 454\u001b[1;33m     \u001b[0mparser\u001b[0m \u001b[1;33m=\u001b[0m \u001b[0mTextFileReader\u001b[0m\u001b[1;33m(\u001b[0m\u001b[0mfp_or_buf\u001b[0m\u001b[1;33m,\u001b[0m \u001b[1;33m**\u001b[0m\u001b[0mkwds\u001b[0m\u001b[1;33m)\u001b[0m\u001b[1;33m\u001b[0m\u001b[1;33m\u001b[0m\u001b[0m\n\u001b[0m\u001b[0;32m    455\u001b[0m \u001b[1;33m\u001b[0m\u001b[0m\n\u001b[0;32m    456\u001b[0m     \u001b[1;32mif\u001b[0m \u001b[0mchunksize\u001b[0m \u001b[1;32mor\u001b[0m \u001b[0miterator\u001b[0m\u001b[1;33m:\u001b[0m\u001b[1;33m\u001b[0m\u001b[1;33m\u001b[0m\u001b[0m\n",
      "\u001b[1;32mC:\\Programs\\anaconda3\\lib\\site-packages\\pandas\\io\\parsers.py\u001b[0m in \u001b[0;36m__init__\u001b[1;34m(self, f, engine, **kwds)\u001b[0m\n\u001b[0;32m    946\u001b[0m             \u001b[0mself\u001b[0m\u001b[1;33m.\u001b[0m\u001b[0moptions\u001b[0m\u001b[1;33m[\u001b[0m\u001b[1;34m\"has_index_names\"\u001b[0m\u001b[1;33m]\u001b[0m \u001b[1;33m=\u001b[0m \u001b[0mkwds\u001b[0m\u001b[1;33m[\u001b[0m\u001b[1;34m\"has_index_names\"\u001b[0m\u001b[1;33m]\u001b[0m\u001b[1;33m\u001b[0m\u001b[1;33m\u001b[0m\u001b[0m\n\u001b[0;32m    947\u001b[0m \u001b[1;33m\u001b[0m\u001b[0m\n\u001b[1;32m--> 948\u001b[1;33m         \u001b[0mself\u001b[0m\u001b[1;33m.\u001b[0m\u001b[0m_make_engine\u001b[0m\u001b[1;33m(\u001b[0m\u001b[0mself\u001b[0m\u001b[1;33m.\u001b[0m\u001b[0mengine\u001b[0m\u001b[1;33m)\u001b[0m\u001b[1;33m\u001b[0m\u001b[1;33m\u001b[0m\u001b[0m\n\u001b[0m\u001b[0;32m    949\u001b[0m \u001b[1;33m\u001b[0m\u001b[0m\n\u001b[0;32m    950\u001b[0m     \u001b[1;32mdef\u001b[0m \u001b[0mclose\u001b[0m\u001b[1;33m(\u001b[0m\u001b[0mself\u001b[0m\u001b[1;33m)\u001b[0m\u001b[1;33m:\u001b[0m\u001b[1;33m\u001b[0m\u001b[1;33m\u001b[0m\u001b[0m\n",
      "\u001b[1;32mC:\\Programs\\anaconda3\\lib\\site-packages\\pandas\\io\\parsers.py\u001b[0m in \u001b[0;36m_make_engine\u001b[1;34m(self, engine)\u001b[0m\n\u001b[0;32m   1178\u001b[0m     \u001b[1;32mdef\u001b[0m \u001b[0m_make_engine\u001b[0m\u001b[1;33m(\u001b[0m\u001b[0mself\u001b[0m\u001b[1;33m,\u001b[0m \u001b[0mengine\u001b[0m\u001b[1;33m=\u001b[0m\u001b[1;34m\"c\"\u001b[0m\u001b[1;33m)\u001b[0m\u001b[1;33m:\u001b[0m\u001b[1;33m\u001b[0m\u001b[1;33m\u001b[0m\u001b[0m\n\u001b[0;32m   1179\u001b[0m         \u001b[1;32mif\u001b[0m \u001b[0mengine\u001b[0m \u001b[1;33m==\u001b[0m \u001b[1;34m\"c\"\u001b[0m\u001b[1;33m:\u001b[0m\u001b[1;33m\u001b[0m\u001b[1;33m\u001b[0m\u001b[0m\n\u001b[1;32m-> 1180\u001b[1;33m             \u001b[0mself\u001b[0m\u001b[1;33m.\u001b[0m\u001b[0m_engine\u001b[0m \u001b[1;33m=\u001b[0m \u001b[0mCParserWrapper\u001b[0m\u001b[1;33m(\u001b[0m\u001b[0mself\u001b[0m\u001b[1;33m.\u001b[0m\u001b[0mf\u001b[0m\u001b[1;33m,\u001b[0m \u001b[1;33m**\u001b[0m\u001b[0mself\u001b[0m\u001b[1;33m.\u001b[0m\u001b[0moptions\u001b[0m\u001b[1;33m)\u001b[0m\u001b[1;33m\u001b[0m\u001b[1;33m\u001b[0m\u001b[0m\n\u001b[0m\u001b[0;32m   1181\u001b[0m         \u001b[1;32melse\u001b[0m\u001b[1;33m:\u001b[0m\u001b[1;33m\u001b[0m\u001b[1;33m\u001b[0m\u001b[0m\n\u001b[0;32m   1182\u001b[0m             \u001b[1;32mif\u001b[0m \u001b[0mengine\u001b[0m \u001b[1;33m==\u001b[0m \u001b[1;34m\"python\"\u001b[0m\u001b[1;33m:\u001b[0m\u001b[1;33m\u001b[0m\u001b[1;33m\u001b[0m\u001b[0m\n",
      "\u001b[1;32mC:\\Programs\\anaconda3\\lib\\site-packages\\pandas\\io\\parsers.py\u001b[0m in \u001b[0;36m__init__\u001b[1;34m(self, src, **kwds)\u001b[0m\n\u001b[0;32m   2008\u001b[0m         \u001b[0mkwds\u001b[0m\u001b[1;33m[\u001b[0m\u001b[1;34m\"usecols\"\u001b[0m\u001b[1;33m]\u001b[0m \u001b[1;33m=\u001b[0m \u001b[0mself\u001b[0m\u001b[1;33m.\u001b[0m\u001b[0musecols\u001b[0m\u001b[1;33m\u001b[0m\u001b[1;33m\u001b[0m\u001b[0m\n\u001b[0;32m   2009\u001b[0m \u001b[1;33m\u001b[0m\u001b[0m\n\u001b[1;32m-> 2010\u001b[1;33m         \u001b[0mself\u001b[0m\u001b[1;33m.\u001b[0m\u001b[0m_reader\u001b[0m \u001b[1;33m=\u001b[0m \u001b[0mparsers\u001b[0m\u001b[1;33m.\u001b[0m\u001b[0mTextReader\u001b[0m\u001b[1;33m(\u001b[0m\u001b[0msrc\u001b[0m\u001b[1;33m,\u001b[0m \u001b[1;33m**\u001b[0m\u001b[0mkwds\u001b[0m\u001b[1;33m)\u001b[0m\u001b[1;33m\u001b[0m\u001b[1;33m\u001b[0m\u001b[0m\n\u001b[0m\u001b[0;32m   2011\u001b[0m         \u001b[0mself\u001b[0m\u001b[1;33m.\u001b[0m\u001b[0munnamed_cols\u001b[0m \u001b[1;33m=\u001b[0m \u001b[0mself\u001b[0m\u001b[1;33m.\u001b[0m\u001b[0m_reader\u001b[0m\u001b[1;33m.\u001b[0m\u001b[0munnamed_cols\u001b[0m\u001b[1;33m\u001b[0m\u001b[1;33m\u001b[0m\u001b[0m\n\u001b[0;32m   2012\u001b[0m \u001b[1;33m\u001b[0m\u001b[0m\n",
      "\u001b[1;32mpandas\\_libs\\parsers.pyx\u001b[0m in \u001b[0;36mpandas._libs.parsers.TextReader.__cinit__\u001b[1;34m()\u001b[0m\n",
      "\u001b[1;32mpandas\\_libs\\parsers.pyx\u001b[0m in \u001b[0;36mpandas._libs.parsers.TextReader._setup_parser_source\u001b[1;34m()\u001b[0m\n",
      "\u001b[1;31mFileNotFoundError\u001b[0m: [Errno 2] No such file or directory: 'train.csv'"
     ]
    }
   ],
   "source": [
    "import pandas as pd\n",
    "\n",
    "quora_data = pd.read_csv('train.csv')\n",
    "\n",
    "quora_data"
   ]
  },
  {
   "cell_type": "markdown",
   "metadata": {
    "id": "p13HdkzWKtKe"
   },
   "source": [
    "Поучим на этих текстах Word2vec из gensim. \n",
    "\n",
    "Для начала объединим все тексты."
   ]
  },
  {
   "cell_type": "code",
   "execution_count": 3,
   "metadata": {
    "colab": {
     "base_uri": "https://localhost:8080/"
    },
    "executionInfo": {
     "elapsed": 1407,
     "status": "ok",
     "timestamp": 1606933455903,
     "user": {
      "displayName": "Roman Zakharov",
      "photoUrl": "",
      "userId": "18255168926005506833"
     },
     "user_tz": -180
    },
    "id": "Mchv4fS_21OX",
    "outputId": "b114688c-439e-4b3a-b08b-f71760b1f230"
   },
   "outputs": [
    {
     "data": {
      "text/plain": [
       "['What is the step by step guide to invest in share market in india?',\n",
       " 'What is the story of Kohinoor (Koh-i-Noor) Diamond?',\n",
       " 'How can I increase the speed of my internet connection while using a VPN?',\n",
       " 'Why am I mentally very lonely? How can I solve it?',\n",
       " 'Which one dissolve in water quikly sugar, salt, methane and carbon di oxide?',\n",
       " 'Astrology: I am a Capricorn Sun Cap moon and cap rising...what does that say about me?',\n",
       " 'Should I buy tiago?',\n",
       " 'How can I be a good geologist?',\n",
       " 'When do you use シ instead of し?',\n",
       " 'Motorola (company): Can I hack my Charter Motorolla DCX3400?']"
      ]
     },
     "execution_count": 3,
     "metadata": {
      "tags": []
     },
     "output_type": "execute_result"
    }
   ],
   "source": [
    "import numpy as np\n",
    "\n",
    "quora_data.question1 = quora_data.question1.replace(np.nan, '', regex=True)\n",
    "quora_data.question2 = quora_data.question2.replace(np.nan, '', regex=True)\n",
    "\n",
    "texts = list(pd.concat([quora_data.question1, quora_data.question2]).unique())\n",
    "texts[:10]"
   ]
  },
  {
   "cell_type": "markdown",
   "metadata": {
    "id": "-hZMFAmvK5b7"
   },
   "source": [
    "Для токенизации проще всего воспользоваться `nltk` (он быстрее `spacy`, но может быть хуже в отдельных случаях)."
   ]
  },
  {
   "cell_type": "code",
   "execution_count": 4,
   "metadata": {
    "colab": {
     "base_uri": "https://localhost:8080/"
    },
    "executionInfo": {
     "elapsed": 565,
     "status": "ok",
     "timestamp": 1606933459084,
     "user": {
      "displayName": "Roman Zakharov",
      "photoUrl": "",
      "userId": "18255168926005506833"
     },
     "user_tz": -180
    },
    "id": "LTxolf8nLM-n",
    "outputId": "f7d1a9b5-77df-4be8-a199-ed05452769a3"
   },
   "outputs": [
    {
     "data": {
      "text/plain": [
       "['What',\n",
       " 'is',\n",
       " 'the',\n",
       " 'step',\n",
       " 'by',\n",
       " 'step',\n",
       " 'guide',\n",
       " 'to',\n",
       " 'invest',\n",
       " 'in',\n",
       " 'share',\n",
       " 'market',\n",
       " 'in',\n",
       " 'india',\n",
       " '?']"
      ]
     },
     "execution_count": 4,
     "metadata": {
      "tags": []
     },
     "output_type": "execute_result"
    }
   ],
   "source": [
    "from nltk.tokenize import word_tokenize\n",
    "\n",
    "word_tokenize(texts[0])"
   ]
  },
  {
   "cell_type": "markdown",
   "metadata": {
    "id": "fuJceE4JLRxK"
   },
   "source": [
    "**Задание** Приведите все тексты к нижнему регистру и токенизируйте их."
   ]
  },
  {
   "cell_type": "code",
   "execution_count": 5,
   "metadata": {
    "executionInfo": {
     "elapsed": 81940,
     "status": "ok",
     "timestamp": 1606933547576,
     "user": {
      "displayName": "Roman Zakharov",
      "photoUrl": "",
      "userId": "18255168926005506833"
     },
     "user_tz": -180
    },
    "id": "a7XbnSdt4REg"
   },
   "outputs": [],
   "source": [
    "tokenized_texts = [word_tokenize(sent.lower()) for sent in texts]\n",
    "\n",
    "assert all(isinstance(row, (list, tuple)) for row in tokenized_texts), \\\n",
    "    \"please convert each line into a list of tokens\"\n",
    "assert all(all(isinstance(tok, str) for tok in row) for row in tokenized_texts), \\\n",
    "    \"please convert each line into a list of tokens\"\n",
    "\n",
    "is_latin = lambda tok: all('a' <= x.lower() <= 'z' for x in tok)\n",
    "assert all(not is_latin(token) or token.islower() for tokens in tokenized_texts for token in tokens),\\\n",
    "    \"please lowercase each line\""
   ]
  },
  {
   "cell_type": "code",
   "execution_count": null,
   "metadata": {
    "colab": {
     "base_uri": "https://localhost:8080/"
    },
    "id": "irl7RotC5C_B",
    "outputId": "607aa794-3784-41be-f059-4c1d3e4736d1"
   },
   "outputs": [
    {
     "name": "stdout",
     "output_type": "stream",
     "text": [
      "['what is the step by step guide to invest in share market in india ?', 'what is the story of kohinoor ( koh-i-noor ) diamond ?']\n"
     ]
    }
   ],
   "source": [
    "print([' '.join(row) for row in tokenized_texts[:2]])"
   ]
  },
  {
   "cell_type": "markdown",
   "metadata": {
    "id": "9kj4dC3iLdwH"
   },
   "source": [
    "Потренируем небольшую модель на полученных текстах:"
   ]
  },
  {
   "cell_type": "code",
   "execution_count": 8,
   "metadata": {
    "colab": {
     "base_uri": "https://localhost:8080/"
    },
    "executionInfo": {
     "elapsed": 653,
     "status": "ok",
     "timestamp": 1606933689899,
     "user": {
      "displayName": "Roman Zakharov",
      "photoUrl": "",
      "userId": "18255168926005506833"
     },
     "user_tz": -180
    },
    "id": "txCXtEQMtiGS",
    "outputId": "877f20ef-b982-4827-9951-e8b9df4bbdac"
   },
   "outputs": [
    {
     "data": {
      "text/plain": [
       "['what',\n",
       " 'is',\n",
       " 'the',\n",
       " 'step',\n",
       " 'by',\n",
       " 'step',\n",
       " 'guide',\n",
       " 'to',\n",
       " 'invest',\n",
       " 'in',\n",
       " 'share',\n",
       " 'market',\n",
       " 'in',\n",
       " 'india',\n",
       " '?']"
      ]
     },
     "execution_count": 8,
     "metadata": {
      "tags": []
     },
     "output_type": "execute_result"
    }
   ],
   "source": [
    "tokenized_texts[0]"
   ]
  },
  {
   "cell_type": "code",
   "execution_count": 6,
   "metadata": {
    "executionInfo": {
     "elapsed": 45087,
     "status": "ok",
     "timestamp": 1606933592670,
     "user": {
      "displayName": "Roman Zakharov",
      "photoUrl": "",
      "userId": "18255168926005506833"
     },
     "user_tz": -180
    },
    "id": "9GNuiLio8M25"
   },
   "outputs": [],
   "source": [
    "from gensim.models import Word2Vec\n",
    "\n",
    "model = Word2Vec(tokenized_texts, \n",
    "                 size=32,      # embedding vector size\n",
    "                 min_count=5,  # consider words that occured at least 5 times\n",
    "                 window=5).wv  # define context as a 5-word window around the target word"
   ]
  },
  {
   "cell_type": "markdown",
   "metadata": {
    "id": "JclToDJMNwTy"
   },
   "source": [
    "## Изучаем полученную модель"
   ]
  },
  {
   "cell_type": "markdown",
   "metadata": {
    "id": "JBVR2kY7LkCs"
   },
   "source": [
    "Ура, теперь можно делать то же, что было на `rusvectores`.\n",
    "\n",
    "Получить вектор для слова:"
   ]
  },
  {
   "cell_type": "code",
   "execution_count": 9,
   "metadata": {
    "colab": {
     "base_uri": "https://localhost:8080/"
    },
    "executionInfo": {
     "elapsed": 662,
     "status": "ok",
     "timestamp": 1606933732468,
     "user": {
      "displayName": "Roman Zakharov",
      "photoUrl": "",
      "userId": "18255168926005506833"
     },
     "user_tz": -180
    },
    "id": "Puxm-2BXtsgi",
    "outputId": "290711a3-1d6c-453f-d90f-7de5f2d25207"
   },
   "outputs": [
    {
     "data": {
      "text/plain": [
       "True"
      ]
     },
     "execution_count": 9,
     "metadata": {
      "tags": []
     },
     "output_type": "execute_result"
    }
   ],
   "source": [
    "'anything' in model"
   ]
  },
  {
   "cell_type": "code",
   "execution_count": null,
   "metadata": {
    "colab": {
     "base_uri": "https://localhost:8080/"
    },
    "id": "Jk6Fgraj-j3c",
    "outputId": "4f822f7a-36a7-42e7-d6da-8a92675e49e8"
   },
   "outputs": [
    {
     "data": {
      "text/plain": [
       "array([-0.7088063 , -0.08742373,  0.17023495,  2.176287  , -1.6507765 ,\n",
       "       -1.2561455 ,  5.2951593 ,  1.5956315 ,  1.2569283 , -1.7771627 ,\n",
       "       -3.5239456 , -2.890451  , -1.6995195 , -2.9698584 , -1.0579203 ,\n",
       "       -3.5144763 , -1.1888089 , -2.6538079 ,  0.2862059 , -1.2335125 ,\n",
       "        3.1666384 ,  0.7573509 ,  1.0290158 ,  0.3397587 , -0.17802581,\n",
       "        1.3889873 , -0.07359012,  0.13895333, -3.1317606 ,  0.28615272,\n",
       "       -2.1872644 , -0.2966659 ], dtype=float32)"
      ]
     },
     "execution_count": 10,
     "metadata": {
      "tags": []
     },
     "output_type": "execute_result"
    }
   ],
   "source": [
    "model.get_vector('anything')"
   ]
  },
  {
   "cell_type": "code",
   "execution_count": null,
   "metadata": {
    "colab": {
     "base_uri": "https://localhost:8080/"
    },
    "id": "54Ul5oYfI-cB",
    "outputId": "9e707352-bb42-4f41-ed28-13126dff746c"
   },
   "outputs": [
    {
     "data": {
      "text/plain": [
       "array([-0.7088063 , -0.08742373,  0.17023495,  2.176287  , -1.6507765 ,\n",
       "       -1.2561455 ,  5.2951593 ,  1.5956315 ,  1.2569283 , -1.7771627 ,\n",
       "       -3.5239456 , -2.890451  , -1.6995195 , -2.9698584 , -1.0579203 ,\n",
       "       -3.5144763 , -1.1888089 , -2.6538079 ,  0.2862059 , -1.2335125 ,\n",
       "        3.1666384 ,  0.7573509 ,  1.0290158 ,  0.3397587 , -0.17802581,\n",
       "        1.3889873 , -0.07359012,  0.13895333, -3.1317606 ,  0.28615272,\n",
       "       -2.1872644 , -0.2966659 ], dtype=float32)"
      ]
     },
     "execution_count": 11,
     "metadata": {
      "tags": []
     },
     "output_type": "execute_result"
    }
   ],
   "source": [
    "model['anything']"
   ]
  },
  {
   "cell_type": "markdown",
   "metadata": {
    "id": "qHKRy7HyLuxH"
   },
   "source": [
    "Найти наиболее близкие слова:"
   ]
  },
  {
   "cell_type": "code",
   "execution_count": null,
   "metadata": {
    "colab": {
     "base_uri": "https://localhost:8080/"
    },
    "id": "toyNzyTB-p70",
    "outputId": "72f8a204-7f38-44fa-9ab5-bf9b92f57f88"
   },
   "outputs": [
    {
     "data": {
      "text/plain": [
       "[('rice', 0.9666162729263306),\n",
       " ('potato', 0.9378440380096436),\n",
       " ('butter', 0.9348654747009277),\n",
       " ('sauce', 0.9340432286262512),\n",
       " ('cheese', 0.928983211517334),\n",
       " ('vodka', 0.9260724186897278),\n",
       " ('wine', 0.9223043918609619),\n",
       " ('beans', 0.9091817736625671),\n",
       " ('fruit', 0.905143141746521),\n",
       " ('cream', 0.9042878746986389)]"
      ]
     },
     "execution_count": 12,
     "metadata": {
      "tags": []
     },
     "output_type": "execute_result"
    }
   ],
   "source": [
    "model.most_similar('bread')"
   ]
  },
  {
   "cell_type": "markdown",
   "metadata": {
    "id": "A510z5gTL00E"
   },
   "source": [
    "Или даже так:"
   ]
  },
  {
   "cell_type": "code",
   "execution_count": null,
   "metadata": {
    "colab": {
     "base_uri": "https://localhost:8080/"
    },
    "id": "j2A_DF5E-ucq",
    "outputId": "e6392f8d-2a18-4aa9-e5df-9f0a1fdd5e23"
   },
   "outputs": [
    {
     "data": {
      "text/plain": [
       "[('writer', 0.6438388228416443),\n",
       " ('millionaire', 0.6131855845451355),\n",
       " ('poker', 0.6076937913894653),\n",
       " ('mvp', 0.6074710488319397),\n",
       " ('guest', 0.6060114502906799),\n",
       " ('youtuber', 0.6056016683578491),\n",
       " ('photographer', 0.6051881313323975),\n",
       " ('b-school', 0.6033489108085632),\n",
       " ('badminton', 0.5985411405563354),\n",
       " ('freelancer', 0.5967340469360352)]"
      ]
     },
     "execution_count": 14,
     "metadata": {
      "tags": []
     },
     "output_type": "execute_result"
    }
   ],
   "source": [
    "model.most_similar(positive=['coder', 'money'], negative=['brain'])"
   ]
  },
  {
   "cell_type": "markdown",
   "metadata": {
    "id": "H-_uKG4vNIJv"
   },
   "source": [
    "И так, конечно:"
   ]
  },
  {
   "cell_type": "code",
   "execution_count": null,
   "metadata": {
    "colab": {
     "base_uri": "https://localhost:8080/"
    },
    "id": "l_mzQgi4L474",
    "outputId": "3e957c5d-6f24-4d45-f5ef-a8e1ba3574a1"
   },
   "outputs": [
    {
     "data": {
      "text/plain": [
       "[('romantic', 0.7040387392044067),\n",
       " ('ladies', 0.6729949712753296),\n",
       " ('actress', 0.6638922095298767),\n",
       " ('charming', 0.6489630341529846),\n",
       " ('handsome', 0.6449309587478638),\n",
       " ('bhatt', 0.6344743967056274),\n",
       " ('toys', 0.6303091049194336),\n",
       " ('erotic', 0.6140333414077759),\n",
       " ('solo', 0.6115115880966187),\n",
       " ('bieber', 0.6079466342926025)]"
      ]
     },
     "execution_count": 15,
     "metadata": {
      "tags": []
     },
     "output_type": "execute_result"
    }
   ],
   "source": [
    "model.most_similar([model.get_vector('politician') - model.get_vector('power') + model.get_vector('honesty')])"
   ]
  },
  {
   "cell_type": "markdown",
   "metadata": {
    "id": "y5BAEyMyL2kx"
   },
   "source": [
    "**Задание** Поищите аналогии самостоятельно. "
   ]
  },
  {
   "cell_type": "markdown",
   "metadata": {
    "id": "1FYuh4DKN1Fd"
   },
   "source": [
    "## Визуализируем модель"
   ]
  },
  {
   "cell_type": "markdown",
   "metadata": {
    "id": "OdT0eIEiN4Ja"
   },
   "source": [
    "Посмотрим на проекции первых тысячи самых частотных слов."
   ]
  },
  {
   "cell_type": "code",
   "execution_count": 7,
   "metadata": {
    "colab": {
     "base_uri": "https://localhost:8080/"
    },
    "executionInfo": {
     "elapsed": 676,
     "status": "ok",
     "timestamp": 1606933645275,
     "user": {
      "displayName": "Roman Zakharov",
      "photoUrl": "",
      "userId": "18255168926005506833"
     },
     "user_tz": -180
    },
    "id": "d1e9yS0zBr6j",
    "outputId": "d2813406-8b1f-41f1-e1e4-4a101f4a69ee"
   },
   "outputs": [
    {
     "name": "stdout",
     "output_type": "stream",
     "text": [
      "['?', 'money', 'study', 's', 'because', 'physics', 'says', 'view', 'users', 'pressure']\n"
     ]
    }
   ],
   "source": [
    "words = sorted(model.vocab.keys(), \n",
    "               key=lambda word: model.vocab[word].count,\n",
    "               reverse=True)[:1000]\n",
    "\n",
    "print(words[::100])"
   ]
  },
  {
   "cell_type": "markdown",
   "metadata": {
    "id": "0Yk5pgMXOESS"
   },
   "source": [
    "**Задание** Постройте матрицу из эмбеддингов этих слов:"
   ]
  },
  {
   "cell_type": "code",
   "execution_count": null,
   "metadata": {
    "id": "kQu724f2CAh0"
   },
   "outputs": [],
   "source": [
    "word_vectors = model.vectors[[model.vocab[word].index for word in words]]\n",
    "\n",
    "assert isinstance(word_vectors, np.ndarray)\n",
    "assert word_vectors.shape == (len(words), model.vectors.shape[1])\n",
    "assert np.isfinite(word_vectors).all()"
   ]
  },
  {
   "cell_type": "markdown",
   "metadata": {
    "id": "f7cgxin-OTvK"
   },
   "source": [
    "### PCA\n",
    "\n",
    "Простейший линейный метод сокращения размерностей - __P__rincipial __C__omponent __A__nalysis.\n",
    "\n",
    "PCA ищет оси, при проекции на которые данные будут иметь наибольший разброс.\n",
    "\n",
    "![pca](https://i.stack.imgur.com/Q7HIP.gif)\n",
    "*From [https://stats.stackexchange.com/a/140579](https://stats.stackexchange.com/a/140579)*\n",
    "\n",
    "В результате, можно взять проекции на несколько первых компонент - и сохранить как можно больше информации, сократив размерность.\n",
    "\n",
    "Красивые визуализации можно найти [здесь](http://setosa.io/ev/principal-component-analysis/).\n",
    "\n",
    "**Задание** Воспользуйтесь PCA из sklearn, а потом центрируйте и нормируйте результат."
   ]
  },
  {
   "cell_type": "code",
   "execution_count": null,
   "metadata": {
    "id": "V0fQKZw2Css4"
   },
   "outputs": [],
   "source": [
    "from sklearn.decomposition import PCA\n",
    "\n",
    "def get_pca_projection(word_vectors):\n",
    "    return PCA(n_components=2).fit_transform(word_vectors)"
   ]
  },
  {
   "cell_type": "code",
   "execution_count": null,
   "metadata": {
    "id": "a_9VtLl9CviW"
   },
   "outputs": [],
   "source": [
    "word_vectors_pca = PCA(n_components=2).fit_transform(word_vectors)\n",
    "\n",
    "assert word_vectors_pca.shape == (len(word_vectors), 2), \"there must be a 2d vector for each word\"\n",
    "assert max(abs(word_vectors_pca.mean(0))) < 1e-5, \"points must be zero-centered\"\n",
    "#assert max(abs(1 - word_vectors_pca.std(0))) < 1e-5, \"points must have unit variance\""
   ]
  },
  {
   "cell_type": "markdown",
   "metadata": {
    "id": "jGyvhrk7Rlyt"
   },
   "source": [
    "Визуализируем то, что получилось:"
   ]
  },
  {
   "cell_type": "code",
   "execution_count": null,
   "metadata": {
    "id": "1U58YxF3Cx0W"
   },
   "outputs": [],
   "source": [
    "import bokeh.models as bm, bokeh.plotting as pl\n",
    "from bokeh.io import output_notebook\n",
    "\n",
    "def draw_vectors(x, y, radius=10, alpha=0.25, color='blue',\n",
    "                 width=600, height=400, show=True, **kwargs):\n",
    "    \"\"\" draws an interactive plot for data points with auxilirary info on hover \"\"\"\n",
    "    output_notebook()\n",
    "    \n",
    "    if isinstance(color, str): \n",
    "        color = [color] * len(x)\n",
    "    data_source = bm.ColumnDataSource({ 'x' : x, 'y' : y, 'color': color, **kwargs })\n",
    "\n",
    "    fig = pl.figure(active_scroll='wheel_zoom', width=width, height=height)\n",
    "    fig.scatter('x', 'y', size=radius, color='color', alpha=alpha, source=data_source)\n",
    "\n",
    "    fig.add_tools(bm.HoverTool(tooltips=[(key, \"@\" + key) for key in kwargs.keys()]))\n",
    "    if show: \n",
    "        pl.show(fig)\n",
    "    return fig"
   ]
  },
  {
   "cell_type": "code",
   "execution_count": null,
   "metadata": {
    "colab": {
     "base_uri": "https://localhost:8080/",
     "height": 434
    },
    "id": "qBljy2hCC1qX",
    "outputId": "a9b9ece8-4e35-4d2f-be1e-83cf1a9f159a"
   },
   "outputs": [
    {
     "data": {
      "application/javascript": [
       "\n",
       "(function(root) {\n",
       "  function now() {\n",
       "    return new Date();\n",
       "  }\n",
       "\n",
       "  var force = true;\n",
       "\n",
       "  if (typeof root._bokeh_onload_callbacks === \"undefined\" || force === true) {\n",
       "    root._bokeh_onload_callbacks = [];\n",
       "    root._bokeh_is_loading = undefined;\n",
       "  }\n",
       "\n",
       "  var JS_MIME_TYPE = 'application/javascript';\n",
       "  var HTML_MIME_TYPE = 'text/html';\n",
       "  var EXEC_MIME_TYPE = 'application/vnd.bokehjs_exec.v0+json';\n",
       "  var CLASS_NAME = 'output_bokeh rendered_html';\n",
       "\n",
       "  /**\n",
       "   * Render data to the DOM node\n",
       "   */\n",
       "  function render(props, node) {\n",
       "    var script = document.createElement(\"script\");\n",
       "    node.appendChild(script);\n",
       "  }\n",
       "\n",
       "  /**\n",
       "   * Handle when an output is cleared or removed\n",
       "   */\n",
       "  function handleClearOutput(event, handle) {\n",
       "    var cell = handle.cell;\n",
       "\n",
       "    var id = cell.output_area._bokeh_element_id;\n",
       "    var server_id = cell.output_area._bokeh_server_id;\n",
       "    // Clean up Bokeh references\n",
       "    if (id != null && id in Bokeh.index) {\n",
       "      Bokeh.index[id].model.document.clear();\n",
       "      delete Bokeh.index[id];\n",
       "    }\n",
       "\n",
       "    if (server_id !== undefined) {\n",
       "      // Clean up Bokeh references\n",
       "      var cmd = \"from bokeh.io.state import curstate; print(curstate().uuid_to_server['\" + server_id + \"'].get_sessions()[0].document.roots[0]._id)\";\n",
       "      cell.notebook.kernel.execute(cmd, {\n",
       "        iopub: {\n",
       "          output: function(msg) {\n",
       "            var id = msg.content.text.trim();\n",
       "            if (id in Bokeh.index) {\n",
       "              Bokeh.index[id].model.document.clear();\n",
       "              delete Bokeh.index[id];\n",
       "            }\n",
       "          }\n",
       "        }\n",
       "      });\n",
       "      // Destroy server and session\n",
       "      var cmd = \"import bokeh.io.notebook as ion; ion.destroy_server('\" + server_id + \"')\";\n",
       "      cell.notebook.kernel.execute(cmd);\n",
       "    }\n",
       "  }\n",
       "\n",
       "  /**\n",
       "   * Handle when a new output is added\n",
       "   */\n",
       "  function handleAddOutput(event, handle) {\n",
       "    var output_area = handle.output_area;\n",
       "    var output = handle.output;\n",
       "\n",
       "    // limit handleAddOutput to display_data with EXEC_MIME_TYPE content only\n",
       "    if ((output.output_type != \"display_data\") || (!output.data.hasOwnProperty(EXEC_MIME_TYPE))) {\n",
       "      return\n",
       "    }\n",
       "\n",
       "    var toinsert = output_area.element.find(\".\" + CLASS_NAME.split(' ')[0]);\n",
       "\n",
       "    if (output.metadata[EXEC_MIME_TYPE][\"id\"] !== undefined) {\n",
       "      toinsert[toinsert.length - 1].firstChild.textContent = output.data[JS_MIME_TYPE];\n",
       "      // store reference to embed id on output_area\n",
       "      output_area._bokeh_element_id = output.metadata[EXEC_MIME_TYPE][\"id\"];\n",
       "    }\n",
       "    if (output.metadata[EXEC_MIME_TYPE][\"server_id\"] !== undefined) {\n",
       "      var bk_div = document.createElement(\"div\");\n",
       "      bk_div.innerHTML = output.data[HTML_MIME_TYPE];\n",
       "      var script_attrs = bk_div.children[0].attributes;\n",
       "      for (var i = 0; i < script_attrs.length; i++) {\n",
       "        toinsert[toinsert.length - 1].firstChild.setAttribute(script_attrs[i].name, script_attrs[i].value);\n",
       "        toinsert[toinsert.length - 1].firstChild.textContent = bk_div.children[0].textContent\n",
       "      }\n",
       "      // store reference to server id on output_area\n",
       "      output_area._bokeh_server_id = output.metadata[EXEC_MIME_TYPE][\"server_id\"];\n",
       "    }\n",
       "  }\n",
       "\n",
       "  function register_renderer(events, OutputArea) {\n",
       "\n",
       "    function append_mime(data, metadata, element) {\n",
       "      // create a DOM node to render to\n",
       "      var toinsert = this.create_output_subarea(\n",
       "        metadata,\n",
       "        CLASS_NAME,\n",
       "        EXEC_MIME_TYPE\n",
       "      );\n",
       "      this.keyboard_manager.register_events(toinsert);\n",
       "      // Render to node\n",
       "      var props = {data: data, metadata: metadata[EXEC_MIME_TYPE]};\n",
       "      render(props, toinsert[toinsert.length - 1]);\n",
       "      element.append(toinsert);\n",
       "      return toinsert\n",
       "    }\n",
       "\n",
       "    /* Handle when an output is cleared or removed */\n",
       "    events.on('clear_output.CodeCell', handleClearOutput);\n",
       "    events.on('delete.Cell', handleClearOutput);\n",
       "\n",
       "    /* Handle when a new output is added */\n",
       "    events.on('output_added.OutputArea', handleAddOutput);\n",
       "\n",
       "    /**\n",
       "     * Register the mime type and append_mime function with output_area\n",
       "     */\n",
       "    OutputArea.prototype.register_mime_type(EXEC_MIME_TYPE, append_mime, {\n",
       "      /* Is output safe? */\n",
       "      safe: true,\n",
       "      /* Index of renderer in `output_area.display_order` */\n",
       "      index: 0\n",
       "    });\n",
       "  }\n",
       "\n",
       "  // register the mime type if in Jupyter Notebook environment and previously unregistered\n",
       "  if (root.Jupyter !== undefined) {\n",
       "    var events = require('base/js/events');\n",
       "    var OutputArea = require('notebook/js/outputarea').OutputArea;\n",
       "\n",
       "    if (OutputArea.prototype.mime_types().indexOf(EXEC_MIME_TYPE) == -1) {\n",
       "      register_renderer(events, OutputArea);\n",
       "    }\n",
       "  }\n",
       "\n",
       "  \n",
       "  if (typeof (root._bokeh_timeout) === \"undefined\" || force === true) {\n",
       "    root._bokeh_timeout = Date.now() + 5000;\n",
       "    root._bokeh_failed_load = false;\n",
       "  }\n",
       "\n",
       "  var NB_LOAD_WARNING = {'data': {'text/html':\n",
       "     \"<div style='background-color: #fdd'>\\n\"+\n",
       "     \"<p>\\n\"+\n",
       "     \"BokehJS does not appear to have successfully loaded. If loading BokehJS from CDN, this \\n\"+\n",
       "     \"may be due to a slow or bad network connection. Possible fixes:\\n\"+\n",
       "     \"</p>\\n\"+\n",
       "     \"<ul>\\n\"+\n",
       "     \"<li>re-rerun `output_notebook()` to attempt to load from CDN again, or</li>\\n\"+\n",
       "     \"<li>use INLINE resources instead, as so:</li>\\n\"+\n",
       "     \"</ul>\\n\"+\n",
       "     \"<code>\\n\"+\n",
       "     \"from bokeh.resources import INLINE\\n\"+\n",
       "     \"output_notebook(resources=INLINE)\\n\"+\n",
       "     \"</code>\\n\"+\n",
       "     \"</div>\"}};\n",
       "\n",
       "  function display_loaded() {\n",
       "    var el = document.getElementById(null);\n",
       "    if (el != null) {\n",
       "      el.textContent = \"BokehJS is loading...\";\n",
       "    }\n",
       "    if (root.Bokeh !== undefined) {\n",
       "      if (el != null) {\n",
       "        el.textContent = \"BokehJS \" + root.Bokeh.version + \" successfully loaded.\";\n",
       "      }\n",
       "    } else if (Date.now() < root._bokeh_timeout) {\n",
       "      setTimeout(display_loaded, 100)\n",
       "    }\n",
       "  }\n",
       "\n",
       "\n",
       "  function run_callbacks() {\n",
       "    try {\n",
       "      root._bokeh_onload_callbacks.forEach(function(callback) {\n",
       "        if (callback != null)\n",
       "          callback();\n",
       "      });\n",
       "    } finally {\n",
       "      delete root._bokeh_onload_callbacks\n",
       "    }\n",
       "    console.debug(\"Bokeh: all callbacks have finished\");\n",
       "  }\n",
       "\n",
       "  function load_libs(css_urls, js_urls, callback) {\n",
       "    if (css_urls == null) css_urls = [];\n",
       "    if (js_urls == null) js_urls = [];\n",
       "\n",
       "    root._bokeh_onload_callbacks.push(callback);\n",
       "    if (root._bokeh_is_loading > 0) {\n",
       "      console.debug(\"Bokeh: BokehJS is being loaded, scheduling callback at\", now());\n",
       "      return null;\n",
       "    }\n",
       "    if (js_urls == null || js_urls.length === 0) {\n",
       "      run_callbacks();\n",
       "      return null;\n",
       "    }\n",
       "    console.debug(\"Bokeh: BokehJS not loaded, scheduling load and callback at\", now());\n",
       "    root._bokeh_is_loading = css_urls.length + js_urls.length;\n",
       "\n",
       "    function on_load() {\n",
       "      root._bokeh_is_loading--;\n",
       "      if (root._bokeh_is_loading === 0) {\n",
       "        console.debug(\"Bokeh: all BokehJS libraries/stylesheets loaded\");\n",
       "        run_callbacks()\n",
       "      }\n",
       "    }\n",
       "\n",
       "    function on_error() {\n",
       "      console.error(\"failed to load \" + url);\n",
       "    }\n",
       "\n",
       "    for (var i = 0; i < css_urls.length; i++) {\n",
       "      var url = css_urls[i];\n",
       "      const element = document.createElement(\"link\");\n",
       "      element.onload = on_load;\n",
       "      element.onerror = on_error;\n",
       "      element.rel = \"stylesheet\";\n",
       "      element.type = \"text/css\";\n",
       "      element.href = url;\n",
       "      console.debug(\"Bokeh: injecting link tag for BokehJS stylesheet: \", url);\n",
       "      document.body.appendChild(element);\n",
       "    }\n",
       "\n",
       "    const hashes = {\"https://cdn.bokeh.org/bokeh/release/bokeh-2.2.3.min.js\": \"T2yuo9Oe71Cz/I4X9Ac5+gpEa5a8PpJCDlqKYO0CfAuEszu1JrXLl8YugMqYe3sM\", \"https://cdn.bokeh.org/bokeh/release/bokeh-widgets-2.2.3.min.js\": \"98GDGJ0kOMCUMUePhksaQ/GYgB3+NH9h996V88sh3aOiUNX3N+fLXAtry6xctSZ6\", \"https://cdn.bokeh.org/bokeh/release/bokeh-tables-2.2.3.min.js\": \"89bArO+nlbP3sgakeHjCo1JYxYR5wufVgA3IbUvDY+K7w4zyxJqssu7wVnfeKCq8\"};\n",
       "\n",
       "    for (var i = 0; i < js_urls.length; i++) {\n",
       "      var url = js_urls[i];\n",
       "      var element = document.createElement('script');\n",
       "      element.onload = on_load;\n",
       "      element.onerror = on_error;\n",
       "      element.async = false;\n",
       "      element.src = url;\n",
       "      if (url in hashes) {\n",
       "        element.crossOrigin = \"anonymous\";\n",
       "        element.integrity = \"sha384-\" + hashes[url];\n",
       "      }\n",
       "      console.debug(\"Bokeh: injecting script tag for BokehJS library: \", url);\n",
       "      document.head.appendChild(element);\n",
       "    }\n",
       "  };\n",
       "\n",
       "  function inject_raw_css(css) {\n",
       "    const element = document.createElement(\"style\");\n",
       "    element.appendChild(document.createTextNode(css));\n",
       "    document.body.appendChild(element);\n",
       "  }\n",
       "\n",
       "  \n",
       "  var js_urls = [\"https://cdn.bokeh.org/bokeh/release/bokeh-2.2.3.min.js\", \"https://cdn.bokeh.org/bokeh/release/bokeh-widgets-2.2.3.min.js\", \"https://cdn.bokeh.org/bokeh/release/bokeh-tables-2.2.3.min.js\"];\n",
       "  var css_urls = [];\n",
       "  \n",
       "\n",
       "  var inline_js = [\n",
       "    function(Bokeh) {\n",
       "      Bokeh.set_log_level(\"info\");\n",
       "    },\n",
       "    function(Bokeh) {\n",
       "    \n",
       "    \n",
       "    }\n",
       "  ];\n",
       "\n",
       "  function run_inline_js() {\n",
       "    \n",
       "    if (root.Bokeh !== undefined || force === true) {\n",
       "      \n",
       "    for (var i = 0; i < inline_js.length; i++) {\n",
       "      inline_js[i].call(root, root.Bokeh);\n",
       "    }\n",
       "    } else if (Date.now() < root._bokeh_timeout) {\n",
       "      setTimeout(run_inline_js, 100);\n",
       "    } else if (!root._bokeh_failed_load) {\n",
       "      console.log(\"Bokeh: BokehJS failed to load within specified timeout.\");\n",
       "      root._bokeh_failed_load = true;\n",
       "    } else if (force !== true) {\n",
       "      var cell = $(document.getElementById(null)).parents('.cell').data().cell;\n",
       "      cell.output_area.append_execute_result(NB_LOAD_WARNING)\n",
       "    }\n",
       "\n",
       "  }\n",
       "\n",
       "  if (root._bokeh_is_loading === 0) {\n",
       "    console.debug(\"Bokeh: BokehJS loaded, going straight to plotting\");\n",
       "    run_inline_js();\n",
       "  } else {\n",
       "    load_libs(css_urls, js_urls, function() {\n",
       "      console.debug(\"Bokeh: BokehJS plotting callback run at\", now());\n",
       "      run_inline_js();\n",
       "    });\n",
       "  }\n",
       "}(window));"
      ],
      "application/vnd.bokehjs_load.v0+json": "\n(function(root) {\n  function now() {\n    return new Date();\n  }\n\n  var force = true;\n\n  if (typeof root._bokeh_onload_callbacks === \"undefined\" || force === true) {\n    root._bokeh_onload_callbacks = [];\n    root._bokeh_is_loading = undefined;\n  }\n\n  \n\n  \n  if (typeof (root._bokeh_timeout) === \"undefined\" || force === true) {\n    root._bokeh_timeout = Date.now() + 5000;\n    root._bokeh_failed_load = false;\n  }\n\n  var NB_LOAD_WARNING = {'data': {'text/html':\n     \"<div style='background-color: #fdd'>\\n\"+\n     \"<p>\\n\"+\n     \"BokehJS does not appear to have successfully loaded. If loading BokehJS from CDN, this \\n\"+\n     \"may be due to a slow or bad network connection. Possible fixes:\\n\"+\n     \"</p>\\n\"+\n     \"<ul>\\n\"+\n     \"<li>re-rerun `output_notebook()` to attempt to load from CDN again, or</li>\\n\"+\n     \"<li>use INLINE resources instead, as so:</li>\\n\"+\n     \"</ul>\\n\"+\n     \"<code>\\n\"+\n     \"from bokeh.resources import INLINE\\n\"+\n     \"output_notebook(resources=INLINE)\\n\"+\n     \"</code>\\n\"+\n     \"</div>\"}};\n\n  function display_loaded() {\n    var el = document.getElementById(null);\n    if (el != null) {\n      el.textContent = \"BokehJS is loading...\";\n    }\n    if (root.Bokeh !== undefined) {\n      if (el != null) {\n        el.textContent = \"BokehJS \" + root.Bokeh.version + \" successfully loaded.\";\n      }\n    } else if (Date.now() < root._bokeh_timeout) {\n      setTimeout(display_loaded, 100)\n    }\n  }\n\n\n  function run_callbacks() {\n    try {\n      root._bokeh_onload_callbacks.forEach(function(callback) {\n        if (callback != null)\n          callback();\n      });\n    } finally {\n      delete root._bokeh_onload_callbacks\n    }\n    console.debug(\"Bokeh: all callbacks have finished\");\n  }\n\n  function load_libs(css_urls, js_urls, callback) {\n    if (css_urls == null) css_urls = [];\n    if (js_urls == null) js_urls = [];\n\n    root._bokeh_onload_callbacks.push(callback);\n    if (root._bokeh_is_loading > 0) {\n      console.debug(\"Bokeh: BokehJS is being loaded, scheduling callback at\", now());\n      return null;\n    }\n    if (js_urls == null || js_urls.length === 0) {\n      run_callbacks();\n      return null;\n    }\n    console.debug(\"Bokeh: BokehJS not loaded, scheduling load and callback at\", now());\n    root._bokeh_is_loading = css_urls.length + js_urls.length;\n\n    function on_load() {\n      root._bokeh_is_loading--;\n      if (root._bokeh_is_loading === 0) {\n        console.debug(\"Bokeh: all BokehJS libraries/stylesheets loaded\");\n        run_callbacks()\n      }\n    }\n\n    function on_error() {\n      console.error(\"failed to load \" + url);\n    }\n\n    for (var i = 0; i < css_urls.length; i++) {\n      var url = css_urls[i];\n      const element = document.createElement(\"link\");\n      element.onload = on_load;\n      element.onerror = on_error;\n      element.rel = \"stylesheet\";\n      element.type = \"text/css\";\n      element.href = url;\n      console.debug(\"Bokeh: injecting link tag for BokehJS stylesheet: \", url);\n      document.body.appendChild(element);\n    }\n\n    const hashes = {\"https://cdn.bokeh.org/bokeh/release/bokeh-2.2.3.min.js\": \"T2yuo9Oe71Cz/I4X9Ac5+gpEa5a8PpJCDlqKYO0CfAuEszu1JrXLl8YugMqYe3sM\", \"https://cdn.bokeh.org/bokeh/release/bokeh-widgets-2.2.3.min.js\": \"98GDGJ0kOMCUMUePhksaQ/GYgB3+NH9h996V88sh3aOiUNX3N+fLXAtry6xctSZ6\", \"https://cdn.bokeh.org/bokeh/release/bokeh-tables-2.2.3.min.js\": \"89bArO+nlbP3sgakeHjCo1JYxYR5wufVgA3IbUvDY+K7w4zyxJqssu7wVnfeKCq8\"};\n\n    for (var i = 0; i < js_urls.length; i++) {\n      var url = js_urls[i];\n      var element = document.createElement('script');\n      element.onload = on_load;\n      element.onerror = on_error;\n      element.async = false;\n      element.src = url;\n      if (url in hashes) {\n        element.crossOrigin = \"anonymous\";\n        element.integrity = \"sha384-\" + hashes[url];\n      }\n      console.debug(\"Bokeh: injecting script tag for BokehJS library: \", url);\n      document.head.appendChild(element);\n    }\n  };\n\n  function inject_raw_css(css) {\n    const element = document.createElement(\"style\");\n    element.appendChild(document.createTextNode(css));\n    document.body.appendChild(element);\n  }\n\n  \n  var js_urls = [\"https://cdn.bokeh.org/bokeh/release/bokeh-2.2.3.min.js\", \"https://cdn.bokeh.org/bokeh/release/bokeh-widgets-2.2.3.min.js\", \"https://cdn.bokeh.org/bokeh/release/bokeh-tables-2.2.3.min.js\"];\n  var css_urls = [];\n  \n\n  var inline_js = [\n    function(Bokeh) {\n      Bokeh.set_log_level(\"info\");\n    },\n    function(Bokeh) {\n    \n    \n    }\n  ];\n\n  function run_inline_js() {\n    \n    if (root.Bokeh !== undefined || force === true) {\n      \n    for (var i = 0; i < inline_js.length; i++) {\n      inline_js[i].call(root, root.Bokeh);\n    }\n    } else if (Date.now() < root._bokeh_timeout) {\n      setTimeout(run_inline_js, 100);\n    } else if (!root._bokeh_failed_load) {\n      console.log(\"Bokeh: BokehJS failed to load within specified timeout.\");\n      root._bokeh_failed_load = true;\n    } else if (force !== true) {\n      var cell = $(document.getElementById(null)).parents('.cell').data().cell;\n      cell.output_area.append_execute_result(NB_LOAD_WARNING)\n    }\n\n  }\n\n  if (root._bokeh_is_loading === 0) {\n    console.debug(\"Bokeh: BokehJS loaded, going straight to plotting\");\n    run_inline_js();\n  } else {\n    load_libs(css_urls, js_urls, function() {\n      console.debug(\"Bokeh: BokehJS plotting callback run at\", now());\n      run_inline_js();\n    });\n  }\n}(window));"
     },
     "metadata": {
      "tags": []
     },
     "output_type": "display_data"
    },
    {
     "data": {
      "text/html": [
       "\n",
       "\n",
       "\n",
       "\n",
       "\n",
       "\n",
       "  <div class=\"bk-root\" id=\"ed96773b-e3b7-421d-8abd-0024d399d40c\" data-root-id=\"1099\"></div>\n"
      ]
     },
     "metadata": {
      "tags": []
     },
     "output_type": "display_data"
    },
    {
     "data": {
      "application/javascript": [
       "(function(root) {\n",
       "  function embed_document(root) {\n",
       "    \n",
       "  var docs_json = {\"11eec63d-d18e-4711-bb97-2a3259fa1d00\":{\"roots\":{\"references\":[{\"attributes\":{\"below\":[{\"id\":\"1108\"}],\"center\":[{\"id\":\"1111\"},{\"id\":\"1115\"}],\"left\":[{\"id\":\"1112\"}],\"plot_height\":400,\"renderers\":[{\"id\":\"1133\"}],\"title\":{\"id\":\"1146\"},\"toolbar\":{\"id\":\"1123\"},\"x_range\":{\"id\":\"1100\"},\"x_scale\":{\"id\":\"1104\"},\"y_range\":{\"id\":\"1102\"},\"y_scale\":{\"id\":\"1106\"}},\"id\":\"1099\",\"subtype\":\"Figure\",\"type\":\"Plot\"},{\"attributes\":{},\"id\":\"1113\",\"type\":\"BasicTicker\"},{\"attributes\":{\"axis\":{\"id\":\"1112\"},\"dimension\":1,\"ticker\":null},\"id\":\"1115\",\"type\":\"Grid\"},{\"attributes\":{\"active_drag\":\"auto\",\"active_inspect\":\"auto\",\"active_multi\":null,\"active_scroll\":{\"id\":\"1117\"},\"active_tap\":\"auto\",\"tools\":[{\"id\":\"1116\"},{\"id\":\"1117\"},{\"id\":\"1118\"},{\"id\":\"1119\"},{\"id\":\"1120\"},{\"id\":\"1121\"},{\"id\":\"1135\"}]},\"id\":\"1123\",\"type\":\"Toolbar\"},{\"attributes\":{\"fill_alpha\":{\"value\":0.25},\"fill_color\":{\"field\":\"color\"},\"line_alpha\":{\"value\":0.25},\"line_color\":{\"field\":\"color\"},\"size\":{\"units\":\"screen\",\"value\":10},\"x\":{\"field\":\"x\"},\"y\":{\"field\":\"y\"}},\"id\":\"1131\",\"type\":\"Scatter\"},{\"attributes\":{},\"id\":\"1116\",\"type\":\"PanTool\"},{\"attributes\":{\"bottom_units\":\"screen\",\"fill_alpha\":0.5,\"fill_color\":\"lightgrey\",\"left_units\":\"screen\",\"level\":\"overlay\",\"line_alpha\":1.0,\"line_color\":\"black\",\"line_dash\":[4,4],\"line_width\":2,\"right_units\":\"screen\",\"top_units\":\"screen\"},\"id\":\"1122\",\"type\":\"BoxAnnotation\"},{\"attributes\":{},\"id\":\"1117\",\"type\":\"WheelZoomTool\"},{\"attributes\":{\"overlay\":{\"id\":\"1122\"}},\"id\":\"1118\",\"type\":\"BoxZoomTool\"},{\"attributes\":{\"source\":{\"id\":\"1098\"}},\"id\":\"1134\",\"type\":\"CDSView\"},{\"attributes\":{},\"id\":\"1119\",\"type\":\"SaveTool\"},{\"attributes\":{\"fill_alpha\":{\"value\":0.1},\"fill_color\":{\"field\":\"color\"},\"line_alpha\":{\"value\":0.1},\"line_color\":{\"field\":\"color\"},\"size\":{\"units\":\"screen\",\"value\":10},\"x\":{\"field\":\"x\"},\"y\":{\"field\":\"y\"}},\"id\":\"1132\",\"type\":\"Scatter\"},{\"attributes\":{\"data_source\":{\"id\":\"1098\"},\"glyph\":{\"id\":\"1131\"},\"hover_glyph\":null,\"muted_glyph\":null,\"nonselection_glyph\":{\"id\":\"1132\"},\"selection_glyph\":null,\"view\":{\"id\":\"1134\"}},\"id\":\"1133\",\"type\":\"GlyphRenderer\"},{\"attributes\":{},\"id\":\"1100\",\"type\":\"DataRange1d\"},{\"attributes\":{},\"id\":\"1120\",\"type\":\"ResetTool\"},{\"attributes\":{\"callback\":null,\"tooltips\":[[\"token\",\"@token\"]]},\"id\":\"1135\",\"type\":\"HoverTool\"},{\"attributes\":{\"text\":\"\"},\"id\":\"1146\",\"type\":\"Title\"},{\"attributes\":{},\"id\":\"1121\",\"type\":\"HelpTool\"},{\"attributes\":{},\"id\":\"1102\",\"type\":\"DataRange1d\"},{\"attributes\":{},\"id\":\"1104\",\"type\":\"LinearScale\"},{\"attributes\":{},\"id\":\"1106\",\"type\":\"LinearScale\"},{\"attributes\":{\"formatter\":{\"id\":\"1148\"},\"ticker\":{\"id\":\"1109\"}},\"id\":\"1108\",\"type\":\"LinearAxis\"},{\"attributes\":{},\"id\":\"1153\",\"type\":\"Selection\"},{\"attributes\":{},\"id\":\"1154\",\"type\":\"UnionRenderers\"},{\"attributes\":{\"data\":{\"color\":[\"blue\",\"blue\",\"blue\",\"blue\",\"blue\",\"blue\",\"blue\",\"blue\",\"blue\",\"blue\",\"blue\",\"blue\",\"blue\",\"blue\",\"blue\",\"blue\",\"blue\",\"blue\",\"blue\",\"blue\",\"blue\",\"blue\",\"blue\",\"blue\",\"blue\",\"blue\",\"blue\",\"blue\",\"blue\",\"blue\",\"blue\",\"blue\",\"blue\",\"blue\",\"blue\",\"blue\",\"blue\",\"blue\",\"blue\",\"blue\",\"blue\",\"blue\",\"blue\",\"blue\",\"blue\",\"blue\",\"blue\",\"blue\",\"blue\",\"blue\",\"blue\",\"blue\",\"blue\",\"blue\",\"blue\",\"blue\",\"blue\",\"blue\",\"blue\",\"blue\",\"blue\",\"blue\",\"blue\",\"blue\",\"blue\",\"blue\",\"blue\",\"blue\",\"blue\",\"blue\",\"blue\",\"blue\",\"blue\",\"blue\",\"blue\",\"blue\",\"blue\",\"blue\",\"blue\",\"blue\",\"blue\",\"blue\",\"blue\",\"blue\",\"blue\",\"blue\",\"blue\",\"blue\",\"blue\",\"blue\",\"blue\",\"blue\",\"blue\",\"blue\",\"blue\",\"blue\",\"blue\",\"blue\",\"blue\",\"blue\",\"blue\",\"blue\",\"blue\",\"blue\",\"blue\",\"blue\",\"blue\",\"blue\",\"blue\",\"blue\",\"blue\",\"blue\",\"blue\",\"blue\",\"blue\",\"blue\",\"blue\",\"blue\",\"blue\",\"blue\",\"blue\",\"blue\",\"blue\",\"blue\",\"blue\",\"blue\",\"blue\",\"blue\",\"blue\",\"blue\",\"blue\",\"blue\",\"blue\",\"blue\",\"blue\",\"blue\",\"blue\",\"blue\",\"blue\",\"blue\",\"blue\",\"blue\",\"blue\",\"blue\",\"blue\",\"blue\",\"blue\",\"blue\",\"blue\",\"blue\",\"blue\",\"blue\",\"blue\",\"blue\",\"blue\",\"blue\",\"blue\",\"blue\",\"blue\",\"blue\",\"blue\",\"blue\",\"blue\",\"blue\",\"blue\",\"blue\",\"blue\",\"blue\",\"blue\",\"blue\",\"blue\",\"blue\",\"blue\",\"blue\",\"blue\",\"blue\",\"blue\",\"blue\",\"blue\",\"blue\",\"blue\",\"blue\",\"blue\",\"blue\",\"blue\",\"blue\",\"blue\",\"blue\",\"blue\",\"blue\",\"blue\",\"blue\",\"blue\",\"blue\",\"blue\",\"blue\",\"blue\",\"blue\",\"blue\",\"blue\",\"blue\",\"blue\",\"blue\",\"blue\",\"blue\",\"blue\",\"blue\",\"blue\",\"blue\",\"blue\",\"blue\",\"blue\",\"blue\",\"blue\",\"blue\",\"blue\",\"blue\",\"blue\",\"blue\",\"blue\",\"blue\",\"blue\",\"blue\",\"blue\",\"blue\",\"blue\",\"blue\",\"blue\",\"blue\",\"blue\",\"blue\",\"blue\",\"blue\",\"blue\",\"blue\",\"blue\",\"blue\",\"blue\",\"blue\",\"blue\",\"blue\",\"blue\",\"blue\",\"blue\",\"blue\",\"blue\",\"blue\",\"blue\",\"blue\",\"blue\",\"blue\",\"blue\",\"blue\",\"blue\",\"blue\",\"blue\",\"blue\",\"blue\",\"blue\",\"blue\",\"blue\",\"blue\",\"blue\",\"blue\",\"blue\",\"blue\",\"blue\",\"blue\",\"blue\",\"blue\",\"blue\",\"blue\",\"blue\",\"blue\",\"blue\",\"blue\",\"blue\",\"blue\",\"blue\",\"blue\",\"blue\",\"blue\",\"blue\",\"blue\",\"blue\",\"blue\",\"blue\",\"blue\",\"blue\",\"blue\",\"blue\",\"blue\",\"blue\",\"blue\",\"blue\",\"blue\",\"blue\",\"blue\",\"blue\",\"blue\",\"blue\",\"blue\",\"blue\",\"blue\",\"blue\",\"blue\",\"blue\",\"blue\",\"blue\",\"blue\",\"blue\",\"blue\",\"blue\",\"blue\",\"blue\",\"blue\",\"blue\",\"blue\",\"blue\",\"blue\",\"blue\",\"blue\",\"blue\",\"blue\",\"blue\",\"blue\",\"blue\",\"blue\",\"blue\",\"blue\",\"blue\",\"blue\",\"blue\",\"blue\",\"blue\",\"blue\",\"blue\",\"blue\",\"blue\",\"blue\",\"blue\",\"blue\",\"blue\",\"blue\",\"blue\",\"blue\",\"blue\",\"blue\",\"blue\",\"blue\",\"blue\",\"blue\",\"blue\",\"blue\",\"blue\",\"blue\",\"blue\",\"blue\",\"blue\",\"blue\",\"blue\",\"blue\",\"blue\",\"blue\",\"blue\",\"blue\",\"blue\",\"blue\",\"blue\",\"blue\",\"blue\",\"blue\",\"blue\",\"blue\",\"blue\",\"blue\",\"blue\",\"blue\",\"blue\",\"blue\",\"blue\",\"blue\",\"blue\",\"blue\",\"blue\",\"blue\",\"blue\",\"blue\",\"blue\",\"blue\",\"blue\",\"blue\",\"blue\",\"blue\",\"blue\",\"blue\",\"blue\",\"blue\",\"blue\",\"blue\",\"blue\",\"blue\",\"blue\",\"blue\",\"blue\",\"blue\",\"blue\",\"blue\",\"blue\",\"blue\",\"blue\",\"blue\",\"blue\",\"blue\",\"blue\",\"blue\",\"blue\",\"blue\",\"blue\",\"blue\",\"blue\",\"blue\",\"blue\",\"blue\",\"blue\",\"blue\",\"blue\",\"blue\",\"blue\",\"blue\",\"blue\",\"blue\",\"blue\",\"blue\",\"blue\",\"blue\",\"blue\",\"blue\",\"blue\",\"blue\",\"blue\",\"blue\",\"blue\",\"blue\",\"blue\",\"blue\",\"blue\",\"blue\",\"blue\",\"blue\",\"blue\",\"blue\",\"blue\",\"blue\",\"blue\",\"blue\",\"blue\",\"blue\",\"blue\",\"blue\",\"blue\",\"blue\",\"blue\",\"blue\",\"blue\",\"blue\",\"blue\",\"blue\",\"blue\",\"blue\",\"blue\",\"blue\",\"blue\",\"blue\",\"blue\",\"blue\",\"blue\",\"blue\",\"blue\",\"blue\",\"blue\",\"blue\",\"blue\",\"blue\",\"blue\",\"blue\",\"blue\",\"blue\",\"blue\",\"blue\",\"blue\",\"blue\",\"blue\",\"blue\",\"blue\",\"blue\",\"blue\",\"blue\",\"blue\",\"blue\",\"blue\",\"blue\",\"blue\",\"blue\",\"blue\",\"blue\",\"blue\",\"blue\",\"blue\",\"blue\",\"blue\",\"blue\",\"blue\",\"blue\",\"blue\",\"blue\",\"blue\",\"blue\",\"blue\",\"blue\",\"blue\",\"blue\",\"blue\",\"blue\",\"blue\",\"blue\",\"blue\",\"blue\",\"blue\",\"blue\",\"blue\",\"blue\",\"blue\",\"blue\",\"blue\",\"blue\",\"blue\",\"blue\",\"blue\",\"blue\",\"blue\",\"blue\",\"blue\",\"blue\",\"blue\",\"blue\",\"blue\",\"blue\",\"blue\",\"blue\",\"blue\",\"blue\",\"blue\",\"blue\",\"blue\",\"blue\",\"blue\",\"blue\",\"blue\",\"blue\",\"blue\",\"blue\",\"blue\",\"blue\",\"blue\",\"blue\",\"blue\",\"blue\",\"blue\",\"blue\",\"blue\",\"blue\",\"blue\",\"blue\",\"blue\",\"blue\",\"blue\",\"blue\",\"blue\",\"blue\",\"blue\",\"blue\",\"blue\",\"blue\",\"blue\",\"blue\",\"blue\",\"blue\",\"blue\",\"blue\",\"blue\",\"blue\",\"blue\",\"blue\",\"blue\",\"blue\",\"blue\",\"blue\",\"blue\",\"blue\",\"blue\",\"blue\",\"blue\",\"blue\",\"blue\",\"blue\",\"blue\",\"blue\",\"blue\",\"blue\",\"blue\",\"blue\",\"blue\",\"blue\",\"blue\",\"blue\",\"blue\",\"blue\",\"blue\",\"blue\",\"blue\",\"blue\",\"blue\",\"blue\",\"blue\",\"blue\",\"blue\",\"blue\",\"blue\",\"blue\",\"blue\",\"blue\",\"blue\",\"blue\",\"blue\",\"blue\",\"blue\",\"blue\",\"blue\",\"blue\",\"blue\",\"blue\",\"blue\",\"blue\",\"blue\",\"blue\",\"blue\",\"blue\",\"blue\",\"blue\",\"blue\",\"blue\",\"blue\",\"blue\",\"blue\",\"blue\",\"blue\",\"blue\",\"blue\",\"blue\",\"blue\",\"blue\",\"blue\",\"blue\",\"blue\",\"blue\",\"blue\",\"blue\",\"blue\",\"blue\",\"blue\",\"blue\",\"blue\",\"blue\",\"blue\",\"blue\",\"blue\",\"blue\",\"blue\",\"blue\",\"blue\",\"blue\",\"blue\",\"blue\",\"blue\",\"blue\",\"blue\",\"blue\",\"blue\",\"blue\",\"blue\",\"blue\",\"blue\",\"blue\",\"blue\",\"blue\",\"blue\",\"blue\",\"blue\",\"blue\",\"blue\",\"blue\",\"blue\",\"blue\",\"blue\",\"blue\",\"blue\",\"blue\",\"blue\",\"blue\",\"blue\",\"blue\",\"blue\",\"blue\",\"blue\",\"blue\",\"blue\",\"blue\",\"blue\",\"blue\",\"blue\",\"blue\",\"blue\",\"blue\",\"blue\",\"blue\",\"blue\",\"blue\",\"blue\",\"blue\",\"blue\",\"blue\",\"blue\",\"blue\",\"blue\",\"blue\",\"blue\",\"blue\",\"blue\",\"blue\",\"blue\",\"blue\",\"blue\",\"blue\",\"blue\",\"blue\",\"blue\",\"blue\",\"blue\",\"blue\",\"blue\",\"blue\",\"blue\",\"blue\",\"blue\",\"blue\",\"blue\",\"blue\",\"blue\",\"blue\",\"blue\",\"blue\",\"blue\",\"blue\",\"blue\",\"blue\",\"blue\",\"blue\",\"blue\",\"blue\",\"blue\",\"blue\",\"blue\",\"blue\",\"blue\",\"blue\",\"blue\",\"blue\",\"blue\",\"blue\",\"blue\",\"blue\",\"blue\",\"blue\",\"blue\",\"blue\",\"blue\",\"blue\",\"blue\",\"blue\",\"blue\",\"blue\",\"blue\",\"blue\",\"blue\",\"blue\",\"blue\",\"blue\",\"blue\",\"blue\",\"blue\",\"blue\",\"blue\",\"blue\",\"blue\",\"blue\",\"blue\",\"blue\",\"blue\",\"blue\",\"blue\",\"blue\",\"blue\",\"blue\",\"blue\",\"blue\",\"blue\",\"blue\",\"blue\",\"blue\",\"blue\",\"blue\",\"blue\",\"blue\",\"blue\",\"blue\",\"blue\",\"blue\",\"blue\",\"blue\",\"blue\",\"blue\",\"blue\",\"blue\",\"blue\",\"blue\",\"blue\",\"blue\",\"blue\",\"blue\",\"blue\",\"blue\",\"blue\",\"blue\",\"blue\",\"blue\",\"blue\",\"blue\",\"blue\",\"blue\",\"blue\",\"blue\",\"blue\",\"blue\",\"blue\",\"blue\",\"blue\",\"blue\",\"blue\",\"blue\",\"blue\",\"blue\",\"blue\",\"blue\",\"blue\",\"blue\",\"blue\",\"blue\",\"blue\",\"blue\",\"blue\",\"blue\",\"blue\",\"blue\",\"blue\",\"blue\",\"blue\",\"blue\",\"blue\",\"blue\",\"blue\",\"blue\",\"blue\",\"blue\",\"blue\",\"blue\",\"blue\",\"blue\",\"blue\",\"blue\",\"blue\",\"blue\",\"blue\",\"blue\",\"blue\",\"blue\",\"blue\",\"blue\",\"blue\",\"blue\",\"blue\",\"blue\",\"blue\",\"blue\",\"blue\",\"blue\",\"blue\",\"blue\",\"blue\",\"blue\",\"blue\",\"blue\",\"blue\",\"blue\",\"blue\",\"blue\",\"blue\",\"blue\",\"blue\",\"blue\",\"blue\",\"blue\",\"blue\",\"blue\",\"blue\",\"blue\",\"blue\",\"blue\",\"blue\",\"blue\",\"blue\",\"blue\",\"blue\",\"blue\",\"blue\",\"blue\",\"blue\",\"blue\",\"blue\",\"blue\",\"blue\",\"blue\",\"blue\",\"blue\",\"blue\",\"blue\",\"blue\",\"blue\",\"blue\",\"blue\",\"blue\",\"blue\",\"blue\",\"blue\",\"blue\",\"blue\",\"blue\",\"blue\",\"blue\",\"blue\",\"blue\",\"blue\",\"blue\",\"blue\",\"blue\",\"blue\",\"blue\",\"blue\",\"blue\",\"blue\",\"blue\",\"blue\",\"blue\",\"blue\",\"blue\",\"blue\",\"blue\",\"blue\",\"blue\",\"blue\",\"blue\",\"blue\",\"blue\",\"blue\",\"blue\",\"blue\",\"blue\",\"blue\",\"blue\",\"blue\",\"blue\",\"blue\",\"blue\",\"blue\",\"blue\",\"blue\",\"blue\",\"blue\",\"blue\",\"blue\"],\"token\":[\"?\",\"the\",\"what\",\"is\",\"a\",\"i\",\"to\",\"in\",\"how\",\"of\",\"do\",\"are\",\"and\",\"for\",\",\",\"can\",\"you\",\"why\",\"it\",\"my\",\"does\",\"best\",\"on\",\".\",\"or\",\"have\",\"if\",\"be\",\"with\",\"which\",\"that\",\"an\",\"some\",\"should\",\"'s\",\"get\",\"from\",\")\",\"your\",\"(\",\"like\",\"when\",\"at\",\"india\",\"good\",\"who\",\"there\",\"will\",\"as\",\"would\",\"people\",\"not\",\"n't\",\"about\",\"``\",\"''\",\"between\",\"one\",\"did\",\"any\",\"we\",\"me\",\"where\",\"most\",\"was\",\"by\",\"make\",\"so\",\"they\",\"this\",\"am\",\"after\",\"way\",\":\",\"has\",\"use\",\"much\",\"difference\",\"time\",\"life\",\"their\",\"know\",\"work\",\"many\",\"but\",\"than\",\"more\",\"all\",\"want\",\"quora\",\"someone\",\"learn\",\"find\",\"other\",\"think\",\"new\",\"better\",\"job\",\"indian\",\"out\",\"money\",\"mean\",\"become\",\"ever\",\"world\",\"without\",\"he\",\"start\",\"take\",\"us\",\"up\",\"first\",\"feel\",\"year\",\"into\",\"go\",\"online\",\"used\",\"engineering\",\"could\",\"love\",\"'m\",\"person\",\"were\",\"possible\",\"day\",\"buy\",\"things\",\"being\",\"need\",\"business\",\"using\",\"them\",\"really\",\"trump\",\"girl\",\"'\",\"her\",\"his\",\"years\",\"different\",\"long\",\"phone\",\"google\",\"company\",\"been\",\"old\",\"only\",\"no\",\"now\",\"2\",\"just\",\"app\",\"college\",\"facebook\",\"number\",\"free\",\"books\",\"2016\",\"movie\",\"still\",\"its\",\"account\",\"ca\",\"women\",\"book\",\"english\",\"she\",\"while\",\"had\",\"change\",\"ways\",\"computer\",\"thing\",\"examples\",\"country\",\"data\",\"over\",\"see\",\"android\",\"help\",\"science\",\"live\",\"school\",\"software\",\"before\",\"&\",\"language\",\"same\",\"going\",\"bad\",\"sex\",\"student\",\"stop\",\"university\",\"happen\",\"back\",\"3\",\"made\",\"1\",\"study\",\"our\",\"two\",\"name\",\"system\",\"through\",\"say\",\"real\",\"during\",\"prepare\",\"water\",\"iphone\",\"website\",\"top\",\"car\",\"questions\",\"important\",\"men\",\"give\",\"getting\",\"anyone\",\"companies\",\"high\",\"black\",\"card\",\"read\",\"programming\",\"war\",\"learning\",\"10\",\"5\",\"\\u2019\",\"exam\",\"then\",\"[\",\"]\",\"even\",\"movies\",\"china\",\"mobile\",\"cost\",\"donald\",\"right\",\"doing\",\"friend\",\"him\",\"working\",\"under\",\"come\",\"president\",\"own\",\"question\",\"career\",\"experience\",\"bank\",\"true\",\"friends\",\"guy\",\"word\",\"hair\",\"home\",\"video\",\"having\",\"look\",\"usa\",\"tell\",\"man\",\"social\",\"web\",\"interview\",\"very\",\"engineer\",\"write\",\"game\",\"government\",\"weight\",\"earth\",\"girls\",\"service\",\"food\",\"students\",\"countries\",\"play\",\"human\",\"place\",\"future\",\"improve\",\"off\",\"big\",\"days\",\"happens\",\"done\",\"'ve\",\"class\",\"eat\",\"tv\",\"process\",\"state\",\"got\",\"average\",\"s\",\"meaning\",\"relationship\",\"music\",\"too\",\"math\",\"create\",\"instagram\",\"every\",\"history\",\"last\",\"pay\",\"4\",\"windows\",\"white\",\"watch\",\"%\",\"salary\",\"body\",\"power\",\"safe\",\"clinton\",\"ask\",\"age\",\"laptop\",\"makes\",\"$\",\"hard\",\"each\",\"lose\",\"american\",\"delhi\",\"youtube\",\"energy\",\"worth\",\"earn\",\"states\",\"against\",\"win\",\"girlfriend\",\"great\",\"keep\",\"test\",\"god\",\"hillary\",\"compare\",\"market\",\"differences\",\"making\",\"considered\",\"something\",\"answer\",\"apply\",\"myself\",\"mba\",\"tips\",\"around\",\"never\",\"next\",\"always\",\"mechanical\",\"another\",\"united\",\"java\",\"c\",\"increase\",\"such\",\"course\",\"jobs\",\"download\",\"song\",\"parents\",\"kind\",\"internet\",\"common\",\"review\",\"woman\",\"code\",\"design\",\"per\",\"employees\",\"end\",\"development\",\"chinese\",\"series\",\"score\",\"interesting\",\"degree\",\"month\",\"travel\",\"show\",\"months\",\"management\",\"able\",\"believe\",\"open\",\"program\",\"living\",\"looking\",\"6\",\"because\",\"type\",\"bangalore\",\"light\",\"favorite\",\"america\",\"today\",\"actually\",\"major\",\"family\",\"marketing\",\"pakistan\",\"universities\",\"technology\",\"law\",\"call\",\"whatsapp\",\"affect\",\"idea\",\"{\",\"build\",\"}\",\"choose\",\"cat\",\"current\",\"support\",\"problem\",\"popular\",\"speed\",\"air\",\"rid\",\"deal\",\"visa\",\"join\",\"run\",\"games\",\"space\",\"down\",\"both\",\"well\",\"city\",\"2017\",\"house\",\"exist\",\"services\",\"available\",\"civil\",\"u.s.\",\"site\",\"culture\",\"also\",\"normal\",\"7\",\"given\",\"wrong\",\"apple\",\"small\",\"order\",\"date\",\"wear\",\"apps\",\"places\",\"songs\",\"differ\",\"project\",\"x\",\"product\",\"international\",\"behind\",\"main\",\"research\",\"happened\",\"boyfriend\",\"media\",\"public\",\"canada\",\"value\",\"jee\",\"cause\",\"reason\",\"uk\",\"education\",\"email\",\"-\",\"ms\",\"sleep\",\"amazon\",\"these\",\"instead\",\"benefits\",\"startup\",\"less\",\"iit\",\"part\",\"list\",\"based\",\"die\",\"etc\",\"medical\",\"websites\",\"physics\",\"skills\",\"child\",\"form\",\"health\",\"causes\",\"called\",\"times\",\"visit\",\"hate\",\"level\",\"worst\",\"police\",\"legal\",\"control\",\"terms\",\"stay\",\"products\",\"mumbai\",\"post\",\"facts\",\"mind\",\"application\",\"face\",\"rate\",\"sites\",\"field\",\"file\",\"required\",\"humans\",\"sell\",\"seen\",\"story\",\"machine\",\"private\",\"dog\",\"notes\",\"stock\",\"modi\",\"biggest\",\"asked\",\"invest\",\"children\",\"point\",\"writing\",\"move\",\"night\",\"problems\",\"gate\",\"put\",\"'re\",\"successful\",\"single\",\"anything\",\"indians\",\"others\",\"remove\",\"compared\",\"theory\",\"death\",\"ideas\",\"talk\",\"marks\",\"answers\",\"plan\",\"similar\",\"sentence\",\"low\",\"group\",\"institute\",\"side\",\"hours\",\"again\",\"effects\",\"/math\",\"coaching\",\"australia\",\"solve\",\"advantages\",\"correct\",\"tax\",\"function\",\"lot\",\"center\",\"famous\",\"send\",\"germany\",\"guys\",\"add\",\"set\",\"offer\",\"south\",\"force\",\"credit\",\"foreign\",\"universe\",\"information\",\"fall\",\"period\",\"daily\",\"says\",\"developer\",\"training\",\"full\",\"videos\",\"area\",\"industry\",\"oil\",\"model\",\"general\",\"studying\",\"star\",\"majors\",\"colleges\",\"graduate\",\"size\",\"drive\",\"yourself\",\"python\",\"2015\",\"blood\",\"near\",\"search\",\"enough\",\"price\",\"kill\",\"quality\",\"words\",\"8\",\"marriage\",\"cons\",\"found\",\"often\",\"\\u201d\",\"leave\",\"pros\",\"fast\",\"grow\",\"courses\",\"started\",\"week\",\"fix\",\"related\",\"purpose\",\"network\",\"types\",\"russia\",\"advice\",\"those\",\"password\",\"follow\",\"taking\",\"married\",\"mass\",\"male\",\"store\",\"turn\",\"party\",\"left\",\"brain\",\"rs\",\"\\u201c\",\"100\",\"numbers\",\"500\",\"female\",\"share\",\"digital\",\"team\",\"1000\",\"effective\",\"economy\",\"term\",\"text\",\"delete\",\"election\",\"cell\",\"pc\",\"master\",\"office\",\"matter\",\"few\",\"role\",\"since\",\"preparation\",\"fat\",\"second\",\"page\",\"dark\",\"short\",\"said\",\"happy\",\"red\",\"line\",\"away\",\"security\",\"options\",\"easy\",\"effect\",\"three\",\"view\",\"admission\",\"must\",\"chemical\",\"source\",\"lost\",\"try\",\"dream\",\"understand\",\"care\",\"exams\",\"convert\",\"americans\",\"past\",\"profile\",\"electrical\",\"dogs\",\"alcohol\",\"exactly\",\"north\",\"ios\",\"develop\",\"paper\",\"japanese\",\"investment\",\"tech\",\"difficult\",\"hotel\",\"check\",\"beautiful\",\"personal\",\"calculate\",\"b\",\"japan\",\"uber\",\"letter\",\"eating\",\"religion\",\"20\",\"explain\",\"languages\",\"c++\",\"hyderabad\",\"topics\",\"british\",\"twitter\",\"basic\",\"news\",\"california\",\"self\",\"green\",\"political\",\"transfer\",\"12\",\"wife\",\"fight\",\"rank\",\"drug\",\"let\",\"t\",\"porn\",\"film\",\"scope\",\"army\",\"pune\",\"national\",\"once\",\"contact\",\"note\",\"known\",\"avoid\",\"boy\",\"please\",\"gain\",\"address\",\"wants\",\"reasons\",\"paid\",\"obama\",\"engine\",\"europe\",\"currently\",\"ex\",\"bollywood\",\"samsung\",\"smart\",\"everyone\",\"season\",\"phd\",\"officer\",\"income\",\"chances\",\"reduce\",\"option\",\"overcome\",\"everything\",\"across\",\"reading\",\"military\",\"else\",\"users\",\"meet\",\"15\",\"solar\",\"charge\",\"message\",\"knowledge\",\"due\",\"sound\",\"balance\",\"microsoft\",\"!\",\"internship\",\"faster\",\"photos\",\"yes\",\"pregnant\",\"sim\",\"moon\",\"taken\",\"financial\",\"hindi\",\"disadvantages\",\"pass\",\"animals\",\"messages\",\"gay\",\"/\",\"hack\",\"pain\",\"healthy\",\"systems\",\"amount\",\"ias\",\"color\",\"interested\",\"singapore\",\"natural\",\"skin\",\"screen\",\"chance\",\"names\",\"special\",\"height\",\"board\",\"case\",\"structure\",\"break\",\"passport\",\"pro\",\"created\",\"professional\",\"drink\",\"already\",\"percentage\",\"useful\",\"french\",\"crush\",\"sun\",\"dating\",\"likes\",\"presidential\",\"battery\",\"interest\",\"access\",\"coming\",\"provide\",\"muslim\",\"modern\",\"starting\",\"linux\",\"recover\",\"german\",\"camera\",\"expect\",\"vote\",\"muslims\",\"blue\",\"least\",\"install\",\"train\",\"studies\",\"solution\",\"thinking\",\"following\",\"negative\",\"mother\",\"jio\",\"mac\",\"user\",\"spend\",\"prime\",\"written\",\"buying\",\"feeling\",\"running\",\"football\",\"gift\",\"cold\",\"changed\",\"pressure\",\"allowed\",\"character\",\"brand\",\"rich\",\"snapchat\",\"resources\",\"within\",\"speak\",\"impact\",\"islam\",\"yet\",\"non\",\"marry\",\"eyes\",\"society\",\"bill\",\"likely\",\"though\",\"determine\",\"shows\",\"fake\",\"save\",\"capital\",\"final\",\"gmail\",\"picture\",\"laws\",\"middle\",\"applications\",\"nuclear\",\"chemistry\",\"young\",\"kids\",\"prefer\",\"device\",\"iq\",\"father\",\"views\",\"galaxy\",\"manager\",\"doctor\",\"personality\",\"hand\",\"greatest\",\"currency\",\"inside\",\"illegal\",\"stories\",\"strategy\",\"abroad\",\"recruit\",\"pursue\",\"cs\",\"gold\",\"projects\",\"consider\",\"works\",\"blog\",\"crack\",\"memory\",\"example\",\"neet\",\"growth\",\"schools\",\"necessary\",\"husband\",\"insurance\",\"alone\",\"economics\",\"depression\",\"30\",\"higher\",\"dead\",\"b.tech\",\"cse\",\"loss\",\"among\",\"files\",\"late\",\"deleted\",\"easiest\",\"macbook\",\"together\",\"art\",\"wifi\",\"vs\",\"gas\",\"suggest\",\"intelligence\",\"method\",\"gre\",\"head\",\"minimum\",\"version\",\"tools\",\"easily\",\"chennai\",\"cars\",\"suitable\"],\"x\":{\"__ndarray__\":\"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\",\"dtype\":\"float32\",\"order\":\"little\",\"shape\":[1000]},\"y\":{\"__ndarray__\":\"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\",\"dtype\":\"float32\",\"order\":\"little\",\"shape\":[1000]}},\"selected\":{\"id\":\"1153\"},\"selection_policy\":{\"id\":\"1154\"}},\"id\":\"1098\",\"type\":\"ColumnDataSource\"},{\"attributes\":{},\"id\":\"1148\",\"type\":\"BasicTickFormatter\"},{\"attributes\":{},\"id\":\"1109\",\"type\":\"BasicTicker\"},{\"attributes\":{},\"id\":\"1150\",\"type\":\"BasicTickFormatter\"},{\"attributes\":{\"axis\":{\"id\":\"1108\"},\"ticker\":null},\"id\":\"1111\",\"type\":\"Grid\"},{\"attributes\":{\"formatter\":{\"id\":\"1150\"},\"ticker\":{\"id\":\"1113\"}},\"id\":\"1112\",\"type\":\"LinearAxis\"}],\"root_ids\":[\"1099\"]},\"title\":\"Bokeh Application\",\"version\":\"2.2.3\"}};\n",
       "  var render_items = [{\"docid\":\"11eec63d-d18e-4711-bb97-2a3259fa1d00\",\"root_ids\":[\"1099\"],\"roots\":{\"1099\":\"ed96773b-e3b7-421d-8abd-0024d399d40c\"}}];\n",
       "  root.Bokeh.embed.embed_items_notebook(docs_json, render_items);\n",
       "\n",
       "  }\n",
       "  if (root.Bokeh !== undefined) {\n",
       "    embed_document(root);\n",
       "  } else {\n",
       "    var attempts = 0;\n",
       "    var timer = setInterval(function(root) {\n",
       "      if (root.Bokeh !== undefined) {\n",
       "        clearInterval(timer);\n",
       "        embed_document(root);\n",
       "      } else {\n",
       "        attempts++;\n",
       "        if (attempts > 100) {\n",
       "          clearInterval(timer);\n",
       "          console.log(\"Bokeh: ERROR: Unable to run BokehJS code because BokehJS library is missing\");\n",
       "        }\n",
       "      }\n",
       "    }, 10, root)\n",
       "  }\n",
       "})(window);"
      ],
      "application/vnd.bokehjs_exec.v0+json": ""
     },
     "metadata": {
      "application/vnd.bokehjs_exec.v0+json": {
       "id": "1099"
      },
      "tags": []
     },
     "output_type": "display_data"
    },
    {
     "data": {
      "text/html": [
       "<div style=\"display: table;\"><div style=\"display: table-row;\"><div style=\"display: table-cell;\"><b title=\"bokeh.plotting.figure.Figure\">Figure</b>(</div><div style=\"display: table-cell;\">id&nbsp;=&nbsp;'1099', <span id=\"1201\" style=\"cursor: pointer;\">&hellip;)</span></div></div><div class=\"1200\" style=\"display: none;\"><div style=\"display: table-cell;\"></div><div style=\"display: table-cell;\">above&nbsp;=&nbsp;[],</div></div><div class=\"1200\" style=\"display: none;\"><div style=\"display: table-cell;\"></div><div style=\"display: table-cell;\">align&nbsp;=&nbsp;'start',</div></div><div class=\"1200\" style=\"display: none;\"><div style=\"display: table-cell;\"></div><div style=\"display: table-cell;\">aspect_ratio&nbsp;=&nbsp;None,</div></div><div class=\"1200\" style=\"display: none;\"><div style=\"display: table-cell;\"></div><div style=\"display: table-cell;\">aspect_scale&nbsp;=&nbsp;1,</div></div><div class=\"1200\" style=\"display: none;\"><div style=\"display: table-cell;\"></div><div style=\"display: table-cell;\">background&nbsp;=&nbsp;None,</div></div><div class=\"1200\" style=\"display: none;\"><div style=\"display: table-cell;\"></div><div style=\"display: table-cell;\">background_fill_alpha&nbsp;=&nbsp;1.0,</div></div><div class=\"1200\" style=\"display: none;\"><div style=\"display: table-cell;\"></div><div style=\"display: table-cell;\">background_fill_color&nbsp;=&nbsp;'#ffffff',</div></div><div class=\"1200\" style=\"display: none;\"><div style=\"display: table-cell;\"></div><div style=\"display: table-cell;\">below&nbsp;=&nbsp;[LinearAxis(id='1108', ...)],</div></div><div class=\"1200\" style=\"display: none;\"><div style=\"display: table-cell;\"></div><div style=\"display: table-cell;\">border_fill_alpha&nbsp;=&nbsp;1.0,</div></div><div class=\"1200\" style=\"display: none;\"><div style=\"display: table-cell;\"></div><div style=\"display: table-cell;\">border_fill_color&nbsp;=&nbsp;'#ffffff',</div></div><div class=\"1200\" style=\"display: none;\"><div style=\"display: table-cell;\"></div><div style=\"display: table-cell;\">center&nbsp;=&nbsp;[Grid(id='1111', ...), Grid(id='1115', ...)],</div></div><div class=\"1200\" style=\"display: none;\"><div style=\"display: table-cell;\"></div><div style=\"display: table-cell;\">css_classes&nbsp;=&nbsp;[],</div></div><div class=\"1200\" style=\"display: none;\"><div style=\"display: table-cell;\"></div><div style=\"display: table-cell;\">disabled&nbsp;=&nbsp;False,</div></div><div class=\"1200\" style=\"display: none;\"><div style=\"display: table-cell;\"></div><div style=\"display: table-cell;\">extra_x_ranges&nbsp;=&nbsp;{},</div></div><div class=\"1200\" style=\"display: none;\"><div style=\"display: table-cell;\"></div><div style=\"display: table-cell;\">extra_y_ranges&nbsp;=&nbsp;{},</div></div><div class=\"1200\" style=\"display: none;\"><div style=\"display: table-cell;\"></div><div style=\"display: table-cell;\">frame_height&nbsp;=&nbsp;None,</div></div><div class=\"1200\" style=\"display: none;\"><div style=\"display: table-cell;\"></div><div style=\"display: table-cell;\">frame_width&nbsp;=&nbsp;None,</div></div><div class=\"1200\" style=\"display: none;\"><div style=\"display: table-cell;\"></div><div style=\"display: table-cell;\">height&nbsp;=&nbsp;None,</div></div><div class=\"1200\" style=\"display: none;\"><div style=\"display: table-cell;\"></div><div style=\"display: table-cell;\">height_policy&nbsp;=&nbsp;'auto',</div></div><div class=\"1200\" style=\"display: none;\"><div style=\"display: table-cell;\"></div><div style=\"display: table-cell;\">hidpi&nbsp;=&nbsp;True,</div></div><div class=\"1200\" style=\"display: none;\"><div style=\"display: table-cell;\"></div><div style=\"display: table-cell;\">js_event_callbacks&nbsp;=&nbsp;{},</div></div><div class=\"1200\" style=\"display: none;\"><div style=\"display: table-cell;\"></div><div style=\"display: table-cell;\">js_property_callbacks&nbsp;=&nbsp;{},</div></div><div class=\"1200\" style=\"display: none;\"><div style=\"display: table-cell;\"></div><div style=\"display: table-cell;\">left&nbsp;=&nbsp;[LinearAxis(id='1112', ...)],</div></div><div class=\"1200\" style=\"display: none;\"><div style=\"display: table-cell;\"></div><div style=\"display: table-cell;\">lod_factor&nbsp;=&nbsp;10,</div></div><div class=\"1200\" style=\"display: none;\"><div style=\"display: table-cell;\"></div><div style=\"display: table-cell;\">lod_interval&nbsp;=&nbsp;300,</div></div><div class=\"1200\" style=\"display: none;\"><div style=\"display: table-cell;\"></div><div style=\"display: table-cell;\">lod_threshold&nbsp;=&nbsp;2000,</div></div><div class=\"1200\" style=\"display: none;\"><div style=\"display: table-cell;\"></div><div style=\"display: table-cell;\">lod_timeout&nbsp;=&nbsp;500,</div></div><div class=\"1200\" style=\"display: none;\"><div style=\"display: table-cell;\"></div><div style=\"display: table-cell;\">margin&nbsp;=&nbsp;(0, 0, 0, 0),</div></div><div class=\"1200\" style=\"display: none;\"><div style=\"display: table-cell;\"></div><div style=\"display: table-cell;\">match_aspect&nbsp;=&nbsp;False,</div></div><div class=\"1200\" style=\"display: none;\"><div style=\"display: table-cell;\"></div><div style=\"display: table-cell;\">max_height&nbsp;=&nbsp;None,</div></div><div class=\"1200\" style=\"display: none;\"><div style=\"display: table-cell;\"></div><div style=\"display: table-cell;\">max_width&nbsp;=&nbsp;None,</div></div><div class=\"1200\" style=\"display: none;\"><div style=\"display: table-cell;\"></div><div style=\"display: table-cell;\">min_border&nbsp;=&nbsp;5,</div></div><div class=\"1200\" style=\"display: none;\"><div style=\"display: table-cell;\"></div><div style=\"display: table-cell;\">min_border_bottom&nbsp;=&nbsp;None,</div></div><div class=\"1200\" style=\"display: none;\"><div style=\"display: table-cell;\"></div><div style=\"display: table-cell;\">min_border_left&nbsp;=&nbsp;None,</div></div><div class=\"1200\" style=\"display: none;\"><div style=\"display: table-cell;\"></div><div style=\"display: table-cell;\">min_border_right&nbsp;=&nbsp;None,</div></div><div class=\"1200\" style=\"display: none;\"><div style=\"display: table-cell;\"></div><div style=\"display: table-cell;\">min_border_top&nbsp;=&nbsp;None,</div></div><div class=\"1200\" style=\"display: none;\"><div style=\"display: table-cell;\"></div><div style=\"display: table-cell;\">min_height&nbsp;=&nbsp;None,</div></div><div class=\"1200\" style=\"display: none;\"><div style=\"display: table-cell;\"></div><div style=\"display: table-cell;\">min_width&nbsp;=&nbsp;None,</div></div><div class=\"1200\" style=\"display: none;\"><div style=\"display: table-cell;\"></div><div style=\"display: table-cell;\">name&nbsp;=&nbsp;None,</div></div><div class=\"1200\" style=\"display: none;\"><div style=\"display: table-cell;\"></div><div style=\"display: table-cell;\">outline_line_alpha&nbsp;=&nbsp;1.0,</div></div><div class=\"1200\" style=\"display: none;\"><div style=\"display: table-cell;\"></div><div style=\"display: table-cell;\">outline_line_cap&nbsp;=&nbsp;'butt',</div></div><div class=\"1200\" style=\"display: none;\"><div style=\"display: table-cell;\"></div><div style=\"display: table-cell;\">outline_line_color&nbsp;=&nbsp;'#e5e5e5',</div></div><div class=\"1200\" style=\"display: none;\"><div style=\"display: table-cell;\"></div><div style=\"display: table-cell;\">outline_line_dash&nbsp;=&nbsp;[],</div></div><div class=\"1200\" style=\"display: none;\"><div style=\"display: table-cell;\"></div><div style=\"display: table-cell;\">outline_line_dash_offset&nbsp;=&nbsp;0,</div></div><div class=\"1200\" style=\"display: none;\"><div style=\"display: table-cell;\"></div><div style=\"display: table-cell;\">outline_line_join&nbsp;=&nbsp;'bevel',</div></div><div class=\"1200\" style=\"display: none;\"><div style=\"display: table-cell;\"></div><div style=\"display: table-cell;\">outline_line_width&nbsp;=&nbsp;1,</div></div><div class=\"1200\" style=\"display: none;\"><div style=\"display: table-cell;\"></div><div style=\"display: table-cell;\">output_backend&nbsp;=&nbsp;'canvas',</div></div><div class=\"1200\" style=\"display: none;\"><div style=\"display: table-cell;\"></div><div style=\"display: table-cell;\">plot_height&nbsp;=&nbsp;400,</div></div><div class=\"1200\" style=\"display: none;\"><div style=\"display: table-cell;\"></div><div style=\"display: table-cell;\">plot_width&nbsp;=&nbsp;600,</div></div><div class=\"1200\" style=\"display: none;\"><div style=\"display: table-cell;\"></div><div style=\"display: table-cell;\">renderers&nbsp;=&nbsp;[GlyphRenderer(id='1133', ...)],</div></div><div class=\"1200\" style=\"display: none;\"><div style=\"display: table-cell;\"></div><div style=\"display: table-cell;\">reset_policy&nbsp;=&nbsp;'standard',</div></div><div class=\"1200\" style=\"display: none;\"><div style=\"display: table-cell;\"></div><div style=\"display: table-cell;\">right&nbsp;=&nbsp;[],</div></div><div class=\"1200\" style=\"display: none;\"><div style=\"display: table-cell;\"></div><div style=\"display: table-cell;\">sizing_mode&nbsp;=&nbsp;None,</div></div><div class=\"1200\" style=\"display: none;\"><div style=\"display: table-cell;\"></div><div style=\"display: table-cell;\">subscribed_events&nbsp;=&nbsp;[],</div></div><div class=\"1200\" style=\"display: none;\"><div style=\"display: table-cell;\"></div><div style=\"display: table-cell;\">tags&nbsp;=&nbsp;[],</div></div><div class=\"1200\" style=\"display: none;\"><div style=\"display: table-cell;\"></div><div style=\"display: table-cell;\">title&nbsp;=&nbsp;Title(id='1146', ...),</div></div><div class=\"1200\" style=\"display: none;\"><div style=\"display: table-cell;\"></div><div style=\"display: table-cell;\">title_location&nbsp;=&nbsp;'above',</div></div><div class=\"1200\" style=\"display: none;\"><div style=\"display: table-cell;\"></div><div style=\"display: table-cell;\">toolbar&nbsp;=&nbsp;Toolbar(id='1123', ...),</div></div><div class=\"1200\" style=\"display: none;\"><div style=\"display: table-cell;\"></div><div style=\"display: table-cell;\">toolbar_location&nbsp;=&nbsp;'right',</div></div><div class=\"1200\" style=\"display: none;\"><div style=\"display: table-cell;\"></div><div style=\"display: table-cell;\">toolbar_sticky&nbsp;=&nbsp;True,</div></div><div class=\"1200\" style=\"display: none;\"><div style=\"display: table-cell;\"></div><div style=\"display: table-cell;\">visible&nbsp;=&nbsp;True,</div></div><div class=\"1200\" style=\"display: none;\"><div style=\"display: table-cell;\"></div><div style=\"display: table-cell;\">width&nbsp;=&nbsp;None,</div></div><div class=\"1200\" style=\"display: none;\"><div style=\"display: table-cell;\"></div><div style=\"display: table-cell;\">width_policy&nbsp;=&nbsp;'auto',</div></div><div class=\"1200\" style=\"display: none;\"><div style=\"display: table-cell;\"></div><div style=\"display: table-cell;\">x_range&nbsp;=&nbsp;DataRange1d(id='1100', ...),</div></div><div class=\"1200\" style=\"display: none;\"><div style=\"display: table-cell;\"></div><div style=\"display: table-cell;\">x_scale&nbsp;=&nbsp;LinearScale(id='1104', ...),</div></div><div class=\"1200\" style=\"display: none;\"><div style=\"display: table-cell;\"></div><div style=\"display: table-cell;\">y_range&nbsp;=&nbsp;DataRange1d(id='1102', ...),</div></div><div class=\"1200\" style=\"display: none;\"><div style=\"display: table-cell;\"></div><div style=\"display: table-cell;\">y_scale&nbsp;=&nbsp;LinearScale(id='1106', ...))</div></div></div>\n",
       "<script>\n",
       "(function() {\n",
       "  var expanded = false;\n",
       "  var ellipsis = document.getElementById(\"1201\");\n",
       "  ellipsis.addEventListener(\"click\", function() {\n",
       "    var rows = document.getElementsByClassName(\"1200\");\n",
       "    for (var i = 0; i < rows.length; i++) {\n",
       "      var el = rows[i];\n",
       "      el.style.display = expanded ? \"none\" : \"table-row\";\n",
       "    }\n",
       "    ellipsis.innerHTML = expanded ? \"&hellip;)\" : \"&lsaquo;&lsaquo;&lsaquo;\";\n",
       "    expanded = !expanded;\n",
       "  });\n",
       "})();\n",
       "</script>\n"
      ],
      "text/plain": [
       "Figure(id='1099', ...)"
      ]
     },
     "execution_count": 40,
     "metadata": {
      "tags": []
     },
     "output_type": "execute_result"
    }
   ],
   "source": [
    "draw_vectors(word_vectors_pca[:, 0], word_vectors_pca[:, 1], token=words)"
   ]
  },
  {
   "cell_type": "markdown",
   "metadata": {
    "id": "VOIU8uXnSItf"
   },
   "source": [
    "### TSNE\n",
    "\n",
    "Более интересный и сложный (нелинейный) метод для визуализации высокоразмерных пространств - TSNE. Подробно посмотреть на него можно [здесь](https://distill.pub/2016/misread-tsne/) (ещё более красивые картинки!).\n",
    "\n",
    "**Задание** Как и с PCA - воспользуйтесь TSNE из sklearn и нормируйте + центрируйте результат."
   ]
  },
  {
   "cell_type": "code",
   "execution_count": null,
   "metadata": {
    "id": "F-nlN4_aDF9G"
   },
   "outputs": [],
   "source": [
    "from sklearn.manifold import TSNE\n",
    "\n",
    "def get_tsne_projection(word_vectors):\n",
    "    return TSNE().fit_transform(word_vectors)"
   ]
  },
  {
   "cell_type": "code",
   "execution_count": null,
   "metadata": {
    "colab": {
     "base_uri": "https://localhost:8080/",
     "height": 434
    },
    "id": "D_YFR_rYDK2n",
    "outputId": "6bf40745-51f4-4a7b-fd77-190e6ed6d740"
   },
   "outputs": [
    {
     "data": {
      "application/javascript": [
       "\n",
       "(function(root) {\n",
       "  function now() {\n",
       "    return new Date();\n",
       "  }\n",
       "\n",
       "  var force = true;\n",
       "\n",
       "  if (typeof root._bokeh_onload_callbacks === \"undefined\" || force === true) {\n",
       "    root._bokeh_onload_callbacks = [];\n",
       "    root._bokeh_is_loading = undefined;\n",
       "  }\n",
       "\n",
       "  var JS_MIME_TYPE = 'application/javascript';\n",
       "  var HTML_MIME_TYPE = 'text/html';\n",
       "  var EXEC_MIME_TYPE = 'application/vnd.bokehjs_exec.v0+json';\n",
       "  var CLASS_NAME = 'output_bokeh rendered_html';\n",
       "\n",
       "  /**\n",
       "   * Render data to the DOM node\n",
       "   */\n",
       "  function render(props, node) {\n",
       "    var script = document.createElement(\"script\");\n",
       "    node.appendChild(script);\n",
       "  }\n",
       "\n",
       "  /**\n",
       "   * Handle when an output is cleared or removed\n",
       "   */\n",
       "  function handleClearOutput(event, handle) {\n",
       "    var cell = handle.cell;\n",
       "\n",
       "    var id = cell.output_area._bokeh_element_id;\n",
       "    var server_id = cell.output_area._bokeh_server_id;\n",
       "    // Clean up Bokeh references\n",
       "    if (id != null && id in Bokeh.index) {\n",
       "      Bokeh.index[id].model.document.clear();\n",
       "      delete Bokeh.index[id];\n",
       "    }\n",
       "\n",
       "    if (server_id !== undefined) {\n",
       "      // Clean up Bokeh references\n",
       "      var cmd = \"from bokeh.io.state import curstate; print(curstate().uuid_to_server['\" + server_id + \"'].get_sessions()[0].document.roots[0]._id)\";\n",
       "      cell.notebook.kernel.execute(cmd, {\n",
       "        iopub: {\n",
       "          output: function(msg) {\n",
       "            var id = msg.content.text.trim();\n",
       "            if (id in Bokeh.index) {\n",
       "              Bokeh.index[id].model.document.clear();\n",
       "              delete Bokeh.index[id];\n",
       "            }\n",
       "          }\n",
       "        }\n",
       "      });\n",
       "      // Destroy server and session\n",
       "      var cmd = \"import bokeh.io.notebook as ion; ion.destroy_server('\" + server_id + \"')\";\n",
       "      cell.notebook.kernel.execute(cmd);\n",
       "    }\n",
       "  }\n",
       "\n",
       "  /**\n",
       "   * Handle when a new output is added\n",
       "   */\n",
       "  function handleAddOutput(event, handle) {\n",
       "    var output_area = handle.output_area;\n",
       "    var output = handle.output;\n",
       "\n",
       "    // limit handleAddOutput to display_data with EXEC_MIME_TYPE content only\n",
       "    if ((output.output_type != \"display_data\") || (!output.data.hasOwnProperty(EXEC_MIME_TYPE))) {\n",
       "      return\n",
       "    }\n",
       "\n",
       "    var toinsert = output_area.element.find(\".\" + CLASS_NAME.split(' ')[0]);\n",
       "\n",
       "    if (output.metadata[EXEC_MIME_TYPE][\"id\"] !== undefined) {\n",
       "      toinsert[toinsert.length - 1].firstChild.textContent = output.data[JS_MIME_TYPE];\n",
       "      // store reference to embed id on output_area\n",
       "      output_area._bokeh_element_id = output.metadata[EXEC_MIME_TYPE][\"id\"];\n",
       "    }\n",
       "    if (output.metadata[EXEC_MIME_TYPE][\"server_id\"] !== undefined) {\n",
       "      var bk_div = document.createElement(\"div\");\n",
       "      bk_div.innerHTML = output.data[HTML_MIME_TYPE];\n",
       "      var script_attrs = bk_div.children[0].attributes;\n",
       "      for (var i = 0; i < script_attrs.length; i++) {\n",
       "        toinsert[toinsert.length - 1].firstChild.setAttribute(script_attrs[i].name, script_attrs[i].value);\n",
       "        toinsert[toinsert.length - 1].firstChild.textContent = bk_div.children[0].textContent\n",
       "      }\n",
       "      // store reference to server id on output_area\n",
       "      output_area._bokeh_server_id = output.metadata[EXEC_MIME_TYPE][\"server_id\"];\n",
       "    }\n",
       "  }\n",
       "\n",
       "  function register_renderer(events, OutputArea) {\n",
       "\n",
       "    function append_mime(data, metadata, element) {\n",
       "      // create a DOM node to render to\n",
       "      var toinsert = this.create_output_subarea(\n",
       "        metadata,\n",
       "        CLASS_NAME,\n",
       "        EXEC_MIME_TYPE\n",
       "      );\n",
       "      this.keyboard_manager.register_events(toinsert);\n",
       "      // Render to node\n",
       "      var props = {data: data, metadata: metadata[EXEC_MIME_TYPE]};\n",
       "      render(props, toinsert[toinsert.length - 1]);\n",
       "      element.append(toinsert);\n",
       "      return toinsert\n",
       "    }\n",
       "\n",
       "    /* Handle when an output is cleared or removed */\n",
       "    events.on('clear_output.CodeCell', handleClearOutput);\n",
       "    events.on('delete.Cell', handleClearOutput);\n",
       "\n",
       "    /* Handle when a new output is added */\n",
       "    events.on('output_added.OutputArea', handleAddOutput);\n",
       "\n",
       "    /**\n",
       "     * Register the mime type and append_mime function with output_area\n",
       "     */\n",
       "    OutputArea.prototype.register_mime_type(EXEC_MIME_TYPE, append_mime, {\n",
       "      /* Is output safe? */\n",
       "      safe: true,\n",
       "      /* Index of renderer in `output_area.display_order` */\n",
       "      index: 0\n",
       "    });\n",
       "  }\n",
       "\n",
       "  // register the mime type if in Jupyter Notebook environment and previously unregistered\n",
       "  if (root.Jupyter !== undefined) {\n",
       "    var events = require('base/js/events');\n",
       "    var OutputArea = require('notebook/js/outputarea').OutputArea;\n",
       "\n",
       "    if (OutputArea.prototype.mime_types().indexOf(EXEC_MIME_TYPE) == -1) {\n",
       "      register_renderer(events, OutputArea);\n",
       "    }\n",
       "  }\n",
       "\n",
       "  \n",
       "  if (typeof (root._bokeh_timeout) === \"undefined\" || force === true) {\n",
       "    root._bokeh_timeout = Date.now() + 5000;\n",
       "    root._bokeh_failed_load = false;\n",
       "  }\n",
       "\n",
       "  var NB_LOAD_WARNING = {'data': {'text/html':\n",
       "     \"<div style='background-color: #fdd'>\\n\"+\n",
       "     \"<p>\\n\"+\n",
       "     \"BokehJS does not appear to have successfully loaded. If loading BokehJS from CDN, this \\n\"+\n",
       "     \"may be due to a slow or bad network connection. Possible fixes:\\n\"+\n",
       "     \"</p>\\n\"+\n",
       "     \"<ul>\\n\"+\n",
       "     \"<li>re-rerun `output_notebook()` to attempt to load from CDN again, or</li>\\n\"+\n",
       "     \"<li>use INLINE resources instead, as so:</li>\\n\"+\n",
       "     \"</ul>\\n\"+\n",
       "     \"<code>\\n\"+\n",
       "     \"from bokeh.resources import INLINE\\n\"+\n",
       "     \"output_notebook(resources=INLINE)\\n\"+\n",
       "     \"</code>\\n\"+\n",
       "     \"</div>\"}};\n",
       "\n",
       "  function display_loaded() {\n",
       "    var el = document.getElementById(null);\n",
       "    if (el != null) {\n",
       "      el.textContent = \"BokehJS is loading...\";\n",
       "    }\n",
       "    if (root.Bokeh !== undefined) {\n",
       "      if (el != null) {\n",
       "        el.textContent = \"BokehJS \" + root.Bokeh.version + \" successfully loaded.\";\n",
       "      }\n",
       "    } else if (Date.now() < root._bokeh_timeout) {\n",
       "      setTimeout(display_loaded, 100)\n",
       "    }\n",
       "  }\n",
       "\n",
       "\n",
       "  function run_callbacks() {\n",
       "    try {\n",
       "      root._bokeh_onload_callbacks.forEach(function(callback) {\n",
       "        if (callback != null)\n",
       "          callback();\n",
       "      });\n",
       "    } finally {\n",
       "      delete root._bokeh_onload_callbacks\n",
       "    }\n",
       "    console.debug(\"Bokeh: all callbacks have finished\");\n",
       "  }\n",
       "\n",
       "  function load_libs(css_urls, js_urls, callback) {\n",
       "    if (css_urls == null) css_urls = [];\n",
       "    if (js_urls == null) js_urls = [];\n",
       "\n",
       "    root._bokeh_onload_callbacks.push(callback);\n",
       "    if (root._bokeh_is_loading > 0) {\n",
       "      console.debug(\"Bokeh: BokehJS is being loaded, scheduling callback at\", now());\n",
       "      return null;\n",
       "    }\n",
       "    if (js_urls == null || js_urls.length === 0) {\n",
       "      run_callbacks();\n",
       "      return null;\n",
       "    }\n",
       "    console.debug(\"Bokeh: BokehJS not loaded, scheduling load and callback at\", now());\n",
       "    root._bokeh_is_loading = css_urls.length + js_urls.length;\n",
       "\n",
       "    function on_load() {\n",
       "      root._bokeh_is_loading--;\n",
       "      if (root._bokeh_is_loading === 0) {\n",
       "        console.debug(\"Bokeh: all BokehJS libraries/stylesheets loaded\");\n",
       "        run_callbacks()\n",
       "      }\n",
       "    }\n",
       "\n",
       "    function on_error() {\n",
       "      console.error(\"failed to load \" + url);\n",
       "    }\n",
       "\n",
       "    for (var i = 0; i < css_urls.length; i++) {\n",
       "      var url = css_urls[i];\n",
       "      const element = document.createElement(\"link\");\n",
       "      element.onload = on_load;\n",
       "      element.onerror = on_error;\n",
       "      element.rel = \"stylesheet\";\n",
       "      element.type = \"text/css\";\n",
       "      element.href = url;\n",
       "      console.debug(\"Bokeh: injecting link tag for BokehJS stylesheet: \", url);\n",
       "      document.body.appendChild(element);\n",
       "    }\n",
       "\n",
       "    const hashes = {\"https://cdn.bokeh.org/bokeh/release/bokeh-2.2.3.min.js\": \"T2yuo9Oe71Cz/I4X9Ac5+gpEa5a8PpJCDlqKYO0CfAuEszu1JrXLl8YugMqYe3sM\", \"https://cdn.bokeh.org/bokeh/release/bokeh-widgets-2.2.3.min.js\": \"98GDGJ0kOMCUMUePhksaQ/GYgB3+NH9h996V88sh3aOiUNX3N+fLXAtry6xctSZ6\", \"https://cdn.bokeh.org/bokeh/release/bokeh-tables-2.2.3.min.js\": \"89bArO+nlbP3sgakeHjCo1JYxYR5wufVgA3IbUvDY+K7w4zyxJqssu7wVnfeKCq8\"};\n",
       "\n",
       "    for (var i = 0; i < js_urls.length; i++) {\n",
       "      var url = js_urls[i];\n",
       "      var element = document.createElement('script');\n",
       "      element.onload = on_load;\n",
       "      element.onerror = on_error;\n",
       "      element.async = false;\n",
       "      element.src = url;\n",
       "      if (url in hashes) {\n",
       "        element.crossOrigin = \"anonymous\";\n",
       "        element.integrity = \"sha384-\" + hashes[url];\n",
       "      }\n",
       "      console.debug(\"Bokeh: injecting script tag for BokehJS library: \", url);\n",
       "      document.head.appendChild(element);\n",
       "    }\n",
       "  };\n",
       "\n",
       "  function inject_raw_css(css) {\n",
       "    const element = document.createElement(\"style\");\n",
       "    element.appendChild(document.createTextNode(css));\n",
       "    document.body.appendChild(element);\n",
       "  }\n",
       "\n",
       "  \n",
       "  var js_urls = [\"https://cdn.bokeh.org/bokeh/release/bokeh-2.2.3.min.js\", \"https://cdn.bokeh.org/bokeh/release/bokeh-widgets-2.2.3.min.js\", \"https://cdn.bokeh.org/bokeh/release/bokeh-tables-2.2.3.min.js\"];\n",
       "  var css_urls = [];\n",
       "  \n",
       "\n",
       "  var inline_js = [\n",
       "    function(Bokeh) {\n",
       "      Bokeh.set_log_level(\"info\");\n",
       "    },\n",
       "    function(Bokeh) {\n",
       "    \n",
       "    \n",
       "    }\n",
       "  ];\n",
       "\n",
       "  function run_inline_js() {\n",
       "    \n",
       "    if (root.Bokeh !== undefined || force === true) {\n",
       "      \n",
       "    for (var i = 0; i < inline_js.length; i++) {\n",
       "      inline_js[i].call(root, root.Bokeh);\n",
       "    }\n",
       "    } else if (Date.now() < root._bokeh_timeout) {\n",
       "      setTimeout(run_inline_js, 100);\n",
       "    } else if (!root._bokeh_failed_load) {\n",
       "      console.log(\"Bokeh: BokehJS failed to load within specified timeout.\");\n",
       "      root._bokeh_failed_load = true;\n",
       "    } else if (force !== true) {\n",
       "      var cell = $(document.getElementById(null)).parents('.cell').data().cell;\n",
       "      cell.output_area.append_execute_result(NB_LOAD_WARNING)\n",
       "    }\n",
       "\n",
       "  }\n",
       "\n",
       "  if (root._bokeh_is_loading === 0) {\n",
       "    console.debug(\"Bokeh: BokehJS loaded, going straight to plotting\");\n",
       "    run_inline_js();\n",
       "  } else {\n",
       "    load_libs(css_urls, js_urls, function() {\n",
       "      console.debug(\"Bokeh: BokehJS plotting callback run at\", now());\n",
       "      run_inline_js();\n",
       "    });\n",
       "  }\n",
       "}(window));"
      ],
      "application/vnd.bokehjs_load.v0+json": "\n(function(root) {\n  function now() {\n    return new Date();\n  }\n\n  var force = true;\n\n  if (typeof root._bokeh_onload_callbacks === \"undefined\" || force === true) {\n    root._bokeh_onload_callbacks = [];\n    root._bokeh_is_loading = undefined;\n  }\n\n  \n\n  \n  if (typeof (root._bokeh_timeout) === \"undefined\" || force === true) {\n    root._bokeh_timeout = Date.now() + 5000;\n    root._bokeh_failed_load = false;\n  }\n\n  var NB_LOAD_WARNING = {'data': {'text/html':\n     \"<div style='background-color: #fdd'>\\n\"+\n     \"<p>\\n\"+\n     \"BokehJS does not appear to have successfully loaded. If loading BokehJS from CDN, this \\n\"+\n     \"may be due to a slow or bad network connection. Possible fixes:\\n\"+\n     \"</p>\\n\"+\n     \"<ul>\\n\"+\n     \"<li>re-rerun `output_notebook()` to attempt to load from CDN again, or</li>\\n\"+\n     \"<li>use INLINE resources instead, as so:</li>\\n\"+\n     \"</ul>\\n\"+\n     \"<code>\\n\"+\n     \"from bokeh.resources import INLINE\\n\"+\n     \"output_notebook(resources=INLINE)\\n\"+\n     \"</code>\\n\"+\n     \"</div>\"}};\n\n  function display_loaded() {\n    var el = document.getElementById(null);\n    if (el != null) {\n      el.textContent = \"BokehJS is loading...\";\n    }\n    if (root.Bokeh !== undefined) {\n      if (el != null) {\n        el.textContent = \"BokehJS \" + root.Bokeh.version + \" successfully loaded.\";\n      }\n    } else if (Date.now() < root._bokeh_timeout) {\n      setTimeout(display_loaded, 100)\n    }\n  }\n\n\n  function run_callbacks() {\n    try {\n      root._bokeh_onload_callbacks.forEach(function(callback) {\n        if (callback != null)\n          callback();\n      });\n    } finally {\n      delete root._bokeh_onload_callbacks\n    }\n    console.debug(\"Bokeh: all callbacks have finished\");\n  }\n\n  function load_libs(css_urls, js_urls, callback) {\n    if (css_urls == null) css_urls = [];\n    if (js_urls == null) js_urls = [];\n\n    root._bokeh_onload_callbacks.push(callback);\n    if (root._bokeh_is_loading > 0) {\n      console.debug(\"Bokeh: BokehJS is being loaded, scheduling callback at\", now());\n      return null;\n    }\n    if (js_urls == null || js_urls.length === 0) {\n      run_callbacks();\n      return null;\n    }\n    console.debug(\"Bokeh: BokehJS not loaded, scheduling load and callback at\", now());\n    root._bokeh_is_loading = css_urls.length + js_urls.length;\n\n    function on_load() {\n      root._bokeh_is_loading--;\n      if (root._bokeh_is_loading === 0) {\n        console.debug(\"Bokeh: all BokehJS libraries/stylesheets loaded\");\n        run_callbacks()\n      }\n    }\n\n    function on_error() {\n      console.error(\"failed to load \" + url);\n    }\n\n    for (var i = 0; i < css_urls.length; i++) {\n      var url = css_urls[i];\n      const element = document.createElement(\"link\");\n      element.onload = on_load;\n      element.onerror = on_error;\n      element.rel = \"stylesheet\";\n      element.type = \"text/css\";\n      element.href = url;\n      console.debug(\"Bokeh: injecting link tag for BokehJS stylesheet: \", url);\n      document.body.appendChild(element);\n    }\n\n    const hashes = {\"https://cdn.bokeh.org/bokeh/release/bokeh-2.2.3.min.js\": \"T2yuo9Oe71Cz/I4X9Ac5+gpEa5a8PpJCDlqKYO0CfAuEszu1JrXLl8YugMqYe3sM\", \"https://cdn.bokeh.org/bokeh/release/bokeh-widgets-2.2.3.min.js\": \"98GDGJ0kOMCUMUePhksaQ/GYgB3+NH9h996V88sh3aOiUNX3N+fLXAtry6xctSZ6\", \"https://cdn.bokeh.org/bokeh/release/bokeh-tables-2.2.3.min.js\": \"89bArO+nlbP3sgakeHjCo1JYxYR5wufVgA3IbUvDY+K7w4zyxJqssu7wVnfeKCq8\"};\n\n    for (var i = 0; i < js_urls.length; i++) {\n      var url = js_urls[i];\n      var element = document.createElement('script');\n      element.onload = on_load;\n      element.onerror = on_error;\n      element.async = false;\n      element.src = url;\n      if (url in hashes) {\n        element.crossOrigin = \"anonymous\";\n        element.integrity = \"sha384-\" + hashes[url];\n      }\n      console.debug(\"Bokeh: injecting script tag for BokehJS library: \", url);\n      document.head.appendChild(element);\n    }\n  };\n\n  function inject_raw_css(css) {\n    const element = document.createElement(\"style\");\n    element.appendChild(document.createTextNode(css));\n    document.body.appendChild(element);\n  }\n\n  \n  var js_urls = [\"https://cdn.bokeh.org/bokeh/release/bokeh-2.2.3.min.js\", \"https://cdn.bokeh.org/bokeh/release/bokeh-widgets-2.2.3.min.js\", \"https://cdn.bokeh.org/bokeh/release/bokeh-tables-2.2.3.min.js\"];\n  var css_urls = [];\n  \n\n  var inline_js = [\n    function(Bokeh) {\n      Bokeh.set_log_level(\"info\");\n    },\n    function(Bokeh) {\n    \n    \n    }\n  ];\n\n  function run_inline_js() {\n    \n    if (root.Bokeh !== undefined || force === true) {\n      \n    for (var i = 0; i < inline_js.length; i++) {\n      inline_js[i].call(root, root.Bokeh);\n    }\n    } else if (Date.now() < root._bokeh_timeout) {\n      setTimeout(run_inline_js, 100);\n    } else if (!root._bokeh_failed_load) {\n      console.log(\"Bokeh: BokehJS failed to load within specified timeout.\");\n      root._bokeh_failed_load = true;\n    } else if (force !== true) {\n      var cell = $(document.getElementById(null)).parents('.cell').data().cell;\n      cell.output_area.append_execute_result(NB_LOAD_WARNING)\n    }\n\n  }\n\n  if (root._bokeh_is_loading === 0) {\n    console.debug(\"Bokeh: BokehJS loaded, going straight to plotting\");\n    run_inline_js();\n  } else {\n    load_libs(css_urls, js_urls, function() {\n      console.debug(\"Bokeh: BokehJS plotting callback run at\", now());\n      run_inline_js();\n    });\n  }\n}(window));"
     },
     "metadata": {
      "tags": []
     },
     "output_type": "display_data"
    },
    {
     "data": {
      "text/html": [
       "\n",
       "\n",
       "\n",
       "\n",
       "\n",
       "\n",
       "  <div class=\"bk-root\" id=\"3eb6affb-0a62-4642-a691-71c91e9da272\" data-root-id=\"1205\"></div>\n"
      ]
     },
     "metadata": {
      "tags": []
     },
     "output_type": "display_data"
    },
    {
     "data": {
      "application/javascript": [
       "(function(root) {\n",
       "  function embed_document(root) {\n",
       "    \n",
       "  var docs_json = {\"d2902dc3-1a9d-4770-a5d0-0ef977624691\":{\"roots\":{\"references\":[{\"attributes\":{\"below\":[{\"id\":\"1214\"}],\"center\":[{\"id\":\"1217\"},{\"id\":\"1221\"}],\"left\":[{\"id\":\"1218\"}],\"plot_height\":400,\"renderers\":[{\"id\":\"1239\"}],\"title\":{\"id\":\"1261\"},\"toolbar\":{\"id\":\"1229\"},\"x_range\":{\"id\":\"1206\"},\"x_scale\":{\"id\":\"1210\"},\"y_range\":{\"id\":\"1208\"},\"y_scale\":{\"id\":\"1212\"}},\"id\":\"1205\",\"subtype\":\"Figure\",\"type\":\"Plot\"},{\"attributes\":{\"source\":{\"id\":\"1204\"}},\"id\":\"1240\",\"type\":\"CDSView\"},{\"attributes\":{},\"id\":\"1268\",\"type\":\"Selection\"},{\"attributes\":{\"data_source\":{\"id\":\"1204\"},\"glyph\":{\"id\":\"1237\"},\"hover_glyph\":null,\"muted_glyph\":null,\"nonselection_glyph\":{\"id\":\"1238\"},\"selection_glyph\":null,\"view\":{\"id\":\"1240\"}},\"id\":\"1239\",\"type\":\"GlyphRenderer\"},{\"attributes\":{\"fill_alpha\":{\"value\":0.25},\"fill_color\":{\"field\":\"color\"},\"line_alpha\":{\"value\":0.25},\"line_color\":{\"field\":\"color\"},\"size\":{\"units\":\"screen\",\"value\":10},\"x\":{\"field\":\"x\"},\"y\":{\"field\":\"y\"}},\"id\":\"1237\",\"type\":\"Scatter\"},{\"attributes\":{},\"id\":\"1269\",\"type\":\"UnionRenderers\"},{\"attributes\":{\"active_drag\":\"auto\",\"active_inspect\":\"auto\",\"active_multi\":null,\"active_scroll\":{\"id\":\"1223\"},\"active_tap\":\"auto\",\"tools\":[{\"id\":\"1222\"},{\"id\":\"1223\"},{\"id\":\"1224\"},{\"id\":\"1225\"},{\"id\":\"1226\"},{\"id\":\"1227\"},{\"id\":\"1241\"}]},\"id\":\"1229\",\"type\":\"Toolbar\"},{\"attributes\":{},\"id\":\"1222\",\"type\":\"PanTool\"},{\"attributes\":{},\"id\":\"1223\",\"type\":\"WheelZoomTool\"},{\"attributes\":{\"overlay\":{\"id\":\"1228\"}},\"id\":\"1224\",\"type\":\"BoxZoomTool\"},{\"attributes\":{},\"id\":\"1225\",\"type\":\"SaveTool\"},{\"attributes\":{},\"id\":\"1226\",\"type\":\"ResetTool\"},{\"attributes\":{},\"id\":\"1227\",\"type\":\"HelpTool\"},{\"attributes\":{\"data\":{\"color\":[\"green\",\"green\",\"green\",\"green\",\"green\",\"green\",\"green\",\"green\",\"green\",\"green\",\"green\",\"green\",\"green\",\"green\",\"green\",\"green\",\"green\",\"green\",\"green\",\"green\",\"green\",\"green\",\"green\",\"green\",\"green\",\"green\",\"green\",\"green\",\"green\",\"green\",\"green\",\"green\",\"green\",\"green\",\"green\",\"green\",\"green\",\"green\",\"green\",\"green\",\"green\",\"green\",\"green\",\"green\",\"green\",\"green\",\"green\",\"green\",\"green\",\"green\",\"green\",\"green\",\"green\",\"green\",\"green\",\"green\",\"green\",\"green\",\"green\",\"green\",\"green\",\"green\",\"green\",\"green\",\"green\",\"green\",\"green\",\"green\",\"green\",\"green\",\"green\",\"green\",\"green\",\"green\",\"green\",\"green\",\"green\",\"green\",\"green\",\"green\",\"green\",\"green\",\"green\",\"green\",\"green\",\"green\",\"green\",\"green\",\"green\",\"green\",\"green\",\"green\",\"green\",\"green\",\"green\",\"green\",\"green\",\"green\",\"green\",\"green\",\"green\",\"green\",\"green\",\"green\",\"green\",\"green\",\"green\",\"green\",\"green\",\"green\",\"green\",\"green\",\"green\",\"green\",\"green\",\"green\",\"green\",\"green\",\"green\",\"green\",\"green\",\"green\",\"green\",\"green\",\"green\",\"green\",\"green\",\"green\",\"green\",\"green\",\"green\",\"green\",\"green\",\"green\",\"green\",\"green\",\"green\",\"green\",\"green\",\"green\",\"green\",\"green\",\"green\",\"green\",\"green\",\"green\",\"green\",\"green\",\"green\",\"green\",\"green\",\"green\",\"green\",\"green\",\"green\",\"green\",\"green\",\"green\",\"green\",\"green\",\"green\",\"green\",\"green\",\"green\",\"green\",\"green\",\"green\",\"green\",\"green\",\"green\",\"green\",\"green\",\"green\",\"green\",\"green\",\"green\",\"green\",\"green\",\"green\",\"green\",\"green\",\"green\",\"green\",\"green\",\"green\",\"green\",\"green\",\"green\",\"green\",\"green\",\"green\",\"green\",\"green\",\"green\",\"green\",\"green\",\"green\",\"green\",\"green\",\"green\",\"green\",\"green\",\"green\",\"green\",\"green\",\"green\",\"green\",\"green\",\"green\",\"green\",\"green\",\"green\",\"green\",\"green\",\"green\",\"green\",\"green\",\"green\",\"green\",\"green\",\"green\",\"green\",\"green\",\"green\",\"green\",\"green\",\"green\",\"green\",\"green\",\"green\",\"green\",\"green\",\"green\",\"green\",\"green\",\"green\",\"green\",\"green\",\"green\",\"green\",\"green\",\"green\",\"green\",\"green\",\"green\",\"green\",\"green\",\"green\",\"green\",\"green\",\"green\",\"green\",\"green\",\"green\",\"green\",\"green\",\"green\",\"green\",\"green\",\"green\",\"green\",\"green\",\"green\",\"green\",\"green\",\"green\",\"green\",\"green\",\"green\",\"green\",\"green\",\"green\",\"green\",\"green\",\"green\",\"green\",\"green\",\"green\",\"green\",\"green\",\"green\",\"green\",\"green\",\"green\",\"green\",\"green\",\"green\",\"green\",\"green\",\"green\",\"green\",\"green\",\"green\",\"green\",\"green\",\"green\",\"green\",\"green\",\"green\",\"green\",\"green\",\"green\",\"green\",\"green\",\"green\",\"green\",\"green\",\"green\",\"green\",\"green\",\"green\",\"green\",\"green\",\"green\",\"green\",\"green\",\"green\",\"green\",\"green\",\"green\",\"green\",\"green\",\"green\",\"green\",\"green\",\"green\",\"green\",\"green\",\"green\",\"green\",\"green\",\"green\",\"green\",\"green\",\"green\",\"green\",\"green\",\"green\",\"green\",\"green\",\"green\",\"green\",\"green\",\"green\",\"green\",\"green\",\"green\",\"green\",\"green\",\"green\",\"green\",\"green\",\"green\",\"green\",\"green\",\"green\",\"green\",\"green\",\"green\",\"green\",\"green\",\"green\",\"green\",\"green\",\"green\",\"green\",\"green\",\"green\",\"green\",\"green\",\"green\",\"green\",\"green\",\"green\",\"green\",\"green\",\"green\",\"green\",\"green\",\"green\",\"green\",\"green\",\"green\",\"green\",\"green\",\"green\",\"green\",\"green\",\"green\",\"green\",\"green\",\"green\",\"green\",\"green\",\"green\",\"green\",\"green\",\"green\",\"green\",\"green\",\"green\",\"green\",\"green\",\"green\",\"green\",\"green\",\"green\",\"green\",\"green\",\"green\",\"green\",\"green\",\"green\",\"green\",\"green\",\"green\",\"green\",\"green\",\"green\",\"green\",\"green\",\"green\",\"green\",\"green\",\"green\",\"green\",\"green\",\"green\",\"green\",\"green\",\"green\",\"green\",\"green\",\"green\",\"green\",\"green\",\"green\",\"green\",\"green\",\"green\",\"green\",\"green\",\"green\",\"green\",\"green\",\"green\",\"green\",\"green\",\"green\",\"green\",\"green\",\"green\",\"green\",\"green\",\"green\",\"green\",\"green\",\"green\",\"green\",\"green\",\"green\",\"green\",\"green\",\"green\",\"green\",\"green\",\"green\",\"green\",\"green\",\"green\",\"green\",\"green\",\"green\",\"green\",\"green\",\"green\",\"green\",\"green\",\"green\",\"green\",\"green\",\"green\",\"green\",\"green\",\"green\",\"green\",\"green\",\"green\",\"green\",\"green\",\"green\",\"green\",\"green\",\"green\",\"green\",\"green\",\"green\",\"green\",\"green\",\"green\",\"green\",\"green\",\"green\",\"green\",\"green\",\"green\",\"green\",\"green\",\"green\",\"green\",\"green\",\"green\",\"green\",\"green\",\"green\",\"green\",\"green\",\"green\",\"green\",\"green\",\"green\",\"green\",\"green\",\"green\",\"green\",\"green\",\"green\",\"green\",\"green\",\"green\",\"green\",\"green\",\"green\",\"green\",\"green\",\"green\",\"green\",\"green\",\"green\",\"green\",\"green\",\"green\",\"green\",\"green\",\"green\",\"green\",\"green\",\"green\",\"green\",\"green\",\"green\",\"green\",\"green\",\"green\",\"green\",\"green\",\"green\",\"green\",\"green\",\"green\",\"green\",\"green\",\"green\",\"green\",\"green\",\"green\",\"green\",\"green\",\"green\",\"green\",\"green\",\"green\",\"green\",\"green\",\"green\",\"green\",\"green\",\"green\",\"green\",\"green\",\"green\",\"green\",\"green\",\"green\",\"green\",\"green\",\"green\",\"green\",\"green\",\"green\",\"green\",\"green\",\"green\",\"green\",\"green\",\"green\",\"green\",\"green\",\"green\",\"green\",\"green\",\"green\",\"green\",\"green\",\"green\",\"green\",\"green\",\"green\",\"green\",\"green\",\"green\",\"green\",\"green\",\"green\",\"green\",\"green\",\"green\",\"green\",\"green\",\"green\",\"green\",\"green\",\"green\",\"green\",\"green\",\"green\",\"green\",\"green\",\"green\",\"green\",\"green\",\"green\",\"green\",\"green\",\"green\",\"green\",\"green\",\"green\",\"green\",\"green\",\"green\",\"green\",\"green\",\"green\",\"green\",\"green\",\"green\",\"green\",\"green\",\"green\",\"green\",\"green\",\"green\",\"green\",\"green\",\"green\",\"green\",\"green\",\"green\",\"green\",\"green\",\"green\",\"green\",\"green\",\"green\",\"green\",\"green\",\"green\",\"green\",\"green\",\"green\",\"green\",\"green\",\"green\",\"green\",\"green\",\"green\",\"green\",\"green\",\"green\",\"green\",\"green\",\"green\",\"green\",\"green\",\"green\",\"green\",\"green\",\"green\",\"green\",\"green\",\"green\",\"green\",\"green\",\"green\",\"green\",\"green\",\"green\",\"green\",\"green\",\"green\",\"green\",\"green\",\"green\",\"green\",\"green\",\"green\",\"green\",\"green\",\"green\",\"green\",\"green\",\"green\",\"green\",\"green\",\"green\",\"green\",\"green\",\"green\",\"green\",\"green\",\"green\",\"green\",\"green\",\"green\",\"green\",\"green\",\"green\",\"green\",\"green\",\"green\",\"green\",\"green\",\"green\",\"green\",\"green\",\"green\",\"green\",\"green\",\"green\",\"green\",\"green\",\"green\",\"green\",\"green\",\"green\",\"green\",\"green\",\"green\",\"green\",\"green\",\"green\",\"green\",\"green\",\"green\",\"green\",\"green\",\"green\",\"green\",\"green\",\"green\",\"green\",\"green\",\"green\",\"green\",\"green\",\"green\",\"green\",\"green\",\"green\",\"green\",\"green\",\"green\",\"green\",\"green\",\"green\",\"green\",\"green\",\"green\",\"green\",\"green\",\"green\",\"green\",\"green\",\"green\",\"green\",\"green\",\"green\",\"green\",\"green\",\"green\",\"green\",\"green\",\"green\",\"green\",\"green\",\"green\",\"green\",\"green\",\"green\",\"green\",\"green\",\"green\",\"green\",\"green\",\"green\",\"green\",\"green\",\"green\",\"green\",\"green\",\"green\",\"green\",\"green\",\"green\",\"green\",\"green\",\"green\",\"green\",\"green\",\"green\",\"green\",\"green\",\"green\",\"green\",\"green\",\"green\",\"green\",\"green\",\"green\",\"green\",\"green\",\"green\",\"green\",\"green\",\"green\",\"green\",\"green\",\"green\",\"green\",\"green\",\"green\",\"green\",\"green\",\"green\",\"green\",\"green\",\"green\",\"green\",\"green\",\"green\",\"green\",\"green\",\"green\",\"green\",\"green\",\"green\",\"green\",\"green\",\"green\",\"green\",\"green\",\"green\",\"green\",\"green\",\"green\",\"green\",\"green\",\"green\",\"green\",\"green\",\"green\",\"green\",\"green\",\"green\",\"green\",\"green\",\"green\",\"green\",\"green\",\"green\",\"green\",\"green\",\"green\",\"green\",\"green\",\"green\",\"green\",\"green\",\"green\",\"green\",\"green\",\"green\",\"green\",\"green\",\"green\",\"green\",\"green\",\"green\",\"green\",\"green\",\"green\",\"green\",\"green\",\"green\",\"green\",\"green\",\"green\",\"green\",\"green\",\"green\",\"green\",\"green\",\"green\",\"green\",\"green\",\"green\",\"green\",\"green\",\"green\",\"green\",\"green\",\"green\",\"green\",\"green\",\"green\",\"green\",\"green\",\"green\",\"green\",\"green\",\"green\",\"green\",\"green\",\"green\",\"green\",\"green\",\"green\",\"green\",\"green\",\"green\",\"green\",\"green\",\"green\",\"green\",\"green\",\"green\",\"green\",\"green\",\"green\",\"green\",\"green\",\"green\",\"green\",\"green\",\"green\",\"green\",\"green\",\"green\",\"green\",\"green\",\"green\",\"green\",\"green\",\"green\",\"green\",\"green\",\"green\",\"green\",\"green\",\"green\",\"green\",\"green\",\"green\",\"green\",\"green\",\"green\",\"green\",\"green\",\"green\",\"green\",\"green\",\"green\",\"green\",\"green\",\"green\",\"green\",\"green\",\"green\",\"green\",\"green\",\"green\",\"green\",\"green\",\"green\",\"green\",\"green\",\"green\",\"green\",\"green\"],\"token\":[\"?\",\"the\",\"what\",\"is\",\"a\",\"i\",\"to\",\"in\",\"how\",\"of\",\"do\",\"are\",\"and\",\"for\",\",\",\"can\",\"you\",\"why\",\"it\",\"my\",\"does\",\"best\",\"on\",\".\",\"or\",\"have\",\"if\",\"be\",\"with\",\"which\",\"that\",\"an\",\"some\",\"should\",\"'s\",\"get\",\"from\",\")\",\"your\",\"(\",\"like\",\"when\",\"at\",\"india\",\"good\",\"who\",\"there\",\"will\",\"as\",\"would\",\"people\",\"not\",\"n't\",\"about\",\"``\",\"''\",\"between\",\"one\",\"did\",\"any\",\"we\",\"me\",\"where\",\"most\",\"was\",\"by\",\"make\",\"so\",\"they\",\"this\",\"am\",\"after\",\"way\",\":\",\"has\",\"use\",\"much\",\"difference\",\"time\",\"life\",\"their\",\"know\",\"work\",\"many\",\"but\",\"than\",\"more\",\"all\",\"want\",\"quora\",\"someone\",\"learn\",\"find\",\"other\",\"think\",\"new\",\"better\",\"job\",\"indian\",\"out\",\"money\",\"mean\",\"become\",\"ever\",\"world\",\"without\",\"he\",\"start\",\"take\",\"us\",\"up\",\"first\",\"feel\",\"year\",\"into\",\"go\",\"online\",\"used\",\"engineering\",\"could\",\"love\",\"'m\",\"person\",\"were\",\"possible\",\"day\",\"buy\",\"things\",\"being\",\"need\",\"business\",\"using\",\"them\",\"really\",\"trump\",\"girl\",\"'\",\"her\",\"his\",\"years\",\"different\",\"long\",\"phone\",\"google\",\"company\",\"been\",\"old\",\"only\",\"no\",\"now\",\"2\",\"just\",\"app\",\"college\",\"facebook\",\"number\",\"free\",\"books\",\"2016\",\"movie\",\"still\",\"its\",\"account\",\"ca\",\"women\",\"book\",\"english\",\"she\",\"while\",\"had\",\"change\",\"ways\",\"computer\",\"thing\",\"examples\",\"country\",\"data\",\"over\",\"see\",\"android\",\"help\",\"science\",\"live\",\"school\",\"software\",\"before\",\"&\",\"language\",\"same\",\"going\",\"bad\",\"sex\",\"student\",\"stop\",\"university\",\"happen\",\"back\",\"3\",\"made\",\"1\",\"study\",\"our\",\"two\",\"name\",\"system\",\"through\",\"say\",\"real\",\"during\",\"prepare\",\"water\",\"iphone\",\"website\",\"top\",\"car\",\"questions\",\"important\",\"men\",\"give\",\"getting\",\"anyone\",\"companies\",\"high\",\"black\",\"card\",\"read\",\"programming\",\"war\",\"learning\",\"10\",\"5\",\"\\u2019\",\"exam\",\"then\",\"[\",\"]\",\"even\",\"movies\",\"china\",\"mobile\",\"cost\",\"donald\",\"right\",\"doing\",\"friend\",\"him\",\"working\",\"under\",\"come\",\"president\",\"own\",\"question\",\"career\",\"experience\",\"bank\",\"true\",\"friends\",\"guy\",\"word\",\"hair\",\"home\",\"video\",\"having\",\"look\",\"usa\",\"tell\",\"man\",\"social\",\"web\",\"interview\",\"very\",\"engineer\",\"write\",\"game\",\"government\",\"weight\",\"earth\",\"girls\",\"service\",\"food\",\"students\",\"countries\",\"play\",\"human\",\"place\",\"future\",\"improve\",\"off\",\"big\",\"days\",\"happens\",\"done\",\"'ve\",\"class\",\"eat\",\"tv\",\"process\",\"state\",\"got\",\"average\",\"s\",\"meaning\",\"relationship\",\"music\",\"too\",\"math\",\"create\",\"instagram\",\"every\",\"history\",\"last\",\"pay\",\"4\",\"windows\",\"white\",\"watch\",\"%\",\"salary\",\"body\",\"power\",\"safe\",\"clinton\",\"ask\",\"age\",\"laptop\",\"makes\",\"$\",\"hard\",\"each\",\"lose\",\"american\",\"delhi\",\"youtube\",\"energy\",\"worth\",\"earn\",\"states\",\"against\",\"win\",\"girlfriend\",\"great\",\"keep\",\"test\",\"god\",\"hillary\",\"compare\",\"market\",\"differences\",\"making\",\"considered\",\"something\",\"answer\",\"apply\",\"myself\",\"mba\",\"tips\",\"around\",\"never\",\"next\",\"always\",\"mechanical\",\"another\",\"united\",\"java\",\"c\",\"increase\",\"such\",\"course\",\"jobs\",\"download\",\"song\",\"parents\",\"kind\",\"internet\",\"common\",\"review\",\"woman\",\"code\",\"design\",\"per\",\"employees\",\"end\",\"development\",\"chinese\",\"series\",\"score\",\"interesting\",\"degree\",\"month\",\"travel\",\"show\",\"months\",\"management\",\"able\",\"believe\",\"open\",\"program\",\"living\",\"looking\",\"6\",\"because\",\"type\",\"bangalore\",\"light\",\"favorite\",\"america\",\"today\",\"actually\",\"major\",\"family\",\"marketing\",\"pakistan\",\"universities\",\"technology\",\"law\",\"call\",\"whatsapp\",\"affect\",\"idea\",\"{\",\"build\",\"}\",\"choose\",\"cat\",\"current\",\"support\",\"problem\",\"popular\",\"speed\",\"air\",\"rid\",\"deal\",\"visa\",\"join\",\"run\",\"games\",\"space\",\"down\",\"both\",\"well\",\"city\",\"2017\",\"house\",\"exist\",\"services\",\"available\",\"civil\",\"u.s.\",\"site\",\"culture\",\"also\",\"normal\",\"7\",\"given\",\"wrong\",\"apple\",\"small\",\"order\",\"date\",\"wear\",\"apps\",\"places\",\"songs\",\"differ\",\"project\",\"x\",\"product\",\"international\",\"behind\",\"main\",\"research\",\"happened\",\"boyfriend\",\"media\",\"public\",\"canada\",\"value\",\"jee\",\"cause\",\"reason\",\"uk\",\"education\",\"email\",\"-\",\"ms\",\"sleep\",\"amazon\",\"these\",\"instead\",\"benefits\",\"startup\",\"less\",\"iit\",\"part\",\"list\",\"based\",\"die\",\"etc\",\"medical\",\"websites\",\"physics\",\"skills\",\"child\",\"form\",\"health\",\"causes\",\"called\",\"times\",\"visit\",\"hate\",\"level\",\"worst\",\"police\",\"legal\",\"control\",\"terms\",\"stay\",\"products\",\"mumbai\",\"post\",\"facts\",\"mind\",\"application\",\"face\",\"rate\",\"sites\",\"field\",\"file\",\"required\",\"humans\",\"sell\",\"seen\",\"story\",\"machine\",\"private\",\"dog\",\"notes\",\"stock\",\"modi\",\"biggest\",\"asked\",\"invest\",\"children\",\"point\",\"writing\",\"move\",\"night\",\"problems\",\"gate\",\"put\",\"'re\",\"successful\",\"single\",\"anything\",\"indians\",\"others\",\"remove\",\"compared\",\"theory\",\"death\",\"ideas\",\"talk\",\"marks\",\"answers\",\"plan\",\"similar\",\"sentence\",\"low\",\"group\",\"institute\",\"side\",\"hours\",\"again\",\"effects\",\"/math\",\"coaching\",\"australia\",\"solve\",\"advantages\",\"correct\",\"tax\",\"function\",\"lot\",\"center\",\"famous\",\"send\",\"germany\",\"guys\",\"add\",\"set\",\"offer\",\"south\",\"force\",\"credit\",\"foreign\",\"universe\",\"information\",\"fall\",\"period\",\"daily\",\"says\",\"developer\",\"training\",\"full\",\"videos\",\"area\",\"industry\",\"oil\",\"model\",\"general\",\"studying\",\"star\",\"majors\",\"colleges\",\"graduate\",\"size\",\"drive\",\"yourself\",\"python\",\"2015\",\"blood\",\"near\",\"search\",\"enough\",\"price\",\"kill\",\"quality\",\"words\",\"8\",\"marriage\",\"cons\",\"found\",\"often\",\"\\u201d\",\"leave\",\"pros\",\"fast\",\"grow\",\"courses\",\"started\",\"week\",\"fix\",\"related\",\"purpose\",\"network\",\"types\",\"russia\",\"advice\",\"those\",\"password\",\"follow\",\"taking\",\"married\",\"mass\",\"male\",\"store\",\"turn\",\"party\",\"left\",\"brain\",\"rs\",\"\\u201c\",\"100\",\"numbers\",\"500\",\"female\",\"share\",\"digital\",\"team\",\"1000\",\"effective\",\"economy\",\"term\",\"text\",\"delete\",\"election\",\"cell\",\"pc\",\"master\",\"office\",\"matter\",\"few\",\"role\",\"since\",\"preparation\",\"fat\",\"second\",\"page\",\"dark\",\"short\",\"said\",\"happy\",\"red\",\"line\",\"away\",\"security\",\"options\",\"easy\",\"effect\",\"three\",\"view\",\"admission\",\"must\",\"chemical\",\"source\",\"lost\",\"try\",\"dream\",\"understand\",\"care\",\"exams\",\"convert\",\"americans\",\"past\",\"profile\",\"electrical\",\"dogs\",\"alcohol\",\"exactly\",\"north\",\"ios\",\"develop\",\"paper\",\"japanese\",\"investment\",\"tech\",\"difficult\",\"hotel\",\"check\",\"beautiful\",\"personal\",\"calculate\",\"b\",\"japan\",\"uber\",\"letter\",\"eating\",\"religion\",\"20\",\"explain\",\"languages\",\"c++\",\"hyderabad\",\"topics\",\"british\",\"twitter\",\"basic\",\"news\",\"california\",\"self\",\"green\",\"political\",\"transfer\",\"12\",\"wife\",\"fight\",\"rank\",\"drug\",\"let\",\"t\",\"porn\",\"film\",\"scope\",\"army\",\"pune\",\"national\",\"once\",\"contact\",\"note\",\"known\",\"avoid\",\"boy\",\"please\",\"gain\",\"address\",\"wants\",\"reasons\",\"paid\",\"obama\",\"engine\",\"europe\",\"currently\",\"ex\",\"bollywood\",\"samsung\",\"smart\",\"everyone\",\"season\",\"phd\",\"officer\",\"income\",\"chances\",\"reduce\",\"option\",\"overcome\",\"everything\",\"across\",\"reading\",\"military\",\"else\",\"users\",\"meet\",\"15\",\"solar\",\"charge\",\"message\",\"knowledge\",\"due\",\"sound\",\"balance\",\"microsoft\",\"!\",\"internship\",\"faster\",\"photos\",\"yes\",\"pregnant\",\"sim\",\"moon\",\"taken\",\"financial\",\"hindi\",\"disadvantages\",\"pass\",\"animals\",\"messages\",\"gay\",\"/\",\"hack\",\"pain\",\"healthy\",\"systems\",\"amount\",\"ias\",\"color\",\"interested\",\"singapore\",\"natural\",\"skin\",\"screen\",\"chance\",\"names\",\"special\",\"height\",\"board\",\"case\",\"structure\",\"break\",\"passport\",\"pro\",\"created\",\"professional\",\"drink\",\"already\",\"percentage\",\"useful\",\"french\",\"crush\",\"sun\",\"dating\",\"likes\",\"presidential\",\"battery\",\"interest\",\"access\",\"coming\",\"provide\",\"muslim\",\"modern\",\"starting\",\"linux\",\"recover\",\"german\",\"camera\",\"expect\",\"vote\",\"muslims\",\"blue\",\"least\",\"install\",\"train\",\"studies\",\"solution\",\"thinking\",\"following\",\"negative\",\"mother\",\"jio\",\"mac\",\"user\",\"spend\",\"prime\",\"written\",\"buying\",\"feeling\",\"running\",\"football\",\"gift\",\"cold\",\"changed\",\"pressure\",\"allowed\",\"character\",\"brand\",\"rich\",\"snapchat\",\"resources\",\"within\",\"speak\",\"impact\",\"islam\",\"yet\",\"non\",\"marry\",\"eyes\",\"society\",\"bill\",\"likely\",\"though\",\"determine\",\"shows\",\"fake\",\"save\",\"capital\",\"final\",\"gmail\",\"picture\",\"laws\",\"middle\",\"applications\",\"nuclear\",\"chemistry\",\"young\",\"kids\",\"prefer\",\"device\",\"iq\",\"father\",\"views\",\"galaxy\",\"manager\",\"doctor\",\"personality\",\"hand\",\"greatest\",\"currency\",\"inside\",\"illegal\",\"stories\",\"strategy\",\"abroad\",\"recruit\",\"pursue\",\"cs\",\"gold\",\"projects\",\"consider\",\"works\",\"blog\",\"crack\",\"memory\",\"example\",\"neet\",\"growth\",\"schools\",\"necessary\",\"husband\",\"insurance\",\"alone\",\"economics\",\"depression\",\"30\",\"higher\",\"dead\",\"b.tech\",\"cse\",\"loss\",\"among\",\"files\",\"late\",\"deleted\",\"easiest\",\"macbook\",\"together\",\"art\",\"wifi\",\"vs\",\"gas\",\"suggest\",\"intelligence\",\"method\",\"gre\",\"head\",\"minimum\",\"version\",\"tools\",\"easily\",\"chennai\",\"cars\",\"suitable\"],\"x\":{\"__ndarray__\":\"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\",\"dtype\":\"float32\",\"order\":\"little\",\"shape\":[1000]},\"y\":{\"__ndarray__\":\"u5yRwRhJqcEw5PDBjhPQwZ2IHcIUldbBQcZ5wVZlusFzzgxBjXm6wfUyHUEJ7dfBKcOSwUvgtMEt95XBEsIZQQ00y8Eh54pAMYOjweLT0sGzvjtBc6NnQF2J1MEJkbLBa+KbwSaaB8JZ5vHBurhpQbFbqME59PPBDx/0wZwRH8ISaVbBUgsYQYXjxcFheYxBfjviwZQ878GhRNTBuUaKwc4irsATdvDBYPbIwZ8f2cA4q7E/v932wQ0bSMFguiFBIHKiwX6kGkFR1o9AyWKOwdaCAsLPUMnBomWAwfLyoMEquK3B93iswZ7FOEHo3RDC8yTSwe/yrcG6WRRBSFERQfxE1cEkvffB5OD7QGN5E8I1INHBRKOowTVYn0H/heHB9VwZQtKUlcH1lgHCewQ1QQa50sG1lezBVvbLQWadJcG99KnBUG/IQGIQBkBdG/XBL1awwTQotsHDxSDBsuNpwT3d40DPiM9Br72lwR3K/0G7Y4xBcCBAwZjnkUDjUYnBVUjXP2yE2UG32bnAvKLGwX4imEHR6knB/bVdQbInpMG/3BLBP9vlwZ6EsMGF9+NA5Y2hQCv0psAKcsDBgamFwdWEksAlbexBBqnlwQ7Z5D68odZAPN2Dv0h590G3dh1BoJ08wTJPn0GCqlnBJJzYwY+33j9hS9FBGgtUQTnrhcEdneRART7lQPnxskG1ys/AO8G0wWWuesGdCQDBMXt/wXm4dMF9VbLBzwXUwWIV7kGveEjBg0DRwTgo40GqUstBwpetQd3FosEB/BTCC6SNwQoPEMLbvLLB1WsLwtAnlsGqd71Bm4gPQoC2xUEj64NB3xzJQEj66EHWoCRCg0TXQOSTi8EplajBkXe0QXtAJEGHA3XBGt3qQT7flkBrRLDB/tjhwazQBMKetwRBYl0ZQpjf4EE6BmnBggVyQQ18LME4OsVB12vOwcVcC0GDKeZBm/YVQebjAEKKs3m+fVYRQkpnxkEWC+DBEp+YwYG9o0Gu2VXBb69HQIhG08Ahg5PBIlYEQi3zFkGo0wpCtuYfwAl+xcGDHArCNncgwao9C8KIfQpCVx6pwV87A8IfBX1BFQa0Qf994cF91pxAvo7XwDno0cGjMRxCFLftPy0L80F+qLRB+FIvQbeHBEEaE+BB+k3ov8BudcFFHRtBz4ESQdTuoMFooRtCWMGdwWvCh0AlfgBC7NMKQdTd6kHgt/nAjrvzQeFlBsLplwrC/4vBwfbiJEIhB5rBiSwrwkK4K8L+g5XBjWe0QNxC6cDgTeBBVMyCQOPWFcGYuYbBgt8nQTEyicHhPK7Bdfg7QfecvMElWQs/Ruv7wO7+XUER+dtB6t/BQVoSyEFexYdBhWh4wa3ThMGia3rBiUqHQUQblsCUUjpBlR6yQRGJB0Gak8w/a3uvwFnRCEGOhlzBYaYqwUJyzUEd4U1BkfcTwmRP70HS0hxBlGL1QPD8WMAzWJzACluQQQxAe8Hx9pRBTs6eQA+DCUJSRSPB613lQfDGb7/mDmjBYd61QXSG1EAiAc/BLsETwdXq4UERJZPAhAI8weGwB8JJthJCIkmCwHpu+0BgGqJBzXlwwEFPBcJyKNG+kDzLwSgoXcAi4SfByPqiQAWGE8IIdQBCJ+ceQdbLxkFBQoXBIJqvwBAWh8Eu64lAedsNwsma6EGZIGdA7WblQZfwAsJXtqJBUOBOwMB/TkDksydAmawQwQ3/GEEAexTA0rHrQfMTIMFzfg7Ccy43QIJw8MGf5XlAVi7QwDS3QMGPELhB+5XFP/R7tcHeYNVAH7IhwevyAcIIdqQ+gnKCweLEssBzbxxBF2oRQjnOsz+vQgzBGvzxvxp1jUFzluzBVUUWQRZqBsHOiJXBTdraQQPlWUGZxLXBi0YKQhLUX0EEbMjB416fwYuOd8GQ3YLBpRDxQaEBHMKGzKPA8yzlQRfd4kGXgqlAUnZFwY8U7kEZNuFBvGFwQTEdi0DagHbBX1IvwOT5x0GbPvy/itwywMq4ZcEHY8lBAt6sQUndCsI1whtCIGucvyK0qEGwWtDA2UwQQTvsKEIQkRnA6OYAQnuz30EJYGQ9WbflQFRx50Gf76pBub9nQIp/U0C/XihBJ/ziQRGgDcEgzjxB/yYQwhH72sG7LivAM/ZTwcJhkUHwtsNAAFP4wPkNDMFhH3fBAn4vwAUkVMG+v6NBwv7pwJtjAEK6pLFBvVsVwPa9LUEl2r9Bvzx3QLicV0GgbCzCIXkTQVBNLMKOtN5A/XsaQnmKJMAJ7TVBqpV9QVIAYcDnOHS/1tbmP+U2mED/E95AnmQzwfQaUUHbN65A5OTgQNmHjEF+Fs/BKtGOwZNJNMFw/V7BUe4jQtuMKME+E/Q/dpOVQYFQq0BNyRBBYC+SwCC4sEEZu5G9/mCJwVaZ3MD3zxHCaG0/wbGLhsGl7rtBwgMVwXD10kBTShRB4f5GQK9vtEETH3DBnvegQHjpR78zoMNBPNojwhjVpEEyj6XAR90OwS0vbsAfrsxB+mpZwT3Yg8EzkjVBYAlMwCNVocBfgLG/xBAoQscV88BI8ZY/TLmxwErmakHWZqdBDNCYwbbUB0JSz/vA9Xe7QTgr+8GTcvTB+0DKwdibsEF+5h7BkxAQQnMSpMCSIXVBGm1pwU2Yi7/f+6PBZJpXQbQgrEE+EgJCZFfRQVRxR8Gpm0O/7QdhQS7i6sBDcgXB6bLUQVaopL/DZpFA+vvxQZ/O8EA+xyHAvR+nP4907UBLSqlBFeyOvo3+xkBFqUzBXIJXQRHtJ0BQxjjBC4fFQSZny8ABwh9ArkSqQUV8vkH3Gc5BeOtHPpZPkj3fvAxBWUodwZ9CdkBsHJZBxCk0wF1LuMA63hTCsdqNQbhsIMEaZ/lAED4+QRuYt0CDQmzBUkEhwHhxA0KS8k0/oLfFQeQHcEGNVSBC2zuVQMn7qT26nafAnzYfwarDl8GNaFlAji20wc48YkFJFFDACtgvQVfkJMFdIWRB2SKtQOfKKEKQht1BFfB5QfuQeMA8mYdBdKGdwUnbdsH9++RBExbGwPcp2kEO/LfBoHK3wH2TKML4Fx1CqKC4wFRUKkEL8czBU3NQwfwwikGP0uG/AZhCweqphMHvD1/AVNAoQae608CVHHrB4xMxQcQHzECcEUtBJekkwdrLvD4UCntBo5KHwCnNh0E0Z8FBtYrWPjkKT8Hhy+TAmhhxwbicv0GjLdlBE71nwWX9sEGi3HvBBdqUQatAU0B0npFB+I1LQRNNBUKejAxBhQivQa0/BEL+XgRCxqPpvR4zg0DtQLPB6JLhQeudI0KsP+G/7VSJwXyqW0GEjl3BgNhLQDp9ab/9JjhBq0iUQU0rDsIHZEPBVTTQwXs9KsEgejnBsPOgwc0uQEDRONHBklMZwT3dX0CjzOtBJYavwReL2kEa7VFBxk84wLdPTcB22KVBjgqAQYfn7MCLjXk/+EBfwRWttUFGnuBADxcZQa0YocFosqQ7jsIowKMeaUHhwoFAvncHwbwEN8HWwS7AbN0Qwj9Af8GztAPCm0mFQYklE8In+CLAToIIQZ43mEE7QvlAdbUSwrzS4L5eHuq/bzBuwYQvn0FN9nJBIb7SwNkkx0BTjeZBNo38QXLPREF1bDDAFU0AwnjbZcDTY9XB+/kfQpMCp8AnqnHB8WKjQRFyA0B9HAvBKapuwRuJuMAZcy5AlXf3PreFv8HRt59BhTmBQUeXyj99fJPAQ8wAwqZBCUHiMRNCRLvFQBGAjkFS/KlBnWpFwZSIqz/iiTjBch1hQC/RNEGT9yJCKuRPQcXUUEDuA1bBeGSYQXd470F33CI/Z0X9P0KuE8BqGCPBh+viQWjcEkEIoAlCUwDUwKJhnkGCUplBG8gSQGTjWMH8+jtB9I0zwB6yd0FSt0pC6z4cwjCG+cCcubRBj39vQc/4+8BtAYI+AuUGwgESJ0HtbZ5BXDrhQfUNXMHDGONBv+3xwAE/uUGAlJdB2CIpQfUeLMEs5wHBuEW/QJ2ANsDPEj9B+HkPwkeVbsGZsiE/nLskQqp4AkCf78jBBFTMwW3uHr0FstFAmYfaQfM4VsCGDVTBoiLewOAWlsHGbz9BUHQPwo2U1cBF4RJBaFRXwUJUj8FRzY5ASsyjQQwSHcFLQG4/G/4RQc0mAsFf5u1AvJXzwLwzgsEFtmrBD/O+QKCYDMIyHeLAiACiweQWAEHsjgNCHG3wQLHMjEEuq7LBQe6iQG8RakHUG+tAu26cwTah18EfJQNCNCSBwFkyksH4DK9BZsd/QK/IC8I/nmNA8raYQFiOo0GwPMpByaMVwcagWEDvNthAgFHCQZVxiMEo4ABCNn07P8KnrkH43V3BZGiiwSvE90GF6ZZBfsQ8wUnmikFShZ9AdY3MwUmtw0Csd8s+h7uqQdSiYsBKUJPBEfFLQdkO1sAFz9rA9JuuQQFBa8BOwBdCRNoCQLQJbMHYeK7AYd4RwOOAnsBb4B5BH5+wwfwrBUCVneLAeaEuwLgVGELj3oS/FQGQQaKc0j8kyDDBDRABwg4DEsHicohBH1qCwGzamMEIGfC/lKekv4M06MBttIjB2LGUQV/Ujb+iggPBI4bSwGIXBkGz0tzAFhdPQc2qLMHeai1BpBJtwJda18BYC2lBKMvbQf26bUEJPe7A6QofQUTj1kCR/qrASY0oQDcAOEALD2nB7npBQSQ73T8FUwVCPuGEQXgfHMG61GfBNqu4wKoNW8EawvZBUBLZQd/kpUHaQeBAu/Z5wE4GVsHye/pAOP4cwSCB9kBHAgJBlMITQfpO+8BXKzrBI25XvxiWGEA/q7JAf6YlQeOKmsAvg7dBVT6fQVVLvMGS4ktA5F2UwO41WD+8iJvBVfuGwTtibEDTz6LAaV7fvo2Sm8B48Mu+1trewZK4SkJTbeNAgZ/7wFH2AkF2DIlBpPMbQtDCs0Fss59Bmh5avyuQDcH2maFB5YquwD+hAkJYeHHA/EtrwT4IuUADf9dBVmeqQO4UV8Hp3tjAVgINwpzvnUG++z/BoDfjwFkLMMGRgOxA3HTwv5ex2MDl3KM/4BtQQN7wfUEw2HbAjfavQWApC0JCwAhCxO5hQBqOxEHfIMJAUmedQBEspkGW3BdC1QblQK8gYEEwHiNCC5pyQTOnBEK0DpI/N1Rrweo8ekHFEKvBf8j/QfPZ98AG/QfCnR8BwWDcCMHtWQRCm0UNQjvcsMDOZqvBRpDQQUjUv8HnFrBBZs01QJv4AMLv9ajBqZjAQMT30EF7ip7BqcU6QBlFEkE9X8ZBukOLQQy5HUICs9HAV9UGwDdXHUFRxaZB1IkywfGcScGRvbBAj/nhPg==\",\"dtype\":\"float32\",\"order\":\"little\",\"shape\":[1000]}},\"selected\":{\"id\":\"1268\"},\"selection_policy\":{\"id\":\"1269\"}},\"id\":\"1204\",\"type\":\"ColumnDataSource\"},{\"attributes\":{},\"id\":\"1210\",\"type\":\"LinearScale\"},{\"attributes\":{},\"id\":\"1212\",\"type\":\"LinearScale\"},{\"attributes\":{},\"id\":\"1208\",\"type\":\"DataRange1d\"},{\"attributes\":{\"formatter\":{\"id\":\"1263\"},\"ticker\":{\"id\":\"1215\"}},\"id\":\"1214\",\"type\":\"LinearAxis\"},{\"attributes\":{\"bottom_units\":\"screen\",\"fill_alpha\":0.5,\"fill_color\":\"lightgrey\",\"left_units\":\"screen\",\"level\":\"overlay\",\"line_alpha\":1.0,\"line_color\":\"black\",\"line_dash\":[4,4],\"line_width\":2,\"right_units\":\"screen\",\"top_units\":\"screen\"},\"id\":\"1228\",\"type\":\"BoxAnnotation\"},{\"attributes\":{},\"id\":\"1215\",\"type\":\"BasicTicker\"},{\"attributes\":{\"callback\":null,\"tooltips\":[[\"token\",\"@token\"]]},\"id\":\"1241\",\"type\":\"HoverTool\"},{\"attributes\":{\"axis\":{\"id\":\"1214\"},\"ticker\":null},\"id\":\"1217\",\"type\":\"Grid\"},{\"attributes\":{},\"id\":\"1263\",\"type\":\"BasicTickFormatter\"},{\"attributes\":{\"fill_alpha\":{\"value\":0.1},\"fill_color\":{\"field\":\"color\"},\"line_alpha\":{\"value\":0.1},\"line_color\":{\"field\":\"color\"},\"size\":{\"units\":\"screen\",\"value\":10},\"x\":{\"field\":\"x\"},\"y\":{\"field\":\"y\"}},\"id\":\"1238\",\"type\":\"Scatter\"},{\"attributes\":{},\"id\":\"1206\",\"type\":\"DataRange1d\"},{\"attributes\":{\"formatter\":{\"id\":\"1265\"},\"ticker\":{\"id\":\"1219\"}},\"id\":\"1218\",\"type\":\"LinearAxis\"},{\"attributes\":{},\"id\":\"1265\",\"type\":\"BasicTickFormatter\"},{\"attributes\":{},\"id\":\"1219\",\"type\":\"BasicTicker\"},{\"attributes\":{\"axis\":{\"id\":\"1218\"},\"dimension\":1,\"ticker\":null},\"id\":\"1221\",\"type\":\"Grid\"},{\"attributes\":{\"text\":\"\"},\"id\":\"1261\",\"type\":\"Title\"}],\"root_ids\":[\"1205\"]},\"title\":\"Bokeh Application\",\"version\":\"2.2.3\"}};\n",
       "  var render_items = [{\"docid\":\"d2902dc3-1a9d-4770-a5d0-0ef977624691\",\"root_ids\":[\"1205\"],\"roots\":{\"1205\":\"3eb6affb-0a62-4642-a691-71c91e9da272\"}}];\n",
       "  root.Bokeh.embed.embed_items_notebook(docs_json, render_items);\n",
       "\n",
       "  }\n",
       "  if (root.Bokeh !== undefined) {\n",
       "    embed_document(root);\n",
       "  } else {\n",
       "    var attempts = 0;\n",
       "    var timer = setInterval(function(root) {\n",
       "      if (root.Bokeh !== undefined) {\n",
       "        clearInterval(timer);\n",
       "        embed_document(root);\n",
       "      } else {\n",
       "        attempts++;\n",
       "        if (attempts > 100) {\n",
       "          clearInterval(timer);\n",
       "          console.log(\"Bokeh: ERROR: Unable to run BokehJS code because BokehJS library is missing\");\n",
       "        }\n",
       "      }\n",
       "    }, 10, root)\n",
       "  }\n",
       "})(window);"
      ],
      "application/vnd.bokehjs_exec.v0+json": ""
     },
     "metadata": {
      "application/vnd.bokehjs_exec.v0+json": {
       "id": "1205"
      },
      "tags": []
     },
     "output_type": "display_data"
    },
    {
     "data": {
      "text/html": [
       "<div style=\"display: table;\"><div style=\"display: table-row;\"><div style=\"display: table-cell;\"><b title=\"bokeh.plotting.figure.Figure\">Figure</b>(</div><div style=\"display: table-cell;\">id&nbsp;=&nbsp;'1205', <span id=\"1316\" style=\"cursor: pointer;\">&hellip;)</span></div></div><div class=\"1315\" style=\"display: none;\"><div style=\"display: table-cell;\"></div><div style=\"display: table-cell;\">above&nbsp;=&nbsp;[],</div></div><div class=\"1315\" style=\"display: none;\"><div style=\"display: table-cell;\"></div><div style=\"display: table-cell;\">align&nbsp;=&nbsp;'start',</div></div><div class=\"1315\" style=\"display: none;\"><div style=\"display: table-cell;\"></div><div style=\"display: table-cell;\">aspect_ratio&nbsp;=&nbsp;None,</div></div><div class=\"1315\" style=\"display: none;\"><div style=\"display: table-cell;\"></div><div style=\"display: table-cell;\">aspect_scale&nbsp;=&nbsp;1,</div></div><div class=\"1315\" style=\"display: none;\"><div style=\"display: table-cell;\"></div><div style=\"display: table-cell;\">background&nbsp;=&nbsp;None,</div></div><div class=\"1315\" style=\"display: none;\"><div style=\"display: table-cell;\"></div><div style=\"display: table-cell;\">background_fill_alpha&nbsp;=&nbsp;1.0,</div></div><div class=\"1315\" style=\"display: none;\"><div style=\"display: table-cell;\"></div><div style=\"display: table-cell;\">background_fill_color&nbsp;=&nbsp;'#ffffff',</div></div><div class=\"1315\" style=\"display: none;\"><div style=\"display: table-cell;\"></div><div style=\"display: table-cell;\">below&nbsp;=&nbsp;[LinearAxis(id='1214', ...)],</div></div><div class=\"1315\" style=\"display: none;\"><div style=\"display: table-cell;\"></div><div style=\"display: table-cell;\">border_fill_alpha&nbsp;=&nbsp;1.0,</div></div><div class=\"1315\" style=\"display: none;\"><div style=\"display: table-cell;\"></div><div style=\"display: table-cell;\">border_fill_color&nbsp;=&nbsp;'#ffffff',</div></div><div class=\"1315\" style=\"display: none;\"><div style=\"display: table-cell;\"></div><div style=\"display: table-cell;\">center&nbsp;=&nbsp;[Grid(id='1217', ...), Grid(id='1221', ...)],</div></div><div class=\"1315\" style=\"display: none;\"><div style=\"display: table-cell;\"></div><div style=\"display: table-cell;\">css_classes&nbsp;=&nbsp;[],</div></div><div class=\"1315\" style=\"display: none;\"><div style=\"display: table-cell;\"></div><div style=\"display: table-cell;\">disabled&nbsp;=&nbsp;False,</div></div><div class=\"1315\" style=\"display: none;\"><div style=\"display: table-cell;\"></div><div style=\"display: table-cell;\">extra_x_ranges&nbsp;=&nbsp;{},</div></div><div class=\"1315\" style=\"display: none;\"><div style=\"display: table-cell;\"></div><div style=\"display: table-cell;\">extra_y_ranges&nbsp;=&nbsp;{},</div></div><div class=\"1315\" style=\"display: none;\"><div style=\"display: table-cell;\"></div><div style=\"display: table-cell;\">frame_height&nbsp;=&nbsp;None,</div></div><div class=\"1315\" style=\"display: none;\"><div style=\"display: table-cell;\"></div><div style=\"display: table-cell;\">frame_width&nbsp;=&nbsp;None,</div></div><div class=\"1315\" style=\"display: none;\"><div style=\"display: table-cell;\"></div><div style=\"display: table-cell;\">height&nbsp;=&nbsp;None,</div></div><div class=\"1315\" style=\"display: none;\"><div style=\"display: table-cell;\"></div><div style=\"display: table-cell;\">height_policy&nbsp;=&nbsp;'auto',</div></div><div class=\"1315\" style=\"display: none;\"><div style=\"display: table-cell;\"></div><div style=\"display: table-cell;\">hidpi&nbsp;=&nbsp;True,</div></div><div class=\"1315\" style=\"display: none;\"><div style=\"display: table-cell;\"></div><div style=\"display: table-cell;\">js_event_callbacks&nbsp;=&nbsp;{},</div></div><div class=\"1315\" style=\"display: none;\"><div style=\"display: table-cell;\"></div><div style=\"display: table-cell;\">js_property_callbacks&nbsp;=&nbsp;{},</div></div><div class=\"1315\" style=\"display: none;\"><div style=\"display: table-cell;\"></div><div style=\"display: table-cell;\">left&nbsp;=&nbsp;[LinearAxis(id='1218', ...)],</div></div><div class=\"1315\" style=\"display: none;\"><div style=\"display: table-cell;\"></div><div style=\"display: table-cell;\">lod_factor&nbsp;=&nbsp;10,</div></div><div class=\"1315\" style=\"display: none;\"><div style=\"display: table-cell;\"></div><div style=\"display: table-cell;\">lod_interval&nbsp;=&nbsp;300,</div></div><div class=\"1315\" style=\"display: none;\"><div style=\"display: table-cell;\"></div><div style=\"display: table-cell;\">lod_threshold&nbsp;=&nbsp;2000,</div></div><div class=\"1315\" style=\"display: none;\"><div style=\"display: table-cell;\"></div><div style=\"display: table-cell;\">lod_timeout&nbsp;=&nbsp;500,</div></div><div class=\"1315\" style=\"display: none;\"><div style=\"display: table-cell;\"></div><div style=\"display: table-cell;\">margin&nbsp;=&nbsp;(0, 0, 0, 0),</div></div><div class=\"1315\" style=\"display: none;\"><div style=\"display: table-cell;\"></div><div style=\"display: table-cell;\">match_aspect&nbsp;=&nbsp;False,</div></div><div class=\"1315\" style=\"display: none;\"><div style=\"display: table-cell;\"></div><div style=\"display: table-cell;\">max_height&nbsp;=&nbsp;None,</div></div><div class=\"1315\" style=\"display: none;\"><div style=\"display: table-cell;\"></div><div style=\"display: table-cell;\">max_width&nbsp;=&nbsp;None,</div></div><div class=\"1315\" style=\"display: none;\"><div style=\"display: table-cell;\"></div><div style=\"display: table-cell;\">min_border&nbsp;=&nbsp;5,</div></div><div class=\"1315\" style=\"display: none;\"><div style=\"display: table-cell;\"></div><div style=\"display: table-cell;\">min_border_bottom&nbsp;=&nbsp;None,</div></div><div class=\"1315\" style=\"display: none;\"><div style=\"display: table-cell;\"></div><div style=\"display: table-cell;\">min_border_left&nbsp;=&nbsp;None,</div></div><div class=\"1315\" style=\"display: none;\"><div style=\"display: table-cell;\"></div><div style=\"display: table-cell;\">min_border_right&nbsp;=&nbsp;None,</div></div><div class=\"1315\" style=\"display: none;\"><div style=\"display: table-cell;\"></div><div style=\"display: table-cell;\">min_border_top&nbsp;=&nbsp;None,</div></div><div class=\"1315\" style=\"display: none;\"><div style=\"display: table-cell;\"></div><div style=\"display: table-cell;\">min_height&nbsp;=&nbsp;None,</div></div><div class=\"1315\" style=\"display: none;\"><div style=\"display: table-cell;\"></div><div style=\"display: table-cell;\">min_width&nbsp;=&nbsp;None,</div></div><div class=\"1315\" style=\"display: none;\"><div style=\"display: table-cell;\"></div><div style=\"display: table-cell;\">name&nbsp;=&nbsp;None,</div></div><div class=\"1315\" style=\"display: none;\"><div style=\"display: table-cell;\"></div><div style=\"display: table-cell;\">outline_line_alpha&nbsp;=&nbsp;1.0,</div></div><div class=\"1315\" style=\"display: none;\"><div style=\"display: table-cell;\"></div><div style=\"display: table-cell;\">outline_line_cap&nbsp;=&nbsp;'butt',</div></div><div class=\"1315\" style=\"display: none;\"><div style=\"display: table-cell;\"></div><div style=\"display: table-cell;\">outline_line_color&nbsp;=&nbsp;'#e5e5e5',</div></div><div class=\"1315\" style=\"display: none;\"><div style=\"display: table-cell;\"></div><div style=\"display: table-cell;\">outline_line_dash&nbsp;=&nbsp;[],</div></div><div class=\"1315\" style=\"display: none;\"><div style=\"display: table-cell;\"></div><div style=\"display: table-cell;\">outline_line_dash_offset&nbsp;=&nbsp;0,</div></div><div class=\"1315\" style=\"display: none;\"><div style=\"display: table-cell;\"></div><div style=\"display: table-cell;\">outline_line_join&nbsp;=&nbsp;'bevel',</div></div><div class=\"1315\" style=\"display: none;\"><div style=\"display: table-cell;\"></div><div style=\"display: table-cell;\">outline_line_width&nbsp;=&nbsp;1,</div></div><div class=\"1315\" style=\"display: none;\"><div style=\"display: table-cell;\"></div><div style=\"display: table-cell;\">output_backend&nbsp;=&nbsp;'canvas',</div></div><div class=\"1315\" style=\"display: none;\"><div style=\"display: table-cell;\"></div><div style=\"display: table-cell;\">plot_height&nbsp;=&nbsp;400,</div></div><div class=\"1315\" style=\"display: none;\"><div style=\"display: table-cell;\"></div><div style=\"display: table-cell;\">plot_width&nbsp;=&nbsp;600,</div></div><div class=\"1315\" style=\"display: none;\"><div style=\"display: table-cell;\"></div><div style=\"display: table-cell;\">renderers&nbsp;=&nbsp;[GlyphRenderer(id='1239', ...)],</div></div><div class=\"1315\" style=\"display: none;\"><div style=\"display: table-cell;\"></div><div style=\"display: table-cell;\">reset_policy&nbsp;=&nbsp;'standard',</div></div><div class=\"1315\" style=\"display: none;\"><div style=\"display: table-cell;\"></div><div style=\"display: table-cell;\">right&nbsp;=&nbsp;[],</div></div><div class=\"1315\" style=\"display: none;\"><div style=\"display: table-cell;\"></div><div style=\"display: table-cell;\">sizing_mode&nbsp;=&nbsp;None,</div></div><div class=\"1315\" style=\"display: none;\"><div style=\"display: table-cell;\"></div><div style=\"display: table-cell;\">subscribed_events&nbsp;=&nbsp;[],</div></div><div class=\"1315\" style=\"display: none;\"><div style=\"display: table-cell;\"></div><div style=\"display: table-cell;\">tags&nbsp;=&nbsp;[],</div></div><div class=\"1315\" style=\"display: none;\"><div style=\"display: table-cell;\"></div><div style=\"display: table-cell;\">title&nbsp;=&nbsp;Title(id='1261', ...),</div></div><div class=\"1315\" style=\"display: none;\"><div style=\"display: table-cell;\"></div><div style=\"display: table-cell;\">title_location&nbsp;=&nbsp;'above',</div></div><div class=\"1315\" style=\"display: none;\"><div style=\"display: table-cell;\"></div><div style=\"display: table-cell;\">toolbar&nbsp;=&nbsp;Toolbar(id='1229', ...),</div></div><div class=\"1315\" style=\"display: none;\"><div style=\"display: table-cell;\"></div><div style=\"display: table-cell;\">toolbar_location&nbsp;=&nbsp;'right',</div></div><div class=\"1315\" style=\"display: none;\"><div style=\"display: table-cell;\"></div><div style=\"display: table-cell;\">toolbar_sticky&nbsp;=&nbsp;True,</div></div><div class=\"1315\" style=\"display: none;\"><div style=\"display: table-cell;\"></div><div style=\"display: table-cell;\">visible&nbsp;=&nbsp;True,</div></div><div class=\"1315\" style=\"display: none;\"><div style=\"display: table-cell;\"></div><div style=\"display: table-cell;\">width&nbsp;=&nbsp;None,</div></div><div class=\"1315\" style=\"display: none;\"><div style=\"display: table-cell;\"></div><div style=\"display: table-cell;\">width_policy&nbsp;=&nbsp;'auto',</div></div><div class=\"1315\" style=\"display: none;\"><div style=\"display: table-cell;\"></div><div style=\"display: table-cell;\">x_range&nbsp;=&nbsp;DataRange1d(id='1206', ...),</div></div><div class=\"1315\" style=\"display: none;\"><div style=\"display: table-cell;\"></div><div style=\"display: table-cell;\">x_scale&nbsp;=&nbsp;LinearScale(id='1210', ...),</div></div><div class=\"1315\" style=\"display: none;\"><div style=\"display: table-cell;\"></div><div style=\"display: table-cell;\">y_range&nbsp;=&nbsp;DataRange1d(id='1208', ...),</div></div><div class=\"1315\" style=\"display: none;\"><div style=\"display: table-cell;\"></div><div style=\"display: table-cell;\">y_scale&nbsp;=&nbsp;LinearScale(id='1212', ...))</div></div></div>\n",
       "<script>\n",
       "(function() {\n",
       "  var expanded = false;\n",
       "  var ellipsis = document.getElementById(\"1316\");\n",
       "  ellipsis.addEventListener(\"click\", function() {\n",
       "    var rows = document.getElementsByClassName(\"1315\");\n",
       "    for (var i = 0; i < rows.length; i++) {\n",
       "      var el = rows[i];\n",
       "      el.style.display = expanded ? \"none\" : \"table-row\";\n",
       "    }\n",
       "    ellipsis.innerHTML = expanded ? \"&hellip;)\" : \"&lsaquo;&lsaquo;&lsaquo;\";\n",
       "    expanded = !expanded;\n",
       "  });\n",
       "})();\n",
       "</script>\n"
      ],
      "text/plain": [
       "Figure(id='1205', ...)"
      ]
     },
     "execution_count": 42,
     "metadata": {
      "tags": []
     },
     "output_type": "execute_result"
    }
   ],
   "source": [
    "word_tsne = get_tsne_projection(word_vectors)\n",
    "draw_vectors(word_tsne[:, 0], word_tsne[:, 1], color='green', token=words)"
   ]
  },
  {
   "cell_type": "markdown",
   "metadata": {
    "id": "sz6uHYMbSjuE"
   },
   "source": [
    "## Эмбеддим фразы"
   ]
  },
  {
   "cell_type": "markdown",
   "metadata": {
    "id": "L4GEypE4SokX"
   },
   "source": [
    "Сейчас для тестов будет полезно пользоваться фиксированными эмбеддингами. Загрузим уже обученную модель.  \n",
    "(посмотреть, какие вообще модели и корпуса доступны, можно вызовом `api.info()`)"
   ]
  },
  {
   "cell_type": "code",
   "execution_count": 10,
   "metadata": {
    "colab": {
     "base_uri": "https://localhost:8080/"
    },
    "executionInfo": {
     "elapsed": 223638,
     "status": "ok",
     "timestamp": 1606934040994,
     "user": {
      "displayName": "Roman Zakharov",
      "photoUrl": "",
      "userId": "18255168926005506833"
     },
     "user_tz": -180
    },
    "id": "GUDRtumXXF3S",
    "outputId": "d43be819-8295-40ba-ad83-b2d07b3ff960"
   },
   "outputs": [
    {
     "name": "stdout",
     "output_type": "stream",
     "text": [
      "[==================================================] 100.0% 387.1/387.1MB downloaded\n"
     ]
    }
   ],
   "source": [
    "import gensim.downloader as api\n",
    "\n",
    "model = api.load('glove-twitter-100')"
   ]
  },
  {
   "cell_type": "markdown",
   "metadata": {
    "id": "eypMhlOSXFWN"
   },
   "source": [
    "Простой и дешевый способ посчитать эмбеддинг фразы, когда есть эмбеддинги слов - усреднить.\n",
    "\n",
    "Вот этим и займемся: токенизируйте и приведите к нижнему регистру фразу, усредните эмбеддинги тех слов, для которых они подсчитаны.\n",
    "\n",
    "**Задание** Напишите функцию для подсчета эмбеддинга фразы."
   ]
  },
  {
   "cell_type": "code",
   "execution_count": null,
   "metadata": {
    "colab": {
     "base_uri": "https://localhost:8080/"
    },
    "id": "Ddn9SoSJTz2x",
    "outputId": "0651ccce-bdc5-4232-bcfb-41e0368ef369"
   },
   "outputs": [
    {
     "data": {
      "text/plain": [
       "array([-1.1164e-01,  3.5396e-01, -2.1636e-01, -8.9658e-02,  4.2865e-01,\n",
       "       -5.8209e-01,  2.3430e-01,  1.3156e-01, -1.7498e-01,  3.4069e-01,\n",
       "       -1.2387e-01, -9.8514e-02, -5.7822e+00,  1.7770e-01, -5.6572e-01,\n",
       "       -6.9149e-01, -3.2158e-01,  2.6150e-01, -1.9349e-01, -2.2201e-01,\n",
       "        1.7294e-01,  1.5057e-01,  2.0611e-01, -1.8047e-01, -7.3840e-02,\n",
       "       -5.1100e-02,  3.4992e-01,  3.0444e-02,  9.0548e-02, -4.3107e-01,\n",
       "       -1.8462e-01, -2.7357e-01, -1.7306e-01,  1.5113e-03,  1.0587e-01,\n",
       "        5.6293e-02, -4.7113e-01, -3.3933e-01,  4.1030e-02,  4.0770e-01,\n",
       "       -8.4176e-01, -6.9236e-02,  5.6346e-02, -3.1593e-01,  6.9260e-01,\n",
       "       -2.7765e-01,  9.6799e-02, -9.6007e-02, -1.4014e-01,  8.8652e-01,\n",
       "       -7.1405e-03, -6.4016e-01,  1.7123e-01,  5.3730e-01, -4.4984e-02,\n",
       "        1.0016e-01, -3.1926e-01,  6.8484e-02,  5.7600e-02,  3.3717e-01,\n",
       "        1.7655e-01,  1.4571e-01,  1.1242e-01,  3.5700e-01, -1.2432e-01,\n",
       "       -4.8168e-01, -6.8752e-01, -1.9606e-01,  3.9266e-01,  8.1535e-02,\n",
       "        4.3563e-01,  6.1264e-01,  2.0931e-01,  2.7865e-02, -5.7392e-02,\n",
       "       -6.4826e-02,  2.9820e-01, -3.7005e-01, -5.1816e-02,  1.1375e-01,\n",
       "        2.3030e+00,  7.3758e-01, -6.7129e-01, -2.2823e-01,  6.3356e-02,\n",
       "        5.8553e-01, -3.6072e-01, -1.2023e-01, -2.6533e-01, -3.8807e-01,\n",
       "       -6.9852e-01,  2.2297e-01, -4.0275e-02,  2.6234e-01,  2.7385e-01,\n",
       "       -9.8747e-02, -5.0768e-01, -1.0389e-01,  3.9103e-01,  4.5548e-03],\n",
       "      dtype=float32)"
      ]
     },
     "execution_count": 47,
     "metadata": {
      "tags": []
     },
     "output_type": "execute_result"
    }
   ],
   "source": [
    "model['get']"
   ]
  },
  {
   "cell_type": "code",
   "execution_count": 11,
   "metadata": {
    "executionInfo": {
     "elapsed": 630,
     "status": "ok",
     "timestamp": 1606934041653,
     "user": {
      "displayName": "Roman Zakharov",
      "photoUrl": "",
      "userId": "18255168926005506833"
     },
     "user_tz": -180
    },
    "id": "F76HGRGDEPVq"
   },
   "outputs": [],
   "source": [
    "def get_phrase_embedding(model, phrase):    \n",
    "    vector = np.zeros([model.vector_size], dtype='float32')\n",
    "    cnt = 0\n",
    "    for word in word_tokenize(phrase.lower()):\n",
    "        if word in model:\n",
    "            vector += model[word]\n",
    "            cnt += 1\n",
    "    if cnt>0:\n",
    "        vector = vector/cnt\n",
    "    return vector"
   ]
  },
  {
   "cell_type": "code",
   "execution_count": 12,
   "metadata": {
    "executionInfo": {
     "elapsed": 623,
     "status": "ok",
     "timestamp": 1606934041655,
     "user": {
      "displayName": "Roman Zakharov",
      "photoUrl": "",
      "userId": "18255168926005506833"
     },
     "user_tz": -180
    },
    "id": "i12XsqnIXfko"
   },
   "outputs": [],
   "source": [
    "vector = get_phrase_embedding(model, \"I'm very sure. This never happened to me before...\")"
   ]
  },
  {
   "cell_type": "markdown",
   "metadata": {
    "id": "Yl2nBZG0WAUx"
   },
   "source": [
    "Подсчитаем вектора всех фраз."
   ]
  },
  {
   "cell_type": "code",
   "execution_count": null,
   "metadata": {
    "colab": {
     "base_uri": "https://localhost:8080/"
    },
    "id": "Y-cbx-ZKisOw",
    "outputId": "0c49cdd2-1ced-4239-b2ad-43c46e68c3fd"
   },
   "outputs": [
    {
     "data": {
      "text/plain": [
       "['what',\n",
       " 'is',\n",
       " 'the',\n",
       " 'step',\n",
       " 'by',\n",
       " 'step',\n",
       " 'guide',\n",
       " 'to',\n",
       " 'invest',\n",
       " 'in',\n",
       " 'share',\n",
       " 'market',\n",
       " 'in',\n",
       " 'india',\n",
       " '?']"
      ]
     },
     "execution_count": 61,
     "metadata": {
      "tags": []
     },
     "output_type": "execute_result"
    }
   ],
   "source": [
    "tokenized_texts[0]"
   ]
  },
  {
   "cell_type": "code",
   "execution_count": 15,
   "metadata": {
    "executionInfo": {
     "elapsed": 106001,
     "status": "ok",
     "timestamp": 1606934176636,
     "user": {
      "displayName": "Roman Zakharov",
      "photoUrl": "",
      "userId": "18255168926005506833"
     },
     "user_tz": -180
    },
    "id": "40LezFEJFwv3"
   },
   "outputs": [],
   "source": [
    "text_vectors = np.array([get_phrase_embedding(model, ' '.join(phrase)) for phrase in tokenized_texts])"
   ]
  },
  {
   "cell_type": "markdown",
   "metadata": {
    "id": "nBj8XMZvWFTv"
   },
   "source": [
    "И научимся искать ближайшие!\n",
    "\n",
    "**Задание** По строке найти k ближайших к ней вопросов."
   ]
  },
  {
   "cell_type": "code",
   "execution_count": 13,
   "metadata": {
    "executionInfo": {
     "elapsed": 935,
     "status": "ok",
     "timestamp": 1606934063523,
     "user": {
      "displayName": "Roman Zakharov",
      "photoUrl": "",
      "userId": "18255168926005506833"
     },
     "user_tz": -180
    },
    "id": "fjw7kTQ-FP11"
   },
   "outputs": [],
   "source": [
    "from sklearn.metrics.pairwise import cosine_similarity\n",
    "\n",
    "def find_nearest(model, text_vectors, texts, query, k=10):\n",
    "    q_vect = get_phrase_embedding(model, query).reshape((1,-1))\n",
    "    dist = cosine_similarity(text_vectors, q_vect)\n",
    "    index = np.argsort(dist.flatten())[::-1][:k]\n",
    "    return np.asarray(texts)[index].tolist()"
   ]
  },
  {
   "cell_type": "code",
   "execution_count": 14,
   "metadata": {
    "colab": {
     "base_uri": "https://localhost:8080/",
     "height": 197
    },
    "executionInfo": {
     "elapsed": 583,
     "status": "error",
     "timestamp": 1606934065945,
     "user": {
      "displayName": "Roman Zakharov",
      "photoUrl": "",
      "userId": "18255168926005506833"
     },
     "user_tz": -180
    },
    "id": "c2yK0twNGWaQ",
    "outputId": "7c04ad77-d84f-40df-f7aa-fb85425343bc"
   },
   "outputs": [
    {
     "ename": "NameError",
     "evalue": "ignored",
     "output_type": "error",
     "traceback": [
      "\u001b[0;31m---------------------------------------------------------------------------\u001b[0m",
      "\u001b[0;31mNameError\u001b[0m                                 Traceback (most recent call last)",
      "\u001b[0;32m<ipython-input-14-57cbeccfc76d>\u001b[0m in \u001b[0;36m<module>\u001b[0;34m()\u001b[0m\n\u001b[0;32m----> 1\u001b[0;31m \u001b[0mresults\u001b[0m \u001b[0;34m=\u001b[0m \u001b[0mfind_nearest\u001b[0m\u001b[0;34m(\u001b[0m\u001b[0mmodel\u001b[0m\u001b[0;34m,\u001b[0m \u001b[0mtext_vectors\u001b[0m\u001b[0;34m,\u001b[0m \u001b[0mtexts\u001b[0m\u001b[0;34m,\u001b[0m \u001b[0mquery\u001b[0m\u001b[0;34m=\u001b[0m\u001b[0;34m\"How do i enter the matrix?\"\u001b[0m\u001b[0;34m,\u001b[0m \u001b[0mk\u001b[0m\u001b[0;34m=\u001b[0m\u001b[0;36m10\u001b[0m\u001b[0;34m)\u001b[0m\u001b[0;34m\u001b[0m\u001b[0;34m\u001b[0m\u001b[0m\n\u001b[0m\u001b[1;32m      2\u001b[0m \u001b[0;34m\u001b[0m\u001b[0m\n\u001b[1;32m      3\u001b[0m \u001b[0mprint\u001b[0m\u001b[0;34m(\u001b[0m\u001b[0;34m'\\n'\u001b[0m\u001b[0;34m.\u001b[0m\u001b[0mjoin\u001b[0m\u001b[0;34m(\u001b[0m\u001b[0mresults\u001b[0m\u001b[0;34m)\u001b[0m\u001b[0;34m)\u001b[0m\u001b[0;34m\u001b[0m\u001b[0;34m\u001b[0m\u001b[0m\n",
      "\u001b[0;31mNameError\u001b[0m: name 'text_vectors' is not defined"
     ]
    }
   ],
   "source": [
    "results = find_nearest(model, text_vectors, texts, query=\"How do i enter the matrix?\", k=10)\n",
    "\n",
    "print('\\n'.join(results))"
   ]
  },
  {
   "cell_type": "code",
   "execution_count": null,
   "metadata": {
    "colab": {
     "base_uri": "https://localhost:8080/"
    },
    "id": "AutTfxbDGhku",
    "outputId": "4f669d3d-c077-4361-b26f-1e15750c993c"
   },
   "outputs": [
    {
     "data": {
      "text/plain": [
       "['Was/Is Barack Obama a bad/good president?',\n",
       " 'Will Hilary Clinton address Immigration Reforms initiated by President Barack Obama?',\n",
       " 'Is Hillary Clinton smarter than Barack Obama?',\n",
       " 'Should President Obama Pardon Hillary Clinton Before the Election?',\n",
       " 'Is Barack Obama muslim?',\n",
       " 'Was Bill Clinton cooler president than Obama?',\n",
       " 'Is President Obama anti-Semitic?',\n",
       " 'Why should Americans elect Hillary Clinton as president?',\n",
       " 'Is Barack Obama moral?',\n",
       " 'Could Barack Obama be elected Vice President in 2016?']"
      ]
     },
     "execution_count": 159,
     "metadata": {
      "tags": []
     },
     "output_type": "execute_result"
    }
   ],
   "source": [
    "find_nearest(model, text_vectors, texts, query=\"Obama\", k=10)"
   ]
  },
  {
   "cell_type": "code",
   "execution_count": null,
   "metadata": {
    "colab": {
     "base_uri": "https://localhost:8080/"
    },
    "id": "47Ff7heKGiGV",
    "outputId": "357a8928-9ad2-438c-98ae-8afae9007fa3"
   },
   "outputs": [
    {
     "data": {
      "text/plain": [
       "[\"Why do you always answer a question with a question? I don't, or do I?\",\n",
       " 'Why do I ask this question?',\n",
       " 'How do I ask a question?',\n",
       " 'How do I ask a question on this?',\n",
       " \"Why do I have to ask a girl out? Why can't she ask me?\",\n",
       " 'How do I downvote a question?',\n",
       " 'How do I ask someone on a date?',\n",
       " 'Why do I question myself about this?',\n",
       " \"How do I ask a girl I don't know to fuck?\",\n",
       " 'How do you ask a question?']"
      ]
     },
     "execution_count": 157,
     "metadata": {
      "tags": []
     },
     "output_type": "execute_result"
    }
   ],
   "source": [
    "find_nearest(model, text_vectors, texts, query=\"Why don't i ask a question myself?\", k=10)"
   ]
  },
  {
   "cell_type": "markdown",
   "metadata": {
    "id": "5BhDEF11ZnTY"
   },
   "source": [
    "## Начинаем классификацию"
   ]
  },
  {
   "cell_type": "markdown",
   "metadata": {
    "id": "2D_LEV8cm0z3"
   },
   "source": [
    "### Bag-of-words"
   ]
  },
  {
   "cell_type": "markdown",
   "metadata": {
    "id": "jGge73gDid99"
   },
   "source": [
    "**Задание** Соберем для начала токенизированные вопросы."
   ]
  },
  {
   "cell_type": "code",
   "execution_count": null,
   "metadata": {
    "id": "FJTjqdgiih7O"
   },
   "outputs": [],
   "source": [
    "tokenized_question1 = ...\n",
    "tokenized_question2 = ..."
   ]
  },
  {
   "cell_type": "markdown",
   "metadata": {
    "id": "0VBcipE7Ztkc"
   },
   "source": [
    "**Задание** Посчитайте косинусную близость между вопросами.\n",
    "\n",
    "Проще всего реализовать функцию ее вычисления руками:\n",
    "$$\\text{cosine_similarity}(x, y) = \\frac{x^{T} y}{||x||\\cdot ||y||}$$"
   ]
  },
  {
   "cell_type": "code",
   "execution_count": null,
   "metadata": {
    "id": "ItJLR_ENHGtI"
   },
   "outputs": [],
   "source": [
    "<do smth>\n",
    "\n",
    "cosine_similarities = <and calc the result>"
   ]
  },
  {
   "cell_type": "markdown",
   "metadata": {
    "id": "NgCVueJ4Z3DQ"
   },
   "source": [
    "Подберём порог близости, при котором будем считать тексты одинаковыми.\n",
    "\n",
    "**Задание** Реализуйте функцию `accuracy`, вычисляющую точность классификации при заданном пороге."
   ]
  },
  {
   "cell_type": "code",
   "execution_count": null,
   "metadata": {
    "id": "41hRIb-KSA3F"
   },
   "outputs": [],
   "source": [
    "import matplotlib.pyplot as plt\n",
    "%matplotlib inline\n",
    "\n",
    "def accuracy(cosine_similarities, threshold):\n",
    "    return <accuracy>\n",
    "\n",
    "thresholds = np.linspace(0, 1, 100, endpoint=False)\n",
    "plt.plot(thresholds, [accuracy(cosine_similarities, th) for th in thresholds])"
   ]
  },
  {
   "cell_type": "markdown",
   "metadata": {
    "id": "kOxJSE38msmX"
   },
   "source": [
    "И запустим оптимизацию:"
   ]
  },
  {
   "cell_type": "code",
   "execution_count": null,
   "metadata": {
    "id": "R3LVCJwqSgZz"
   },
   "outputs": [],
   "source": [
    "from scipy.optimize import minimize_scalar\n",
    "\n",
    "res = minimize_scalar(lambda x: -accuracy(cosine_similarities, x), bounds=(0.5, 0.99), method='bounded')\n",
    "best_threshold = res.x\n",
    "print('Threshold = {:.5f}, Accuracy = {:.2%}'.format(best_threshold, accuracy(cosine_similarities, best_threshold)))"
   ]
  },
  {
   "cell_type": "markdown",
   "metadata": {
    "id": "H8yFlaffm34A"
   },
   "source": [
    "### Tf-idf weights"
   ]
  },
  {
   "cell_type": "markdown",
   "metadata": {
    "id": "-cpeSa-4m64H"
   },
   "source": [
    "Вместо того, чтобы тупо усреднять вектора, можно усреднять их с учетом весов - поможет в этом уже знакомые tf-idf.\n",
    "\n",
    "**Задание** Посчитайте взвешенные вектора вопросов. Используйте `TfidfVectorizer`\n",
    "\n",
    "`TfidfVectorizer` возвращает матрицу `(samples_count, words_count)`. А наши эмбеддинги имеют размерность `(words_count, embedding_dim)`. Значит, их можно просто перемножить. Тогда каждая фраза - последовательность слов $w_1, \\ldots, w_k$ - преобразуется в вектор $\\sum_i \\text{idf}(w_i) \\cdot \\text{embedding}(w_i)$. Этот вектор, вероятно, стоит нормировать на число слов $k$.\n",
    "\n",
    "**Задание** Кроме tf-idf можно добавить фильтрацию стоп-слов и пунктуации.  \n",
    "Стоп-слова можно взять из `nltk`:\n",
    "```python\n",
    "from nltk.corpus import stopwords\n",
    "stop_words = stopwords.words('english')\n",
    "```"
   ]
  },
  {
   "cell_type": "code",
   "execution_count": null,
   "metadata": {
    "id": "UoYjVExHd_OC"
   },
   "outputs": [],
   "source": [
    "import re\n",
    "from sklearn.feature_extraction.text import TfidfVectorizer\n",
    "from nltk.corpus import stopwords\n",
    "from string import punctuation\n",
    "\n",
    "<calculate tf-idf weighted vectors>"
   ]
  },
  {
   "cell_type": "markdown",
   "metadata": {
    "id": "34Di8jXxoBxg"
   },
   "source": [
    "Посмотрим, что получается после фильтрации и векторизации:"
   ]
  },
  {
   "cell_type": "code",
   "execution_count": null,
   "metadata": {
    "id": "k52NtVJKf1Wl"
   },
   "outputs": [],
   "source": [
    "for col in tfidf_question1[0].tocoo().col:\n",
    "    print(model.index2word[col], end=' ')\n",
    "\n",
    "print('\\n' + ' '.join(tokenized_question1[0]))"
   ]
  },
  {
   "cell_type": "markdown",
   "metadata": {
    "id": "3fMqY5tOoL9r"
   },
   "source": [
    "**Задание** Посчитайте качество с новыми векторами."
   ]
  },
  {
   "cell_type": "code",
   "execution_count": null,
   "metadata": {
    "id": "Chf2qy7uhbPF"
   },
   "outputs": [],
   "source": [
    "cosine_similarities = <calc it somehow>\n",
    "\n",
    "res = minimize_scalar(lambda x: -accuracy(cosine_similarities, x), bounds=(0.8, 0.99), method='bounded')\n",
    "best_threshold = res.x\n",
    "print('Threshold = {:.5f}, Accuracy = {:.2%}'.format(best_threshold, accuracy(cosine_similarities, best_threshold)))"
   ]
  },
  {
   "cell_type": "markdown",
   "metadata": {
    "id": "qXi24B78sbsg"
   },
   "source": [
    "## Посмотрим внутрь обучения словных эмбеддингов"
   ]
  },
  {
   "cell_type": "markdown",
   "metadata": {
    "id": "6GSDgSXfswp7"
   },
   "source": [
    "Ключевая идея - слово можно определить по контексту, в котором оно встречается:\n",
    "![contexts](https://image.ibb.co/mnQ2uz/2018_09_17_21_07_08.png)\n",
    "*From [cs224n, Lecture 2](http://web.stanford.edu/class/cs224n/lectures/lecture2.pdf)*\n",
    "\n",
    "Смотреть, как всё учится, будем здесь: [https://ronxin.github.io/wevi/](https://ronxin.github.io/wevi/)."
   ]
  },
  {
   "cell_type": "markdown",
   "metadata": {
    "id": "xvqrFUS6vVhh"
   },
   "source": [
    "## Запилим пословный машинный перевод!"
   ]
  },
  {
   "cell_type": "code",
   "execution_count": null,
   "metadata": {
    "id": "1CXcr-ypzGXg"
   },
   "outputs": [],
   "source": [
    "!wget -O ukr_rus.train.txt -qq --no-check-certificate \"https://drive.google.com/uc?export=download&id=1vAK0SWXUqei4zTimMvIhH3ufGPsbnC_O\"\n",
    "!wget -O ukr_rus.test.txt -qq --no-check-certificate \"https://drive.google.com/uc?export=download&id=1W9R2F8OeKHXruo2sicZ6FgBJUTJc8Us_\"\n",
    "!wget -O fairy_tale.txt -qq --no-check-certificate \"https://drive.google.com/uc?export=download&id=1sq8zSroFeg_afw-60OmY8RATdu_T1tej\"\n",
    "\n",
    "# Install the PyDrive wrapper & import libraries.\n",
    "# This only needs to be done once per notebook.\n",
    "!pip install -U -q PyDrive\n",
    "from pydrive.auth import GoogleAuth\n",
    "from pydrive.drive import GoogleDrive\n",
    "from google.colab import auth\n",
    "from oauth2client.client import GoogleCredentials\n",
    "\n",
    "# Authenticate and create the PyDrive client.\n",
    "# This only needs to be done once per notebook.\n",
    "auth.authenticate_user()\n",
    "gauth = GoogleAuth()\n",
    "gauth.credentials = GoogleCredentials.get_application_default()\n",
    "drive = GoogleDrive(gauth)\n",
    "\n",
    "downloaded = drive.CreateFile({'id': '1d7OXuil646jUeDS1JNhP9XWlZogv6rbu'})\n",
    "downloaded.GetContentFile('cc.ru.300.vec.zip')\n",
    "\n",
    "downloaded = drive.CreateFile({'id': '1yAqwqgUHtMSfGS99WLGe5unSCyIXfIxi'})\n",
    "downloaded.GetContentFile('cc.uk.300.vec.zip')\n",
    "\n",
    "!unzip cc.ru.300.vec.zip\n",
    "!unzip cc.uk.300.vec.zip"
   ]
  },
  {
   "cell_type": "markdown",
   "metadata": {
    "id": "7RqUeOXxws8y"
   },
   "source": [
    "Напишем простенькую реализацию модели машинного перевода.\n",
    "\n",
    "Идея основана на статье [Word Translation Without Parallel Data](https://arxiv.org/pdf/1710.04087.pdf). У авторов в репозитории еще много интересного: [https://github.com/facebookresearch/MUSE](https://github.com/facebookresearch/MUSE).\n",
    "\n",
    "А мы будем переводить с украинского на русский.\n",
    "\n",
    "![](https://raw.githubusercontent.com/yandexdataschool/nlp_course/master/resources/blue_cat_blue_whale.png)   \n",
    "*синій кіт* vs. *синій кит*"
   ]
  },
  {
   "cell_type": "code",
   "execution_count": null,
   "metadata": {
    "id": "jjPj9FTRry0U"
   },
   "outputs": [],
   "source": [
    "from gensim.models import KeyedVectors\n",
    "\n",
    "ru_emb = KeyedVectors.load_word2vec_format(\"cc.ru.300.vec\")\n",
    "uk_emb = KeyedVectors.load_word2vec_format(\"cc.uk.300.vec\")"
   ]
  },
  {
   "cell_type": "markdown",
   "metadata": {
    "id": "7rGx4TXWFJ65"
   },
   "source": [
    "Посмотрим на пару серпень-август (являющихся переводом)"
   ]
  },
  {
   "cell_type": "code",
   "execution_count": null,
   "metadata": {
    "id": "FkHer36xyh4n"
   },
   "outputs": [],
   "source": [
    "ru_emb.most_similar([ru_emb[\"август\"]])"
   ]
  },
  {
   "cell_type": "code",
   "execution_count": null,
   "metadata": {
    "id": "1RSDixWvylEP"
   },
   "outputs": [],
   "source": [
    "uk_emb.most_similar([uk_emb[\"серпень\"]])"
   ]
  },
  {
   "cell_type": "code",
   "execution_count": null,
   "metadata": {
    "id": "iwmm3YQ1yl1U"
   },
   "outputs": [],
   "source": [
    "ru_emb.most_similar([uk_emb[\"серпень\"]])"
   ]
  },
  {
   "cell_type": "code",
   "execution_count": null,
   "metadata": {
    "id": "lAsW7oxszE_I"
   },
   "outputs": [],
   "source": [
    "def load_word_pairs(filename):\n",
    "    uk_ru_pairs = []\n",
    "    uk_vectors = []\n",
    "    ru_vectors = []\n",
    "    with open(filename, \"r\", encoding='utf8') as inpf:\n",
    "        for line in inpf:\n",
    "            uk, ru = line.rstrip().split(\"\\t\")\n",
    "            if uk not in uk_emb or ru not in ru_emb:\n",
    "                continue\n",
    "            uk_ru_pairs.append((uk, ru))\n",
    "            uk_vectors.append(uk_emb[uk])\n",
    "            ru_vectors.append(ru_emb[ru])\n",
    "    return uk_ru_pairs, np.array(uk_vectors), np.array(ru_vectors)\n",
    "\n",
    "\n",
    "uk_ru_train, X_train, Y_train = load_word_pairs(\"ukr_rus.train.txt\")\n",
    "uk_ru_test, X_test, Y_test = load_word_pairs(\"ukr_rus.test.txt\")"
   ]
  },
  {
   "cell_type": "markdown",
   "metadata": {
    "id": "9z6ts7DC0XmN"
   },
   "source": [
    "### Учим маппинг из одного пространства эмбеддингов в другое\n",
    "\n",
    "У нас есть пары слов, соответствующих друг другу, и их эмбеддинги. Найдем преобразование из одного пространства в другое, чтобы приблизить известные нам слова:\n",
    "\n",
    "$$W^*= \\arg\\min_W ||WX - Y||_F, \\text{где} ||*||_F - \\text{норма Фробениуса}$$\n",
    "\n",
    "Эта функция очень похожа на линейную регрессию (без биаса).\n",
    "\n",
    "**Задание** Реализуйте её - воспользуйтесь `LinearRegression` из sklearn с `fit_intercept=False`:"
   ]
  },
  {
   "cell_type": "code",
   "execution_count": null,
   "metadata": {
    "id": "fraTOQtu1YWI"
   },
   "outputs": [],
   "source": [
    "mapping = ..."
   ]
  },
  {
   "cell_type": "markdown",
   "metadata": {
    "id": "PrzRk3ja1b_6"
   },
   "source": [
    "Проверим, куда перейдет `серпень`:"
   ]
  },
  {
   "cell_type": "code",
   "execution_count": null,
   "metadata": {
    "id": "Quax6HnF1aON"
   },
   "outputs": [],
   "source": [
    "august = mapping.predict(uk_emb[\"серпень\"].reshape(1, -1))\n",
    "ru_emb.most_similar(august)"
   ]
  },
  {
   "cell_type": "markdown",
   "metadata": {
    "id": "ih1GLNZt1nZX"
   },
   "source": [
    "Должно получиться, что в топе содержатся разные месяцы, но август не первый.\n",
    "\n",
    "Будем мерять percision top-k с k = 1, 5, 10.\n",
    "\n",
    "**Задание** Реализуйте следующую функцию:"
   ]
  },
  {
   "cell_type": "code",
   "execution_count": null,
   "metadata": {
    "id": "JnmrLp9y2gNI"
   },
   "outputs": [],
   "source": [
    "def precision(pairs, mapped_vectors, topn=1):\n",
    "    \"\"\"\n",
    "    :args:\n",
    "        pairs = list of right word pairs [(uk_word_0, ru_word_0), ...]\n",
    "        mapped_vectors = list of embeddings after mapping from source embedding space to destination embedding space\n",
    "        topn = the number of nearest neighbours in destination embedding space to choose from\n",
    "    :returns:\n",
    "        precision_val, float number, total number of words for those we can find right translation at top K.\n",
    "    \"\"\"\n",
    "    assert len(pairs) == len(ru_vectors)\n",
    "    num_matches = 0\n",
    "    for i, (_, ru) in enumerate(pairs):\n",
    "        <write code here>\n",
    "    precision_val = num_matches / len(pairs)\n",
    "    return precision_val"
   ]
  },
  {
   "cell_type": "code",
   "execution_count": null,
   "metadata": {
    "id": "-1NIvhSH2olG"
   },
   "outputs": [],
   "source": [
    "assert precision([(\"серпень\", \"август\")], august, topn=5) == 0.0\n",
    "assert precision([(\"серпень\", \"август\")], august, topn=9) == 1.0\n",
    "assert precision([(\"серпень\", \"август\")], august, topn=10) == 1.0"
   ]
  },
  {
   "cell_type": "code",
   "execution_count": null,
   "metadata": {
    "id": "9Ml_w1Tl2r7Y"
   },
   "outputs": [],
   "source": [
    "assert precision(uk_ru_test, X_test) == 0.0\n",
    "assert precision(uk_ru_test, Y_test) == 1.0"
   ]
  },
  {
   "cell_type": "code",
   "execution_count": null,
   "metadata": {
    "id": "-d9KQHMr2tx8"
   },
   "outputs": [],
   "source": [
    "precision_top1 = precision(uk_ru_test, mapping.predict(X_test), 1)\n",
    "precision_top5 = precision(uk_ru_test, mapping.predict(X_test), 5)\n",
    "\n",
    "assert precision_top1 >= 0.635\n",
    "assert precision_top5 >= 0.813"
   ]
  },
  {
   "cell_type": "markdown",
   "metadata": {
    "id": "JNbDTP502urT"
   },
   "source": [
    "### Улучшаем маппинг\n",
    "\n",
    "Можно показать, что маппинг лучше строить ортогональным:\n",
    "$$W^*= \\arg\\min_W ||WX - Y||_F \\text{, где: } W^TW = I$$\n",
    "\n",
    "Искать его можно через SVD:\n",
    "$$X^TY=U\\Sigma V^T\\text{, singular value decompostion}$$\n",
    "\n",
    "$$W^*=UV^T$$\n",
    "\n",
    "**Задание** Реализуйте эту функцию."
   ]
  },
  {
   "cell_type": "code",
   "execution_count": null,
   "metadata": {
    "id": "9de8XZ_F3v53"
   },
   "outputs": [],
   "source": [
    "def learn_transform(X_train, Y_train):\n",
    "    \"\"\" \n",
    "    :returns: W* : float matrix[emb_dim x emb_dim] as defined in formulae above\n",
    "    \"\"\"\n",
    "    <write code there>"
   ]
  },
  {
   "cell_type": "code",
   "execution_count": null,
   "metadata": {
    "id": "8WeCadzN382y"
   },
   "outputs": [],
   "source": [
    "W = learn_transform(X_train, Y_train)"
   ]
  },
  {
   "cell_type": "code",
   "execution_count": null,
   "metadata": {
    "id": "p6qaMb0E3-f9"
   },
   "outputs": [],
   "source": [
    "ru_emb.most_similar([np.matmul(uk_emb[\"серпень\"], W)])"
   ]
  },
  {
   "cell_type": "code",
   "execution_count": null,
   "metadata": {
    "id": "_Nn58crh4AH0"
   },
   "outputs": [],
   "source": [
    "assert precision(uk_ru_test, np.matmul(X_test, W)) >= 0.653\n",
    "assert precision(uk_ru_test, np.matmul(X_test, W), 5) >= 0.824"
   ]
  },
  {
   "cell_type": "markdown",
   "metadata": {
    "id": "lqgcYk-c4DE5"
   },
   "source": [
    "### Пишем переводчик"
   ]
  },
  {
   "cell_type": "markdown",
   "metadata": {
    "id": "hwi70fP6FaAN"
   },
   "source": [
    "Реализуем простой пословный переводчик - для каждого слова будем искать его ближайшего соседа в общем пространстве эмбеддингов. Если слова нет в эмбеддингах - просто копируем его."
   ]
  },
  {
   "cell_type": "code",
   "execution_count": null,
   "metadata": {
    "id": "0etAHUks4JOr"
   },
   "outputs": [],
   "source": [
    "with open(\"fairy_tale.txt\", \"r\") as in f:\n",
    "    uk_sentences = [line.rstrip().lower() for line in in f]"
   ]
  },
  {
   "cell_type": "code",
   "execution_count": null,
   "metadata": {
    "id": "JK_FJGmn4N7V"
   },
   "outputs": [],
   "source": [
    "def translate(sentence):\n",
    "    \"\"\"\n",
    "    :args:\n",
    "        sentence - sentence in Ukrainian (str)\n",
    "    :returns:\n",
    "        translation - sentence in Russian (str)\n",
    "\n",
    "    * find ukrainian embedding for each word in sentence\n",
    "    * transform ukrainian embedding vector\n",
    "    * find nearest russian word and replace\n",
    "    \"\"\"\n",
    "    <implement it!>"
   ]
  },
  {
   "cell_type": "code",
   "execution_count": null,
   "metadata": {
    "id": "H47pbFyk4P6D"
   },
   "outputs": [],
   "source": [
    "assert translate(\".\") == \".\"\n",
    "assert translate(\"1 , 3\") == \"1 , 3\"\n",
    "assert translate(\"кіт зловив мишу\") == \"кот поймал мышку\""
   ]
  },
  {
   "cell_type": "code",
   "execution_count": null,
   "metadata": {
    "id": "PAVWK7mE4RYU"
   },
   "outputs": [],
   "source": [
    "for sentence in uk_sentences:\n",
    "    print(\"src: {}\\ndst: {}\\n\".format(sentence, translate(sentence)))"
   ]
  },
  {
   "cell_type": "markdown",
   "metadata": {
    "id": "pDnIPVLg4Sg7"
   },
   "source": [
    "# Сдача задания\n",
    "\n",
    "[Форма для сдачи](https://goo.gl/forms/GGjrH7axdGJr6yTp2)  \n",
    "[Опрос](https://goo.gl/forms/3QRwLTmLgBzl5VVm2)"
   ]
  },
  {
   "cell_type": "markdown",
   "metadata": {
    "id": "_5GrChTeFqIg"
   },
   "source": [
    "# Дополнительные материалы"
   ]
  },
  {
   "cell_type": "markdown",
   "metadata": {
    "id": "HwffxpbmFwDh"
   },
   "source": [
    "## Почитать\n",
    "### База:  \n",
    "[On word embeddings - Part 1, Sebastian Ruder](http://ruder.io/word-embeddings-1/)  \n",
    "[Deep Learning, NLP, and Representations, Christopher Olah](http://colah.github.io/posts/2014-07-NLP-RNNs-Representations/)  \n",
    "\n",
    "### Как кластеризовать смыслы многозначных слов:  \n",
    "[Making Sense of Word Embeddings (2016), Pelevina et al](http://anthology.aclweb.org/W16-1620)    \n",
    "\n",
    "### Как оценивать эмбеддинги\n",
    "[Evaluation methods for unsupervised word embeddings (2015), T. Schnabel](http://www.aclweb.org/anthology/D15-1036)  \n",
    "[Intrinsic Evaluation of Word Vectors Fails to Predict Extrinsic Performance (2016), B. Chiu](https://www.aclweb.org/anthology/W/W16/W16-2501.pdf)  \n",
    "[Problems With Evaluation of Word Embeddings Using Word Similarity Tasks (2016), M. Faruqui](https://arxiv.org/pdf/1605.02276.pdf)  \n",
    "[Improving Reliability of Word Similarity Evaluation by Redesigning Annotation Task and Performance Measure (2016), Oded Avraham, Yoav Goldberg](https://arxiv.org/pdf/1611.03641.pdf)  \n",
    "[Evaluating Word Embeddings Using a Representative Suite of Practical Tasks (2016), N. Nayak](https://cs.stanford.edu/~angeli/papers/2016-acl-veceval.pdf)  \n",
    "\n",
    "\n",
    "## Посмотреть\n",
    "[Word Vector Representations: word2vec, Lecture 2, cs224n](https://www.youtube.com/watch?v=ERibwqs9p38)"
   ]
  }
 ],
 "metadata": {
  "colab": {
   "collapsed_sections": [],
   "name": "Word_Embeddings_1.ipynb",
   "provenance": []
  },
  "kernelspec": {
   "display_name": "Python 3",
   "language": "python",
   "name": "python3"
  },
  "language_info": {
   "codemirror_mode": {
    "name": "ipython",
    "version": 3
   },
   "file_extension": ".py",
   "mimetype": "text/x-python",
   "name": "python",
   "nbconvert_exporter": "python",
   "pygments_lexer": "ipython3",
   "version": "3.8.5"
  }
 },
 "nbformat": 4,
 "nbformat_minor": 1
}
