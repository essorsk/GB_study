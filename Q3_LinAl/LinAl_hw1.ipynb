{
 "cells": [
  {
   "cell_type": "code",
   "execution_count": 3,
   "metadata": {},
   "outputs": [],
   "source": [
    "import numpy as np\n",
    "from numpy.linalg import norm"
   ]
  },
  {
   "cell_type": "markdown",
   "metadata": {},
   "source": [
    "1. Исследовать на линейную зависимость:\n",
    "𝑓1(𝑥)=𝑒𝑥,𝑓2(𝑥)=1,𝑓3(𝑥)=𝑥+1,𝑓4(𝑥)=𝑥−𝑒𝑥."
   ]
  },
  {
   "cell_type": "markdown",
   "metadata": {},
   "source": [
    "Визуально видно, что :\n",
    "f3(x) = f1(x) +f4(x) +f2(x)\n",
    "\n",
    "Поскольку для того, чтобы некоторое множество элементов линейного пространства было линейно зависимым, необходимо и достаточно, чтобы один из этих элементов являлся линейной комбинацией остальных, эти элементы линейно зависимы."
   ]
  },
  {
   "cell_type": "markdown",
   "metadata": {},
   "source": [
    "Ответ: линейно зависимы"
   ]
  },
  {
   "cell_type": "markdown",
   "metadata": {},
   "source": [
    "2. Исследовать на линейную зависимость:\n",
    "𝑓1(𝑥)=2,𝑓2(𝑥)=𝑥,𝑓3(𝑥)=𝑥2,𝑓4(𝑥)=(𝑥+1)2."
   ]
  },
  {
   "cell_type": "markdown",
   "metadata": {},
   "source": [
    "Приравняем комбинацию векторов к нулю:\n",
    "\n",
    "α1*2 + α2*x + α3*x^2 + α4*(x^2 + 2x + 1)=0"
   ]
  },
  {
   "cell_type": "markdown",
   "metadata": {},
   "source": [
    "Данное уравнение имеет решение при:\n",
    "α1=1, α2=4, α3=2, α4=−2\n",
    "\n",
    "1*2 + 4* x +2*x^2 -2*x^2 -4*x -2 = 0\n",
    "0 = 0"
   ]
  },
  {
   "cell_type": "markdown",
   "metadata": {},
   "source": [
    "Ответ: линейно зависимы"
   ]
  },
  {
   "cell_type": "markdown",
   "metadata": {},
   "source": [
    "3. Найти координаты вектора  𝑥=(2,3,5)∈ℝ3  в базисе  𝑏1=(0,0,10) ,  𝑏2=(2,0,0) ,  𝑏3=(0,1,0) ."
   ]
  },
  {
   "cell_type": "markdown",
   "metadata": {},
   "source": [
    "X = xb1 +yb2 +zb3 \n",
    "\n",
    "X = 2i + 3j + 5k \n",
    "\n",
    "b1 = 10k \n",
    "b2 = 2i \n",
    "b3 = j\n",
    "\n",
    "2i + 3j + 5k = 10kx +2iy + jz\n",
    "\n",
    "x = 0.5 y = 1 z = 3"
   ]
  },
  {
   "cell_type": "markdown",
   "metadata": {},
   "source": [
    "Ответ: координатами вектора x в в базисе b1 = (0, 0, 10) , b2 = (2, 0, 0) , b3 = (0, 1, 0) являются (0.5, 1, 3)"
   ]
  },
  {
   "cell_type": "markdown",
   "metadata": {},
   "source": [
    "4. Найти координаты вектора  3𝑥2−2𝑥+2∈ℝ3[𝑥] :\n",
    "\n",
    "а) в базисе  1 ,  𝑥 ,  𝑥2 ;\n",
    "\n",
    "б) в базисе  𝑥2 ,  𝑥−1 ,  1 ."
   ]
  },
  {
   "cell_type": "markdown",
   "metadata": {},
   "source": [
    "a)\n",
    "\n",
    "x = (2, −2x, 3x^2) = 2(1,0,0) − 2(0,x,0) + 3(0,0,x2) = 2e1 − 2e2 +3 e3"
   ]
  },
  {
   "cell_type": "markdown",
   "metadata": {},
   "source": [
    "Ответ: (2, -2, 3)"
   ]
  },
  {
   "cell_type": "markdown",
   "metadata": {},
   "source": [
    "b)\n",
    "x = (3x^2, −2x, 2) = 3(x^2, 0, 0) − (2x/ (x−1)) * (0, (x−1), 0) + 2 (0, 0, 1) = \n",
    "3e1 − (2x/ (x−1)) * e2 + 2e3 \n"
   ]
  },
  {
   "cell_type": "markdown",
   "metadata": {},
   "source": [
    "Ответ: (3, 2х/(х-1), 2)"
   ]
  },
  {
   "cell_type": "markdown",
   "metadata": {},
   "source": [
    "5. Установить, является ли линейным подпространством:\n",
    "\n",
    "а) совокупность всех векторов трехмерного пространства, у которых по крайней мере одна из первых двух координат равна нулю;\n",
    "\n",
    "б) все векторы, являющиеся линейными комбинациями данных векторов  {𝑢1,𝑢2,...,𝑢𝑛} .\n"
   ]
  },
  {
   "cell_type": "markdown",
   "metadata": {},
   "source": [
    "Проверим утверждения по условиям:\n",
    "\n",
    "$u+v\\in L$\n",
    "\n",
    "$\\alpha\\cdot u\\in L$"
   ]
  },
  {
   "cell_type": "markdown",
   "metadata": {},
   "source": [
    "а) При проверке по 1му условию, если 1я координата у одного и 2я координата у другого вектора не равня нулю, мы получим вектор, который не будет принадлежать подмножеству.\n",
    "Следовательно, это подмножество не является линейным подпространством"
   ]
  },
  {
   "cell_type": "markdown",
   "metadata": {},
   "source": [
    "б) Если все векторы являются линейными комбинациями, тгда совокупность всех линейных комбинаций этих векторов образуют подпространство исходного линейного пространства.\n",
    "Следовательно, является линейным"
   ]
  },
  {
   "cell_type": "code",
   "execution_count": null,
   "metadata": {},
   "outputs": [],
   "source": []
  },
  {
   "cell_type": "markdown",
   "metadata": {},
   "source": [
    "1. Найти скалярное произведение векторов  𝑥,𝑦∈ℝ :\n",
    "а)  𝑥=(0,−3,6), 𝑦=(−4,7,9); \n",
    "б)  𝑥=(7,−4,0,1), 𝑦=(−3,1,11,2)."
   ]
  },
  {
   "cell_type": "code",
   "execution_count": 4,
   "metadata": {},
   "outputs": [
    {
     "name": "stdout",
     "output_type": "stream",
     "text": [
      "Скалярное произведение векторов x и y равно: 33\n"
     ]
    }
   ],
   "source": [
    "x = np.array([0, -3, 6])\n",
    "y = np.array([-4, 7, 9])\n",
    "print(f'Скалярное произведение векторов x и y равно: {np.dot(x, y)}')"
   ]
  },
  {
   "cell_type": "code",
   "execution_count": 5,
   "metadata": {},
   "outputs": [
    {
     "name": "stdout",
     "output_type": "stream",
     "text": [
      "Скалярное произведение векторов x и y равно: -23\n"
     ]
    }
   ],
   "source": [
    "x = np.array([7, -4, 0, 1])\n",
    "y = np.array([-3, 1, 11, 2])\n",
    "print(f'Скалярное произведение векторов x и y равно: {np.dot(x, y)}')"
   ]
  },
  {
   "cell_type": "code",
   "execution_count": null,
   "metadata": {},
   "outputs": [],
   "source": []
  },
  {
   "cell_type": "markdown",
   "metadata": {},
   "source": [
    "2. Найти нормы векторов  (4,2,4)  и  (12,3,4)  и угол между ними."
   ]
  },
  {
   "cell_type": "code",
   "execution_count": 8,
   "metadata": {},
   "outputs": [
    {
     "name": "stdout",
     "output_type": "stream",
     "text": [
      "l1a норма вектора a:  10.0\n",
      "l2a норма вектора a:  6.0\n",
      "l1b норма вектора b:  19.0\n",
      "l2b норма вектора b:  13.0\n",
      "Косинус угла между a и b: 0.90\n",
      "Угол между a и b:         0.46\n"
     ]
    }
   ],
   "source": [
    "a = np.array([4, 2, 4])\n",
    "b = np.array([12, 3, 4])\n",
    "\n",
    "print(f'l1a норма вектора a:  {norm(a, ord=1)}')\n",
    "print(f'l2a норма вектора a:  {norm(a, ord=2)}')\n",
    "\n",
    "print(f'l1b норма вектора b:  {norm(b, ord=1)}')\n",
    "print(f'l2b норма вектора b:  {norm(b, ord=2)}')\n",
    "\n",
    "cos_phi = np.dot(a, b) / norm(a) / norm(b)\n",
    "print(f'Косинус угла между a и b: {cos_phi:.2f}')\n",
    "print(f'Угол между a и b:         {np.arccos(cos_phi):.2f}')"
   ]
  },
  {
   "cell_type": "code",
   "execution_count": null,
   "metadata": {},
   "outputs": [],
   "source": []
  },
  {
   "cell_type": "markdown",
   "metadata": {},
   "source": [
    "3. Будет ли линейное пространство евклидовым, если за скалярное произведение принять:\n",
    "а) произведение длин векторов;\n",
    "б) утроенное обычное скалярное произведение векторов?"
   ]
  },
  {
   "cell_type": "markdown",
   "metadata": {},
   "source": [
    "Для евклидова пространства справедливы аксиомы:\n",
    "\n",
    "1) $(x, y)=(y, x)$\n",
    "\n",
    "2) $(\\lambda x, y)=\\lambda(x, y)$\n",
    "\n",
    "3) $\\left(x_{1}+x_{2}, y\\right)=\\left(x_{1}, y\\right)+\\left(x_{2}, y\\right)$\n",
    "\n",
    "4) $(x, x) \\geq 0,$ причем $(x, x)=0 \\Leftrightarrow x=0$"
   ]
  },
  {
   "cell_type": "markdown",
   "metadata": {},
   "source": [
    "а) Произведение длин векторов не удовлетворяют условию:\n",
    "$(x_1+x_2,y)=(x_1,y)+(x_2,y):$\n",
    "$$\\sqrt{\\sum_0^i(x_{1i} + x_{2i})^2}\\sqrt{\\sum_0^iy_i^2} = \\sqrt{\\sum_0^ix_{1i}^2}\\sqrt{\\sum_0^iy_i^2} + \\sqrt{\\sum_0^ix_{2i}^2}\\sqrt{\\sum_0^iy_i^2}$$$$\\sqrt{\\sum_0^i(x_{1i} + x_{2i})^2} = \\sqrt{\\sum_0^ix_{1i}^2} + \\sqrt{\\sum_0^ix_{2i}^2}$$"
   ]
  },
  {
   "cell_type": "markdown",
   "metadata": {},
   "source": [
    "Ответ: пространство не евклидово"
   ]
  },
  {
   "cell_type": "markdown",
   "metadata": {},
   "source": [
    "б) Утроенное скалярне произведение  удовлетворяет всем четырем аксиомам."
   ]
  },
  {
   "cell_type": "markdown",
   "metadata": {},
   "source": [
    "Ответ: пространство евклидово"
   ]
  },
  {
   "cell_type": "markdown",
   "metadata": {},
   "source": [
    "4. Какие из нижеперечисленных векторов образуют ортонормированный базис в линейном пространстве  ℝ3 :\n",
    "а)  (1,0,0),(0,0,1); \n",
    "б)  (1/2⎯⎯√,−1/2⎯⎯√,0),(1/2⎯⎯√,1/2⎯⎯√,0),(0,0,1); \n",
    "в)  (1/2,−1/2,0),(0,1/2,1/2),(0,0,1); \n",
    "г)  (1,0,0),(0,1,0),(0,0,1)?"
   ]
  },
  {
   "cell_type": "code",
   "execution_count": 9,
   "metadata": {},
   "outputs": [],
   "source": [
    "# Запишем условия ортонормированного в функцию проверки:\n",
    "\n",
    "def if_ortonormal(a, b, c):\n",
    "    if np.dot(a, b) == 0 and np.dot(b, c) == 0 and \\\n",
    "        np.dot(c, a) == 0 and np.dot(a, a) == 1 and \\\n",
    "        np.dot(b, b) == 1 and np.dot(c, c) ==1:\n",
    "        return f'Векторы: {a}, {b}, {c}  - образуют ортонормированный базис'\n",
    "    else:\n",
    "        return f'Векторы: {a}, {b}, {c} - не образуют ортонормированный базис'"
   ]
  },
  {
   "cell_type": "markdown",
   "metadata": {},
   "source": [
    "а) (1,0,0),(0,0,1)\n",
    "Два вектора не образуют ортонормированный базис 3-х мерного пространства."
   ]
  },
  {
   "cell_type": "code",
   "execution_count": 10,
   "metadata": {},
   "outputs": [
    {
     "data": {
      "text/plain": [
       "'Векторы: [ 0.70710678 -0.70710678  0.        ], [0.70710678 0.70710678 0.        ], [0 0 1] - не образуют ортонормированный базис'"
      ]
     },
     "execution_count": 10,
     "metadata": {},
     "output_type": "execute_result"
    }
   ],
   "source": [
    "# б) (1/2⎯⎯√,−1/2⎯⎯√,0),(1/2⎯⎯√,1/2⎯⎯√,0),(0,0,1);\n",
    "\n",
    "a = np.array([1/(2**0.5), -1/(2**0.5), 0])\n",
    "b = np.array([1/(2**0.5), 1/(2**0.5), 0])\n",
    "c = np.array([0, 0, 1])\n",
    "\n",
    "if_ortonormal(a, b, c)"
   ]
  },
  {
   "cell_type": "code",
   "execution_count": 11,
   "metadata": {},
   "outputs": [
    {
     "data": {
      "text/plain": [
       "'Векторы: [ 0.5 -0.5  0. ], [0.  0.5 0.5], [0 0 1] - не образуют ортонормированный базис'"
      ]
     },
     "execution_count": 11,
     "metadata": {},
     "output_type": "execute_result"
    }
   ],
   "source": [
    "# в) (1/2,−1/2,0),(0,1/2,1/2),(0,0,1); \n",
    "\n",
    "a = np.array([0.5, -0.5, 0])\n",
    "b = np.array([0, 0.5, 0.5])\n",
    "c = np.array([0, 0, 1])\n",
    "\n",
    "if_ortonormal(a, b, c)"
   ]
  },
  {
   "cell_type": "code",
   "execution_count": 12,
   "metadata": {},
   "outputs": [
    {
     "data": {
      "text/plain": [
       "'Векторы: [1 0 0], [0 1 0], [0 0 1]  - образуют ортонормированный базис'"
      ]
     },
     "execution_count": 12,
     "metadata": {},
     "output_type": "execute_result"
    }
   ],
   "source": [
    "# г) (1,0,0),(0,1,0),(0,0,1)\n",
    "\n",
    "a = np.array([1, 0, 0])\n",
    "b = np.array([0, 1, 0])\n",
    "c = np.array([0, 0, 1])\n",
    "\n",
    "if_ortonormal(a, b, c)"
   ]
  },
  {
   "cell_type": "code",
   "execution_count": null,
   "metadata": {},
   "outputs": [],
   "source": []
  }
 ],
 "metadata": {
  "kernelspec": {
   "display_name": "Python 3",
   "language": "python",
   "name": "python3"
  },
  "language_info": {
   "codemirror_mode": {
    "name": "ipython",
    "version": 3
   },
   "file_extension": ".py",
   "mimetype": "text/x-python",
   "name": "python",
   "nbconvert_exporter": "python",
   "pygments_lexer": "ipython3",
   "version": "3.7.6"
  }
 },
 "nbformat": 4,
 "nbformat_minor": 4
}
