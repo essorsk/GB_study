{
 "cells": [
  {
   "cell_type": "code",
   "execution_count": 12,
   "metadata": {},
   "outputs": [],
   "source": [
    "import pprint\n",
    "import numpy as np\n",
    "import scipy\n",
    "import scipy.linalg"
   ]
  },
  {
   "cell_type": "markdown",
   "metadata": {},
   "source": [
    "__1.__ Решить систему уравнений методом Гаусса:\n",
    "\n",
    "$$\\begin{cases}\n",
    "x_{1}+x_{2}-x_{3}-2x_{4}=0, \\\\\n",
    "2x_{1}+x_{2}-x_{3}+x_{4}=-2, \\\\\n",
    "x_{1}+x_{2}-3x_{3}+x_{4}=4.\n",
    "\\end{cases}$$"
   ]
  },
  {
   "cell_type": "code",
   "execution_count": null,
   "metadata": {},
   "outputs": [],
   "source": [
    "Случай, когда 3 измерения, вектора 4."
   ]
  },
  {
   "cell_type": "markdown",
   "metadata": {},
   "source": [
    "$$\\begin{pmatrix}\n",
    "\\left.\\begin{matrix}\n",
    "1 & 1 & -1 & -2\\\\ \n",
    "2 & 1 & -1 & 1\\\\ \n",
    "1 & 1 & -3 & 1\n",
    "\\end{matrix}\\right|\n",
    "\\begin{matrix}\n",
    "0\\\\ \n",
    "-2\\\\\n",
    "4\n",
    "\\end{matrix}\n",
    "\\end{pmatrix} = \\begin{pmatrix}\n",
    "\\left.\\begin{matrix}\n",
    "1 & 1 & -1 & -2\\\\ \n",
    "0 & -1 & 1 & 5\\\\ \n",
    "0 & 0 & -2 & 3\n",
    "\\end{matrix}\\right|\n",
    "\\begin{matrix}\n",
    "0\\\\ \n",
    "-2\\\\\n",
    "4\n",
    "\\end{matrix}\n",
    "\\end{pmatrix} \\Rightarrow \\begin{cases}\n",
    "x_{1}+x_{2}-x_{3}-2x_{4}=0, \\\\\n",
    "-x_{2}+x_{3}+5x_{4}=-2, \\\\\n",
    "-2x_{3}+3x_{4}=4.\n",
    "\\end{cases}$$\n",
    "\n",
    "Получившаяся система имеет бесконечное число решений. \n",
    "\n",
    "Найдём общее решение системы, при $x_4=c$:\n",
    "$$-2x_3+3c=4 \\; \\Leftrightarrow \\; x_3=\\frac{3c-4}{2}=1.5c-2$$\n",
    "$$-x_2+\\frac{3c-4}{2}+5c=-2 \\; \\Leftrightarrow \\; x_2=\\frac{13c}{2}=7.5c$$\n",
    "$$x_1+\\frac{13c}{2}-\\frac{3c-4}{2}-2c=0 \\; \\Leftrightarrow \\; x_1=\\frac{-6c-4}{2}=-3c-2$$\n",
    "\n",
    "Частное решение системы, при $c=0$:\n",
    "$$x_1=-2$$\n",
    "$$x_2=0$$\n",
    "$$x_3=-2$$"
   ]
  },
  {
   "cell_type": "markdown",
   "metadata": {},
   "source": [
    "__2.__ Проверить на совместность и выяснить, сколько решений будет иметь система линейных уравнений:\n",
    "\n",
    "   а) $\\begin{cases}\n",
    "3x_{1}-x_{2}+x_{3}=4, \\\\\n",
    "2x_{1}-5x_{2}-3x_{3}=-17, \\\\\n",
    "x_{1}+x_{2}-x_{3}=0;\n",
    "\\end{cases}$"
   ]
  },
  {
   "cell_type": "markdown",
   "metadata": {},
   "source": [
    "Преобразования: \n",
    "\n",
    "Переместили 3е уравнение на 1 строку. \n",
    "\n",
    "Из 2го уравнения вычли 2 1*х. \n",
    "\n",
    "Из 1го уравения вычли  3 1*х и 4 2*х. \n",
    "\n",
    "2 и 3 столбец поменяли местами"
   ]
  },
  {
   "cell_type": "markdown",
   "metadata": {},
   "source": [
    "$\\begin{pmatrix}\\left.\\begin{matrix}\n",
    "3 & -1 & 1\\\\\n",
    "2 & -5 & -3\\\\\n",
    "1 & 1 & -1\n",
    "\\end{matrix}\\right|\\begin{matrix} \n",
    "4\\\\\n",
    "-17\\\\\n",
    "0\n",
    "\\end{matrix}\\end{pmatrix} = \\begin{pmatrix}\\left.\\begin{matrix}\n",
    "1 & -1 & 1\\\\\n",
    "0 & -1 & -7\\\\\n",
    "0 & 0 & -32\n",
    "\\end{matrix}\\right|\\begin{matrix} \n",
    "0\\\\\n",
    "-17\\\\\n",
    "-64\n",
    "\\end{matrix}\\end{pmatrix}$"
   ]
  },
  {
   "cell_type": "markdown",
   "metadata": {},
   "source": [
    "   б) $\\begin{cases}\n",
    "2x_{1}-4x_{2}+6x_{3}=1, \\\\\n",
    "x_{1}-2x_{2}+3x_{3}=-2, \\\\\n",
    "3x_{1}-6x_{2}+9x_{3}=5;\n",
    "\\end{cases}$"
   ]
  },
  {
   "cell_type": "markdown",
   "metadata": {},
   "source": [
    "$\\begin{pmatrix}\\left.\\begin{matrix}\n",
    "2 & -4 & 6\\\\\n",
    "1 & -2 & 3\\\\\n",
    "3 & -6 & 9\n",
    "\\end{matrix}\\right|\\begin{matrix} \n",
    "1\\\\\n",
    "-2\\\\\n",
    "5\n",
    "\\end{matrix}\\end{pmatrix} = \\begin{pmatrix}\\left.\\begin{matrix}\n",
    "0 & 0 & 0\\\\\n",
    "1 & -2 & 3\\\\\n",
    "0 & 0 & 0\n",
    "\\end{matrix}\\right|\\begin{matrix} \n",
    "5\\\\\n",
    "-2\\\\\n",
    "11\n",
    "\\end{matrix}\\end{pmatrix} $"
   ]
  },
  {
   "cell_type": "markdown",
   "metadata": {},
   "source": [
    "Система несовместна и не имеет решений"
   ]
  },
  {
   "cell_type": "markdown",
   "metadata": {},
   "source": [
    "   в) $\\begin{cases}\n",
    "x_{1}+2x_{2}+5x_{3}=4, \\\\\n",
    "3x_{1}+x_{2}-8x_{3}=-2. \n",
    "\\end{cases}$"
   ]
  },
  {
   "cell_type": "markdown",
   "metadata": {},
   "source": [
    "$\\begin{pmatrix}\\left.\\begin{matrix}\n",
    "1 & 2 & 5\\\\\n",
    "3 & 1 & -8\n",
    "\\end{matrix}\\right|\\begin{matrix} \n",
    "4\\\\\n",
    "-2\n",
    "\\end{matrix}\\end{pmatrix} = \\begin{pmatrix}\\left.\\begin{matrix}\n",
    "1 & 2 & 5\\\\\n",
    "0 & -5 & -23\n",
    "\\end{matrix}\\right|\\begin{matrix} \n",
    "4\\\\\n",
    "-14\n",
    "\\end{matrix}\\end{pmatrix} $"
   ]
  },
  {
   "cell_type": "markdown",
   "metadata": {},
   "source": [
    "Система совместна и имеет бесконечное множество решений"
   ]
  },
  {
   "cell_type": "markdown",
   "metadata": {},
   "source": [
    "__3.__ Проверить на совместность и выяснить, сколько решений будет иметь система линейных уравнений, заданная расширенной матрицей\n",
    "\n",
    "$$\\tilde{A}=\\begin{pmatrix}\n",
    "\\left.\\begin{matrix}\n",
    "1 & 3 & -2 & 4\\\\ \n",
    "0 & 5 & 0 & 1\\\\ \n",
    "0 & 0 & 3 & 0\\\\ \n",
    "0 & 0 & 0 & 2\n",
    "\\end{matrix}\\right|\n",
    "\\begin{matrix}\n",
    "3\\\\ \n",
    "2\\\\\n",
    "4\\\\\n",
    "1\n",
    "\\end{matrix}\n",
    "\\end{pmatrix}.$$"
   ]
  },
  {
   "cell_type": "markdown",
   "metadata": {},
   "source": [
    "Решение: \n",
    "\n",
    "x4 = 0.5\n",
    "\n",
    "x3 = 4/3\n",
    "\n",
    "x2 = (2- 0.5)/5 = 0.3\n",
    "\n",
    "x1 = 3 -2 + 8/3 - 3*0.3 = 73/30"
   ]
  },
  {
   "cell_type": "markdown",
   "metadata": {},
   "source": [
    "Ответ: система совместна и имеет 1 решение (73/30, 3/10, 4/3, 1/2)"
   ]
  },
  {
   "cell_type": "markdown",
   "metadata": {},
   "source": [
    "__4.__ Дана система линейных уравнений, заданная расширенной матрицей\n",
    "\n",
    "$$\\tilde{A}=\\begin{pmatrix}\n",
    "\\left.\\begin{matrix}\n",
    "1 & 2 & 3\\\\ \n",
    "4 & 5 & 6\\\\ \n",
    "7 & 8 & 9\n",
    "\\end{matrix}\\right|\n",
    "\\begin{matrix}\n",
    "a\\\\ \n",
    "b\\\\\n",
    "c\n",
    "\\end{matrix}\n",
    "\\end{pmatrix}.$$\n",
    "\n",
    "Найти соотношение между параметрами $a$, $b$ и $c$, при которых система является несовместной."
   ]
  },
  {
   "cell_type": "markdown",
   "metadata": {},
   "source": [
    "$$\\tilde{A}=\\begin{pmatrix}\\left.\\begin{matrix}\n",
    "1 & 2 & 3\\\\ \n",
    "4 & 5 & 6\\\\ \n",
    "7 & 8 & 9\n",
    "\\end{matrix}\\right|\\begin{matrix}\n",
    "a\\\\ \n",
    "b\\\\\n",
    "c\n",
    "\\end{matrix}\\end{pmatrix} = \\tilde{A}=\\begin{pmatrix}\\left.\\begin{matrix}\n",
    "1 & 2 & 3\\\\ \n",
    "0 & -3 & -6\\\\ \n",
    "0 & 0 & 0\n",
    "\\end{matrix}\\right|\\begin{matrix}\n",
    "a\\\\ \n",
    "b-4a\\\\\n",
    "8a-2b+c-7\n",
    "\\end{matrix}\\end{pmatrix}$$\n"
   ]
  },
  {
   "cell_type": "markdown",
   "metadata": {},
   "source": [
    "\n",
    "\n",
    "$$8a-2b+c-7 \\neq 0$$"
   ]
  },
  {
   "cell_type": "markdown",
   "metadata": {},
   "source": [
    "__1.__ Решить систему уравнений методом Крамера:\n",
    "\n",
    "   а) $\\begin{cases}\n",
    "x_{1}-2x_{2}=1 \\\\\n",
    "3x_{1}-4x_{2}=7\n",
    "\\end{cases}$"
   ]
  },
  {
   "cell_type": "markdown",
   "metadata": {},
   "source": [
    "$$det A = \\begin{vmatrix}\n",
    "1 & -2\\\\\n",
    "3 & -4\n",
    "\\end{vmatrix} = -4 + 6 = 2$$\n",
    "\n",
    "$$det A_1 = \\begin{vmatrix}\n",
    "1 & -2\\\\\n",
    "7 & -4\n",
    "\\end{vmatrix} = -4 + 14 = 10$$\n",
    "\n",
    "$$det A_2 = \\begin{vmatrix}\n",
    "1 & 1\\\\\n",
    "3 & 7\n",
    "\\end{vmatrix} = 7 - 3 = 4$$\n",
    "\n",
    "$$x_1=\\frac{det A_1}{det A}=5$$\n",
    "\n",
    "$$x_2=\\frac{det A_2}{det A}=2$$"
   ]
  },
  {
   "cell_type": "markdown",
   "metadata": {},
   "source": [
    "   б) $\\begin{cases}\n",
    "2x_{1}-x_{2}+5x_{3}=10 \\\\\n",
    "x_{1}+x_{2}-3x_{3}=-2 \\\\\n",
    "2x_{1}+4x_{2}+x_{3}=1\n",
    "\\end{cases}$\n"
   ]
  },
  {
   "cell_type": "markdown",
   "metadata": {},
   "source": [
    "$$det A = \\begin{vmatrix}\n",
    "2 & -1 & 5\\\\\n",
    "1 & 1 & -3\\\\\n",
    "2 & 4 & 1\n",
    "\\end{vmatrix} = 2 + 6 + 20 + 24 + 1 - 10 = 43$$\n",
    "\n",
    "$$det A_1 = \\begin{vmatrix}\n",
    "10 & -1 & 5\\\\\n",
    "-2 & 1 & -3\\\\\n",
    "1 & 4 & 1\n",
    "\\end{vmatrix} = 10 + 3 - 40 - 5 - 2 + 120 = 86$$\n",
    "\n",
    "$$det A_2 = \\begin{vmatrix}\n",
    "2 & 10 & 5\\\\\n",
    "1 & -2 & -3\\\\\n",
    "2 & 1 & 1\n",
    "\\end{vmatrix} = -4 -60 +5 +20 -10 +6 = -43$$\n",
    "\n",
    "$$det A_3 = \\begin{vmatrix}\n",
    "2 & -1 & 10\\\\\n",
    "1 & 1 & -2\\\\\n",
    "2 & 4 & 1\n",
    "\\end{vmatrix} = 2 + 4 + 40 - 20 + 1 + 16 = 43$$\n",
    "\n",
    "$$x_1=\\frac{det A_1}{det A}=2$$\n",
    "\n",
    "$$x_2=\\frac{det A_2}{det A}=-1$$\n",
    "\n",
    "$$x_3=\\frac{det A_3}{det A}=1$$"
   ]
  },
  {
   "cell_type": "markdown",
   "metadata": {},
   "source": [
    "__2*.__ Найти $L$-матрицу $LU$-разложения для матрицы коэффициентов:\n",
    "\n",
    "   а)$$\\begin{pmatrix}\n",
    "1 & 2 & 4 \\\\ \n",
    "2 & 9 & 12 \\\\ \n",
    "3 & 26 & 30\n",
    "\\end{pmatrix}$$"
   ]
  },
  {
   "cell_type": "code",
   "execution_count": 13,
   "metadata": {},
   "outputs": [
    {
     "name": "stdout",
     "output_type": "stream",
     "text": [
      "A:\n",
      "array([[ 1,  2,  4],\n",
      "       [ 2,  9, 12],\n",
      "       [ 3, 26, 30]])\n",
      "P (permutation):\n",
      "array([[0., 0., 1.],\n",
      "       [0., 1., 0.],\n",
      "       [1., 0., 0.]])\n",
      "L:\n",
      "array([[1.        , 0.        , 0.        ],\n",
      "       [0.66666667, 1.        , 0.        ],\n",
      "       [0.33333333, 0.8       , 1.        ]])\n",
      "U:\n",
      "array([[ 3.        , 26.        , 30.        ],\n",
      "       [ 0.        , -8.33333333, -8.        ],\n",
      "       [ 0.        ,  0.        ,  0.4       ]])\n"
     ]
    }
   ],
   "source": [
    "A = np.array([[1, 2, 4], [2, 9, 12], [3, 26, 30]])\n",
    "P, L, U = scipy.linalg.lu(A)\n",
    "print(\"A:\")\n",
    "pprint.pprint(A)\n",
    "\n",
    "print(\"P (permutation):\")\n",
    "pprint.pprint(P)\n",
    "\n",
    "print(\"L:\")\n",
    "pprint.pprint(L)\n",
    "\n",
    "print(\"U:\")\n",
    "pprint.pprint(U)"
   ]
  },
  {
   "cell_type": "markdown",
   "metadata": {},
   "source": [
    "   б)$$\\begin{pmatrix}\n",
    "1 & 1 & 2 & 4\\\\ \n",
    "2 & 5 & 8 & 9\\\\ \n",
    "3 & 18 & 29 & 18\\\\\n",
    "4 & 22 & 53 & 33\n",
    "\\end{pmatrix}$$"
   ]
  },
  {
   "cell_type": "code",
   "execution_count": 14,
   "metadata": {},
   "outputs": [
    {
     "name": "stdout",
     "output_type": "stream",
     "text": [
      "B:\n",
      "array([[ 1,  1,  2,  4],\n",
      "       [ 2,  5,  8,  9],\n",
      "       [ 3, 18, 29, 18],\n",
      "       [ 4, 22, 53, 33]])\n",
      "P:\n",
      "array([[0., 0., 0., 1.],\n",
      "       [0., 1., 0., 0.],\n",
      "       [0., 0., 1., 0.],\n",
      "       [1., 0., 0., 0.]])\n",
      "L:\n",
      "array([[ 1.        ,  0.        ,  0.        ,  0.        ],\n",
      "       [ 0.5       ,  1.        ,  0.        ,  0.        ],\n",
      "       [ 0.75      , -0.25      ,  1.        ,  0.        ],\n",
      "       [ 0.25      ,  0.75      , -0.17073171,  1.        ]])\n",
      "U:\n",
      "array([[  4.        ,  22.        ,  53.        ,  33.        ],\n",
      "       [  0.        ,  -6.        , -18.5       ,  -7.5       ],\n",
      "       [  0.        ,   0.        , -15.375     ,  -8.625     ],\n",
      "       [  0.        ,   0.        ,   0.        ,  -0.09756098]])\n"
     ]
    }
   ],
   "source": [
    "B = np.array([[1, 1, 2, 4], [2, 5, 8, 9], [3, 18, 29, 18], [4, 22, 53, 33]])\n",
    "P, L, U = scipy.linalg.lu(B)\n",
    "print(\"B:\")\n",
    "pprint.pprint(B)\n",
    "\n",
    "print(\"P:\")\n",
    "pprint.pprint(P)\n",
    "\n",
    "print(\"L:\")\n",
    "pprint.pprint(L)\n",
    "\n",
    "print(\"U:\")\n",
    "pprint.pprint(U)"
   ]
  },
  {
   "cell_type": "markdown",
   "metadata": {},
   "source": [
    "__3*.__ Решить систему линейных уравнений методом $LU$-разложения\n",
    "\n",
    "$$\\begin{cases}\n",
    "2x_{1}+x_{2}+3x_{3}=1 \\\\\n",
    "11x_{1}+7x_{2}+5x_{3}=-6 \\\\\n",
    "9x_{1}+8x_{2}+4x_{3}=-5\n",
    "\\end{cases}$$\n"
   ]
  },
  {
   "cell_type": "code",
   "execution_count": 15,
   "metadata": {},
   "outputs": [
    {
     "name": "stdout",
     "output_type": "stream",
     "text": [
      "A:\n",
      "array([[ 2,  1,  3],\n",
      "       [11,  7,  5],\n",
      "       [ 9,  8,  4]])\n",
      "P (permutation):\n",
      "array([[0., 0., 1.],\n",
      "       [1., 0., 0.],\n",
      "       [0., 1., 0.]])\n",
      "L:\n",
      "array([[ 1.        ,  0.        ,  0.        ],\n",
      "       [ 0.81818182,  1.        ,  0.        ],\n",
      "       [ 0.18181818, -0.12      ,  1.        ]])\n",
      "U:\n",
      "array([[11.        ,  7.        ,  5.        ],\n",
      "       [ 0.        ,  2.27272727, -0.09090909],\n",
      "       [ 0.        ,  0.        ,  2.08      ]])\n"
     ]
    }
   ],
   "source": [
    "A = np.array([[2, 1, 3], [11, 7, 5], [9, 8, 4]])\n",
    "P, L, U = scipy.linalg.lu(A)\n",
    "print(\"A:\")\n",
    "pprint.pprint(A)\n",
    "\n",
    "print(\"P (permutation):\")\n",
    "pprint.pprint(P)\n",
    "\n",
    "print(\"L:\")\n",
    "pprint.pprint(L)\n",
    "\n",
    "print(\"U:\")\n",
    "pprint.pprint(U)"
   ]
  },
  {
   "cell_type": "code",
   "execution_count": 16,
   "metadata": {},
   "outputs": [
    {
     "name": "stdout",
     "output_type": "stream",
     "text": [
      "y1: 1.0, y2: -6.8, y3: -6.0\n"
     ]
    }
   ],
   "source": [
    "#По верхней матрице\n",
    "y1 = 1\n",
    "y2 = -6 - 0.82\n",
    "y3 = -5 -0.18 +0.12*y2\n",
    "print(f'y1: {y1:.1f}, y2: {y2:.1f}, y3: {y3:.1f}')"
   ]
  },
  {
   "cell_type": "code",
   "execution_count": 17,
   "metadata": {},
   "outputs": [
    {
     "name": "stdout",
     "output_type": "stream",
     "text": [
      "x1: 3.4, x2: -3.1, x3: -2.9\n"
     ]
    }
   ],
   "source": [
    "#По нижней матрице\n",
    "x3 = y3/2.08\n",
    "x2 = (y2 + 0.09 * x3)/ 2.27\n",
    "x1 = (y1- 5*x3 - 7*x2)/11\n",
    "print(f'x1: {x1:.1f}, x2: {x2:.1f}, x3: {x3:.1f}')"
   ]
  },
  {
   "cell_type": "code",
   "execution_count": null,
   "metadata": {},
   "outputs": [],
   "source": []
  },
  {
   "cell_type": "code",
   "execution_count": null,
   "metadata": {},
   "outputs": [],
   "source": []
  }
 ],
 "metadata": {
  "kernelspec": {
   "display_name": "Python 3",
   "language": "python",
   "name": "python3"
  },
  "language_info": {
   "codemirror_mode": {
    "name": "ipython",
    "version": 3
   },
   "file_extension": ".py",
   "mimetype": "text/x-python",
   "name": "python",
   "nbconvert_exporter": "python",
   "pygments_lexer": "ipython3",
   "version": "3.7.6"
  }
 },
 "nbformat": 4,
 "nbformat_minor": 4
}
