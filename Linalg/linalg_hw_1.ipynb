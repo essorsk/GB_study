{
 "cells": [
  {
   "cell_type": "code",
   "execution_count": 1,
   "metadata": {},
   "outputs": [],
   "source": [
    "import numpy as np\n",
    "import matplotlib.pyplot as plt\n",
    "from numpy.linalg import norm\n",
    "from scipy.spatial.distance import cdist"
   ]
  },
  {
   "cell_type": "markdown",
   "metadata": {},
   "source": [
    "1. Исследовать на линейную зависимость:\n",
    "𝑓1(𝑥)=𝑒𝑥,𝑓2(𝑥)=1,𝑓3(𝑥)=𝑥+1,𝑓4(𝑥)=𝑥−𝑒𝑥."
   ]
  },
  {
   "cell_type": "markdown",
   "metadata": {},
   "source": [
    "f3(x) = f1(x) + f2(x) + f4(x)\n",
    "Следовательно, функции линейно зависимы"
   ]
  },
  {
   "cell_type": "markdown",
   "metadata": {},
   "source": [
    "2. Исследовать на линейную зависимость:\n",
    "𝑓1(𝑥)=2,𝑓2(𝑥)=𝑥,𝑓3(𝑥)=𝑥2,𝑓4(𝑥)=(𝑥+1)2."
   ]
  },
  {
   "cell_type": "markdown",
   "metadata": {},
   "source": [
    "f4(x) = f3(x) + 2*f4(x) + 0.5 * f1(x)\n",
    "Следовательно, функции линейно зависимы"
   ]
  },
  {
   "cell_type": "markdown",
   "metadata": {},
   "source": [
    "3. Найти координаты вектора  X=(2,3,5)∈ℝ3  в базисе  𝑏1=(0,0,10) ,  𝑏2=(2,0,0) ,  𝑏3=(0,1,0) ."
   ]
  },
  {
   "cell_type": "markdown",
   "metadata": {},
   "source": [
    "X = xb1 +yb2 +zb3\n",
    "X = 2i + 3j + 5k\n",
    "b1 = 10k\n",
    "b2 = 2i\n",
    "b3 = j"
   ]
  },
  {
   "cell_type": "markdown",
   "metadata": {},
   "source": [
    "2i + 3j + 5k = 10kx +2iy + jz\n",
    "\n",
    "x = 0.5\n",
    "y = 1\n",
    "z = 3"
   ]
  },
  {
   "cell_type": "markdown",
   "metadata": {},
   "source": [
    "4. Найти координаты вектора  3𝑥2−2𝑥+2∈ℝ3[𝑥] :\n",
    "\n",
    "а) в базисе  1 ,  𝑥 ,  𝑥2 ;\n",
    "\n",
    "б) в базисе  𝑥2 ,  𝑥−1 ,  1 ."
   ]
  },
  {
   "cell_type": "markdown",
   "metadata": {},
   "source": [
    "a) Вектор\n",
    "a4 = (3, -2, 2)\n",
    "\n",
    "Базис:\n",
    "a1 = (0, 0, 1)\n",
    "a2 = (0, 1, 0)\n",
    "a3 = (1, 0, 0)"
   ]
  },
  {
   "cell_type": "markdown",
   "metadata": {},
   "source": [
    "a4 = xa1 + ya2+ za3\n",
    "a4 = 3i - 2j + 2k\n",
    "a1 = k\n",
    "a2 = j\n",
    "a3 = i"
   ]
  },
  {
   "cell_type": "markdown",
   "metadata": {},
   "source": [
    "3i - 2j + 2k = xk +yj +zi\n",
    "Ответ:\n",
    "x = 2\n",
    "y = -2\n",
    "z = 3"
   ]
  },
  {
   "cell_type": "markdown",
   "metadata": {},
   "source": [
    "b) Вектор\n",
    "a4 = (3, -2, 2)\n",
    "Базис:\n",
    "a1 = (1, 0, 0) = i\n",
    "a2 = (0, 1, -1) = j - k\n",
    "a3 = (0, 0, 1) = k\n",
    "a4 = xa1 + ya2+ za3"
   ]
  },
  {
   "cell_type": "code",
   "execution_count": null,
   "metadata": {},
   "outputs": [],
   "source": [
    "3i - 2j + 2k = ix +jy - ky +kz\n",
    "\n",
    "3i = ix           x = 3\n",
    "-2j = jy     <=> y = -2\n",
    "2k = kz-ky      2 = z + 2\n",
    "\n",
    "Ответ:\n",
    "x = 3\n",
    "y = -2\n",
    "z = 0"
   ]
  },
  {
   "cell_type": "code",
   "execution_count": null,
   "metadata": {},
   "outputs": [],
   "source": []
  },
  {
   "cell_type": "markdown",
   "metadata": {},
   "source": [
    "5. Установить, является ли линейным подпространством:\n",
    "\n",
    "а) совокупность всех векторов трехмерного пространства, у которых по крайней мере одна из первых двух координат равна нулю;\n",
    "\n",
    "б) все векторы, являющиеся линейными комбинациями данных векторов  {𝑢1,𝑢2,...,𝑢𝑛} ."
   ]
  },
  {
   "cell_type": "code",
   "execution_count": null,
   "metadata": {},
   "outputs": [],
   "source": [
    "а) = да, б) - нет"
   ]
  }
 ],
 "metadata": {
  "kernelspec": {
   "display_name": "Python 3",
   "language": "python",
   "name": "python3"
  },
  "language_info": {
   "codemirror_mode": {
    "name": "ipython",
    "version": 3
   },
   "file_extension": ".py",
   "mimetype": "text/x-python",
   "name": "python",
   "nbconvert_exporter": "python",
   "pygments_lexer": "ipython3",
   "version": "3.7.3"
  }
 },
 "nbformat": 4,
 "nbformat_minor": 2
}
