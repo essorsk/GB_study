{
 "cells": [
  {
   "cell_type": "markdown",
   "metadata": {},
   "source": [
    "__1.__ Решить систему уравнений методом Гаусса:\n",
    "\n",
    "$$\\begin{cases}\n",
    "x_{1}+x_{2}-x_{3}-2x_{4}=0, \\\\\n",
    "2x_{1}+x_{2}-x_{3}+x_{4}=-2, \\\\\n",
    "x_{1}+x_{2}-3x_{3}+x_{4}=4.\n",
    "\\end{cases}$$"
   ]
  },
  {
   "cell_type": "raw",
   "metadata": {},
   "source": [
    "1 1 -1 -2 | 0       1 1 -1 -2 | 0      0 1 -1 -5 | 2 \n",
    "2 1 -1  1 | -2 <=>  1 0  0  3 | -2 <=> 1 0  2 0  |-6\n",
    "1 1 -3  1 | 4       0 0  -2 3 | 4      0 0  -2 3 | 4\n",
    "\n",
    "Неизвестных больше, чем, уравнений. Система имеет множество решений\n",
    "\n",
    "x1 = c                                x1 = 0\n",
    "x3 = (-6 - c)/2                   <=> x2 = -13/3\n",
    "x4 = (4 -6 -c) /3 = (-2 - c)/ 3       x3 = -3\n",
    "x2 = 2 - 5(2 + c)/3 - (6 + c)/2       x4 = -2/3"
   ]
  },
  {
   "cell_type": "markdown",
   "metadata": {},
   "source": [
    "__2.__ Проверить на совместность и выяснить, сколько решений будет иметь система линейных уравнений:\n",
    "\n",
    "   а) $\\begin{cases}\n",
    "3x_{1}-x_{2}+x_{3}=4, \\\\\n",
    "2x_{1}-5x_{2}-3x_{3}=-17, \\\\\n",
    "x_{1}+x_{2}-x_{3}=0;\n",
    "\\end{cases}$"
   ]
  },
  {
   "cell_type": "raw",
   "metadata": {},
   "source": [
    "3 -1  1 | 4       1 0  0| 1     x1 = 1\n",
    "2 -5 -3 | -17 <=> 0 7 1 | 17 <=>x2 = 2\n",
    "1 1  -1 |0        0 1 -1|-1     x3 = 3\n",
    "\n",
    "Система совместна и имеет единственное решение (1, 2, 3)"
   ]
  },
  {
   "cell_type": "markdown",
   "metadata": {},
   "source": [
    "  б) $\\begin{cases}\n",
    "2x_{1}-4x_{2}+6x_{3}=1, \\\\\n",
    "x_{1}-2x_{2}+3x_{3}=-2, \\\\\n",
    "3x_{1}-6x_{2}+9x_{3}=5;\n",
    "\\end{cases}$"
   ]
  },
  {
   "cell_type": "raw",
   "metadata": {},
   "source": [
    "2 -4 6 |1      0 0 0 | -3\n",
    "1 -2 3 |-2 <=> \n",
    "3 -6 9 |5\n",
    "\n",
    "Система не совместна. Решений не имеет"
   ]
  },
  {
   "cell_type": "markdown",
   "metadata": {},
   "source": [
    "   в) $\\begin{cases}\n",
    "x_{1}+2x_{2}+5x_{3}=4, \\\\\n",
    "3x_{1}+x_{2}-8x_{3}=-2. \n",
    "\\end{cases}$"
   ]
  },
  {
   "cell_type": "raw",
   "metadata": {},
   "source": [
    "Переменных больше, чем уравнений.\n",
    "Система имеет бесконечное множество решений."
   ]
  },
  {
   "cell_type": "markdown",
   "metadata": {},
   "source": [
    "__1.__ Решить систему уравнений методом Крамера:\n",
    "\n",
    "   а) $\\begin{cases}\n",
    "x_{1}-2x_{2}=1 \\\\\n",
    "3x_{1}-4x_{2}=7\n",
    "\\end{cases}$"
   ]
  },
  {
   "cell_type": "code",
   "execution_count": 2,
   "metadata": {},
   "outputs": [
    {
     "name": "stdout",
     "output_type": "stream",
     "text": [
      "[[ 1 -2]\n",
      " [ 3 -4]]\n",
      "2.0000000000000004\n",
      "9.999999999999998\n",
      "3.999999999999999\n"
     ]
    }
   ],
   "source": [
    "import numpy as np\n",
    "A = np.array([[1, -2], [3, -4]])\n",
    "B = np.array([[1, -2], [7, -4]])\n",
    "C = np.array([[1, 1], [3, 7]])\n",
    "print(A)\n",
    "print(np.linalg.det(A))\n",
    "print(np.linalg.det(B))\n",
    "print(np.linalg.det(C))"
   ]
  },
  {
   "cell_type": "code",
   "execution_count": 4,
   "metadata": {},
   "outputs": [
    {
     "name": "stdout",
     "output_type": "stream",
     "text": [
      "x1: 5.0, x2: 2.0\n"
     ]
    }
   ],
   "source": [
    "#Решения по формулам Крамера:\n",
    "x1= np.linalg.det(B)/np.linalg.det(A)\n",
    "x2 = np.linalg.det(C)/np.linalg.det(A)\n",
    "print(f'x1: {x1:.1f}, x2: {x2:.1f}')"
   ]
  },
  {
   "cell_type": "markdown",
   "metadata": {},
   "source": [
    "   б) $\\begin{cases}\n",
    "2x_{1}-x_{2}+5x_{3}=10 \\\\\n",
    "x_{1}+x_{2}-3x_{3}=-2 \\\\\n",
    "2x_{1}+4x_{2}+x_{3}=1\n",
    "\\end{cases}$"
   ]
  },
  {
   "cell_type": "code",
   "execution_count": 5,
   "metadata": {},
   "outputs": [
    {
     "name": "stdout",
     "output_type": "stream",
     "text": [
      "x1: 2.0, x2: -1.0, x3: 1.0\n"
     ]
    }
   ],
   "source": [
    "A = np.array([[2, -1, 5], [1, 1, -3], [2, 4, 1]])\n",
    "B = np.array([[10, -1, 5], [-2, 1, -3], [1, 4, 1]])\n",
    "C = np.array([[2, 10, 5], [1, -2, -3], [2, 1, 1]])\n",
    "D = np.array([[2, -1, 10], [1, 1, -2], [2, 4, 1]])\n",
    "\n",
    "#Решения по формулам Крамера:\n",
    "x1= np.linalg.det(B)/np.linalg.det(A)\n",
    "x2 = np.linalg.det(C)/np.linalg.det(A)\n",
    "x3 = np.linalg.det(D)/np.linalg.det(A)\n",
    "print(f'x1: {x1:.1f}, x2: {x2:.1f}, x3: {x3:.1f}')"
   ]
  },
  {
   "cell_type": "markdown",
   "metadata": {},
   "source": [
    "__2.__ Найти $L$-матрицу $LU$-разложения для матрицы коэффициентов:\n",
    "\n",
    "   а)$$\\begin{pmatrix}\n",
    "1 & 2 & 4 \\\\ \n",
    "2 & 9 & 12 \\\\ \n",
    "3 & 26 & 30\n",
    "\\end{pmatrix}$$"
   ]
  },
  {
   "cell_type": "code",
   "execution_count": 7,
   "metadata": {},
   "outputs": [
    {
     "name": "stdout",
     "output_type": "stream",
     "text": [
      "A:\n",
      "array([[ 1,  2,  4],\n",
      "       [ 2,  9, 12],\n",
      "       [ 3, 26, 30]])\n",
      "P (permutation):\n",
      "array([[0., 0., 1.],\n",
      "       [0., 1., 0.],\n",
      "       [1., 0., 0.]])\n",
      "L:\n",
      "array([[1.        , 0.        , 0.        ],\n",
      "       [0.66666667, 1.        , 0.        ],\n",
      "       [0.33333333, 0.8       , 1.        ]])\n",
      "U:\n",
      "array([[ 3.        , 26.        , 30.        ],\n",
      "       [ 0.        , -8.33333333, -8.        ],\n",
      "       [ 0.        ,  0.        ,  0.4       ]])\n"
     ]
    }
   ],
   "source": [
    "import pprint\n",
    "import scipy\n",
    "import scipy.linalg\n",
    "\n",
    "A = scipy.array([[1, 2, 4], [2, 9, 12], [3, 26, 30]])\n",
    "P, L, U = scipy.linalg.lu(A)\n",
    "print(\"A:\")\n",
    "pprint.pprint(A)\n",
    "\n",
    "print(\"P (permutation):\")\n",
    "pprint.pprint(P)\n",
    "\n",
    "print(\"L:\")\n",
    "pprint.pprint(L)\n",
    "\n",
    "print(\"U:\")\n",
    "pprint.pprint(U)"
   ]
  },
  {
   "cell_type": "markdown",
   "metadata": {},
   "source": [
    "   б)$$\\begin{pmatrix}\n",
    "1 & 1 & 2 & 4\\\\ \n",
    "2 & 5 & 8 & 9\\\\ \n",
    "3 & 18 & 29 & 18\\\\\n",
    "4 & 22 & 53 & 33\n",
    "\\end{pmatrix}$$"
   ]
  },
  {
   "cell_type": "code",
   "execution_count": 8,
   "metadata": {},
   "outputs": [
    {
     "name": "stdout",
     "output_type": "stream",
     "text": [
      "B:\n",
      "array([[ 1,  1,  2,  4],\n",
      "       [ 2,  5,  8,  9],\n",
      "       [ 3, 18, 29, 18],\n",
      "       [ 4, 22, 53, 33]])\n",
      "P:\n",
      "array([[0., 0., 0., 1.],\n",
      "       [0., 1., 0., 0.],\n",
      "       [0., 0., 1., 0.],\n",
      "       [1., 0., 0., 0.]])\n",
      "L:\n",
      "array([[ 1.        ,  0.        ,  0.        ,  0.        ],\n",
      "       [ 0.5       ,  1.        ,  0.        ,  0.        ],\n",
      "       [ 0.75      , -0.25      ,  1.        ,  0.        ],\n",
      "       [ 0.25      ,  0.75      , -0.17073171,  1.        ]])\n",
      "U:\n",
      "array([[  4.        ,  22.        ,  53.        ,  33.        ],\n",
      "       [  0.        ,  -6.        , -18.5       ,  -7.5       ],\n",
      "       [  0.        ,   0.        , -15.375     ,  -8.625     ],\n",
      "       [  0.        ,   0.        ,   0.        ,  -0.09756098]])\n"
     ]
    }
   ],
   "source": [
    "B = scipy.array([[1, 1, 2, 4], [2, 5, 8, 9], [3, 18, 29, 18], [4, 22, 53, 33]])\n",
    "P, L, U = scipy.linalg.lu(B)\n",
    "print(\"B:\")\n",
    "pprint.pprint(B)\n",
    "\n",
    "print(\"P:\")\n",
    "pprint.pprint(P)\n",
    "\n",
    "print(\"L:\")\n",
    "pprint.pprint(L)\n",
    "\n",
    "print(\"U:\")\n",
    "pprint.pprint(U)"
   ]
  },
  {
   "cell_type": "markdown",
   "metadata": {},
   "source": [
    "__3.__ Решить систему линейных уравнений методом $LU$-разложения\n",
    "\n",
    "$$\\begin{cases}\n",
    "2x_{1}+x_{2}+3x_{3}=1 \\\\\n",
    "11x_{1}+7x_{2}+5x_{3}=-6 \\\\\n",
    "9x_{1}+8x_{2}+4x_{3}=-5\n",
    "\\end{cases}$$"
   ]
  },
  {
   "cell_type": "code",
   "execution_count": 18,
   "metadata": {},
   "outputs": [
    {
     "name": "stdout",
     "output_type": "stream",
     "text": [
      "A:\n",
      "array([[ 2,  1,  3],\n",
      "       [11,  7,  5],\n",
      "       [ 9,  8,  4]])\n",
      "P (permutation):\n",
      "array([[0., 0., 1.],\n",
      "       [1., 0., 0.],\n",
      "       [0., 1., 0.]])\n",
      "L:\n",
      "array([[ 1.        ,  0.        ,  0.        ],\n",
      "       [ 0.81818182,  1.        ,  0.        ],\n",
      "       [ 0.18181818, -0.12      ,  1.        ]])\n",
      "U:\n",
      "array([[11.        ,  7.        ,  5.        ],\n",
      "       [ 0.        ,  2.27272727, -0.09090909],\n",
      "       [ 0.        ,  0.        ,  2.08      ]])\n"
     ]
    }
   ],
   "source": [
    "A = scipy.array([[2, 1, 3], [11, 7, 5], [9, 8, 4]])\n",
    "P, L, U = scipy.linalg.lu(A)\n",
    "print(\"A:\")\n",
    "pprint.pprint(A)\n",
    "\n",
    "print(\"P (permutation):\")\n",
    "pprint.pprint(P)\n",
    "\n",
    "print(\"L:\")\n",
    "pprint.pprint(L)\n",
    "\n",
    "print(\"U:\")\n",
    "pprint.pprint(U)"
   ]
  },
  {
   "cell_type": "code",
   "execution_count": 13,
   "metadata": {},
   "outputs": [
    {
     "name": "stdout",
     "output_type": "stream",
     "text": [
      "y1: 1.0, y2: -6.8, y3: -6.0\n"
     ]
    }
   ],
   "source": [
    "#По верхней матрице\n",
    "y1 = 1\n",
    "y2 = -6 - 0.82\n",
    "y3 = -5 -0.18 +0.12*y2\n",
    "print(f'y1: {y1:.1f}, y2: {y2:.1f}, y3: {y3:.1f}')"
   ]
  },
  {
   "cell_type": "code",
   "execution_count": 21,
   "metadata": {},
   "outputs": [
    {
     "name": "stdout",
     "output_type": "stream",
     "text": [
      "x1: 3.4, x2: -3.1, x3: -2.9\n"
     ]
    }
   ],
   "source": [
    "#По нижней матрице\n",
    "x3 = y3/2.08\n",
    "x2 = (y2 + 0.09 * x3)/ 2.27\n",
    "x1 = (y1- 5*x3 - 7*x2)/11\n",
    "print(f'x1: {x1:.1f}, x2: {x2:.1f}, x3: {x3:.1f}')"
   ]
  },
  {
   "cell_type": "code",
   "execution_count": null,
   "metadata": {},
   "outputs": [],
   "source": []
  }
 ],
 "metadata": {
  "kernelspec": {
   "display_name": "Python 3",
   "language": "python",
   "name": "python3"
  },
  "language_info": {
   "codemirror_mode": {
    "name": "ipython",
    "version": 3
   },
   "file_extension": ".py",
   "mimetype": "text/x-python",
   "name": "python",
   "nbconvert_exporter": "python",
   "pygments_lexer": "ipython3",
   "version": "3.7.3"
  }
 },
 "nbformat": 4,
 "nbformat_minor": 2
}
