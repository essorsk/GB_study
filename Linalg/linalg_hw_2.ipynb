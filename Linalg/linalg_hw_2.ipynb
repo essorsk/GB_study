{
 "cells": [
  {
   "cell_type": "code",
   "execution_count": 1,
   "metadata": {},
   "outputs": [],
   "source": [
    "from numpy.linalg import norm\n",
    "import numpy as np\n",
    "import matplotlib.pyplot as plt\n",
    "from scipy.spatial.distance import cdist"
   ]
  },
  {
   "cell_type": "markdown",
   "metadata": {},
   "source": [
    "### Lesson 2"
   ]
  },
  {
   "cell_type": "markdown",
   "metadata": {},
   "source": [
    "1. Найти скалярное произведение векторов 𝑥,𝑦∈ℝ:\n",
    "\n",
    "а) 𝑥=(0,−3,6), 𝑦=(−4,7,9);\n",
    "\n",
    "б)  𝑥=(7,−4,0,1), 𝑦=(−3,1,11,2)."
   ]
  },
  {
   "cell_type": "markdown",
   "metadata": {},
   "source": [
    "a) (x,y) = (0, -3, 6) * (-4, 7, 9) = (0 + (-3)*7 + 6*9) = -21 + 54 =33"
   ]
  },
  {
   "cell_type": "code",
   "execution_count": 3,
   "metadata": {},
   "outputs": [
    {
     "data": {
      "text/plain": [
       "33"
      ]
     },
     "execution_count": 3,
     "metadata": {},
     "output_type": "execute_result"
    }
   ],
   "source": [
    "#Check\n",
    "x = np.array([0, -3, 6])\n",
    "y = np.array([-4, 7, 9])\n",
    "np.dot(x, y)"
   ]
  },
  {
   "cell_type": "markdown",
   "metadata": {},
   "source": [
    "b) (x,y) = (7, -4, 0, 1) *(-3, 1, 11, 2) = (7 *(-3) - 4 + 0 + 2) = -21 -2 = -23"
   ]
  },
  {
   "cell_type": "code",
   "execution_count": 4,
   "metadata": {},
   "outputs": [
    {
     "data": {
      "text/plain": [
       "-23"
      ]
     },
     "execution_count": 4,
     "metadata": {},
     "output_type": "execute_result"
    }
   ],
   "source": [
    "#Check\n",
    "x = np.array([7, -4, 0, 1])\n",
    "y = np.array([-3, 1, 11, 2])\n",
    "np.dot(x, y)"
   ]
  },
  {
   "cell_type": "markdown",
   "metadata": {},
   "source": [
    "2. Найти нормы векторов  (4,2,4)  и  (12,3,4)  и угол между ними."
   ]
  },
  {
   "cell_type": "markdown",
   "metadata": {},
   "source": [
    "Определим манхэттенскую норму:\n",
    "a = (4, 2, 4)\n",
    "||a||1 = 4 + 2 + 4 = 10\n",
    "\n",
    "b = (12, 3, 4)\n",
    "||b||1 = 12 + 3 + 4 = 19"
   ]
  },
  {
   "cell_type": "code",
   "execution_count": 5,
   "metadata": {},
   "outputs": [
    {
     "name": "stdout",
     "output_type": "stream",
     "text": [
      "10.0\n",
      "19.0\n"
     ]
    }
   ],
   "source": [
    "#check\n",
    "a = np.array([4, 2, 4])\n",
    "b = np.array([12, 3, 4])\n",
    "print(norm(a, ord=1))\n",
    "print(norm(b, ord=1))"
   ]
  },
  {
   "cell_type": "markdown",
   "metadata": {},
   "source": [
    "Определим евклидову норму:\n",
    "\n",
    "||a||2 = (4*4 + 2*2 + 4*4) ** 0.5 = 6\n",
    "\n",
    "||b||2 = (12 ** 2 + 3*3 + 4*4) ** 0.5 = 13"
   ]
  },
  {
   "cell_type": "code",
   "execution_count": 11,
   "metadata": {},
   "outputs": [
    {
     "name": "stdout",
     "output_type": "stream",
     "text": [
      "6.0\n",
      "13.0\n"
     ]
    }
   ],
   "source": [
    "#check\n",
    "print(norm(a, ord=2))\n",
    "print(norm(b, ord=2))"
   ]
  },
  {
   "cell_type": "code",
   "execution_count": 9,
   "metadata": {},
   "outputs": [
    {
     "name": "stdout",
     "output_type": "stream",
     "text": [
      "Косинус угла между a и b: 0.90\n",
      "Угол между a и b: 0.46\n"
     ]
    }
   ],
   "source": [
    "cos_phi = np.dot(a, b) / norm(a) / norm(b)\n",
    "print(f'Косинус угла между a и b: {cos_phi:.2f}')\n",
    "print(f'Угол между a и b: {np.arccos(cos_phi):.2f}')"
   ]
  },
  {
   "cell_type": "markdown",
   "metadata": {},
   "source": [
    "3. Будет ли линейное пространство евклидовым, если за скалярное произведение принять:\n",
    "а) произведение длин векторов;\n",
    "б) утроенное обычное скалярное произведение векторов?"
   ]
  },
  {
   "cell_type": "markdown",
   "metadata": {},
   "source": [
    "Определение. Линейное пространство E называется евклидовым,если в нем определено скалярное произведение.\n",
    "Значит: а) можно, б) можно"
   ]
  },
  {
   "cell_type": "markdown",
   "metadata": {},
   "source": [
    "4. Какие из нижеперечисленных векторов образуют ортонормированный базис в линейном пространстве  ℝ3 :\n",
    "\n",
    "а)  (1,0,0),(0,0,1);  \n",
    "\n",
    "б)  (1/2⎯⎯√,−1/2⎯⎯√,0),(1/2⎯⎯√,1/2⎯⎯√,0),(0,0,1); \n",
    "\n",
    "в)  (1/2,−1/2,0),(0,1/2,1/2),(0,0,1); \n",
    "\n",
    "г)  (1,0,0),(0,1,0),(0,0,1)?"
   ]
  },
  {
   "cell_type": "code",
   "execution_count": 14,
   "metadata": {},
   "outputs": [
    {
     "name": "stdout",
     "output_type": "stream",
     "text": [
      "0\n"
     ]
    }
   ],
   "source": [
    "# а)  (1,0,0),(0,0,1);\n",
    "a = np.array([1, 0, 0])\n",
    "b = np.array([0, 0, 1])\n",
    "print(np.dot(a, b))\n",
    "\n",
    "#Ортонормированный базис"
   ]
  },
  {
   "cell_type": "code",
   "execution_count": 20,
   "metadata": {},
   "outputs": [
    {
     "name": "stdout",
     "output_type": "stream",
     "text": [
      "0.0\n",
      "0.0\n",
      "0.0\n",
      "1.0, 1.0, 1.0\n"
     ]
    }
   ],
   "source": [
    "#б)  (1/2⎯⎯√,−1/2⎯⎯√,0),(1/2⎯⎯√,1/2⎯⎯√,0),(0,0,1); \n",
    "c = np.array([(1/(2**0.5)), (-1/(2**0.5)), 0])\n",
    "d = np.array([(1/(2**0.5)), (1/(2**0.5)), 0])\n",
    "b = np.array([0, 0, 1])\n",
    "print(np.dot(c, d))\n",
    "print(np.dot(c, b))\n",
    "print(np.dot(b, d))\n",
    "print(f'{norm(c):.1f}, {norm(d):.1f}, {norm(b):.1f}')\n",
    "\n",
    "#Ортонормированный базис"
   ]
  },
  {
   "cell_type": "code",
   "execution_count": 19,
   "metadata": {},
   "outputs": [
    {
     "name": "stdout",
     "output_type": "stream",
     "text": [
      "-0.25\n",
      "0.0\n",
      "0.5\n",
      "0.7071067811865476 0.7071067811865476 1.0\n"
     ]
    }
   ],
   "source": [
    "#в)  (1/2,−1/2,0),(0,1/2,1/2),(0,0,1); \n",
    "e = np.array([0.5, -0.5, 0])\n",
    "f = np.array([0, 0.5, 0.5])\n",
    "b = np.array([0, 0, 1])\n",
    "\n",
    "print(np.dot(e, f))\n",
    "print(np.dot(e, b))\n",
    "print(np.dot(b, f))\n",
    "print(norm(e), norm(f), norm(b))\n",
    "\n",
    "#Не ортогональный, не ортонормированный базис"
   ]
  },
  {
   "cell_type": "code",
   "execution_count": null,
   "metadata": {},
   "outputs": [],
   "source": [
    "#г)  (1,0,0),(0,1,0),(0,0,1)\n",
    "\n",
    "#Ортонормированный базис"
   ]
  },
  {
   "cell_type": "markdown",
   "metadata": {},
   "source": [
    "### Lesson 3"
   ]
  },
  {
   "cell_type": "markdown",
   "metadata": {},
   "source": [
    "1. Установить, какие произведения матриц  𝐴𝐵  и  𝐵𝐴  определены, и найти размерности полученных матриц:\n",
    "\n",
    "а)  𝐴  — матрица  4×2 ,  𝐵  — матрица  4×2 ;\n",
    "\n",
    "Матрицы А и В не квадратные, одинаковой размерности. Соответственно умножать их можно, если 1 из них транспонировать.\n",
    "Если транспонировать 2ой множитель, получится матрица 4*4\n",
    "Если транспонировать 1ый множитель, то получится матрица 2*2"
   ]
  },
  {
   "cell_type": "code",
   "execution_count": 28,
   "metadata": {},
   "outputs": [
    {
     "name": "stdout",
     "output_type": "stream",
     "text": [
      "[[-0.17856957 -0.72772601]\n",
      " [ 0.75884085  0.2411668 ]\n",
      " [-1.28029538 -1.28090746]\n",
      " [-0.06965324  1.64491769]]\n",
      "[[ 0.04167591  0.23585022]\n",
      " [ 0.3523656  -0.34720887]\n",
      " [-0.05512024 -0.35807071]\n",
      " [ 0.63115103 -0.71532954]]\n",
      "[[-0.17907639  0.18975115  0.27042017  0.40785954]\n",
      " [ 0.08850463  0.18365416 -0.12818226  0.30642945]\n",
      " [-0.35545979 -0.00638962  0.52922563  0.1082112 ]\n",
      " [ 0.38505134 -0.59567341 -0.58515755 -1.22061994]]\n",
      "[[ 0.28655583  1.16344565]\n",
      " [ 0.20266935 -0.97337237]]\n"
     ]
    }
   ],
   "source": [
    "A = np.random.randn(4, 2)\n",
    "B = np.random.randn(4, 2)\n",
    "print(A)\n",
    "print(B)\n",
    "print(A.dot(B.T))\n",
    "print(B.T.dot(A))"
   ]
  },
  {
   "cell_type": "markdown",
   "metadata": {},
   "source": [
    "б)  𝐴  — матрица  2×5 ,  𝐵  — матрица  5×3 ;\n",
    "Матрицы 𝐴𝐵 имеет размерность 2 * 3\n",
    "Матрица ВА не существует. Можно сделать матрицу A.T * B.T. Размерность 3 * 2"
   ]
  },
  {
   "cell_type": "code",
   "execution_count": 32,
   "metadata": {},
   "outputs": [
    {
     "name": "stdout",
     "output_type": "stream",
     "text": [
      "[[ 0.49043024 -0.45438987 -0.77376185 -0.04883134  0.21909953]\n",
      " [ 0.33875672  1.61335902 -0.12041033 -1.84833239  1.42063036]]\n",
      "[[ 0.89653346 -0.47253801  0.06604449]\n",
      " [ 0.24897095 -0.53555653 -0.14279172]\n",
      " [-1.15887638  1.13530256  0.21923955]\n",
      " [ 1.98638704 -1.9672779  -0.4931269 ]\n",
      " [-0.25198607 -0.52111581 -0.39352155]]\n",
      "[[ 1.0710436  -0.88496069 -0.13450622]\n",
      " [-3.18455563  1.73504799  0.11801376]]\n",
      "[[ 1.0710436  -3.18455563]\n",
      " [-0.88496069  1.73504799]\n",
      " [-0.13450622  0.11801376]]\n"
     ]
    }
   ],
   "source": [
    "A = np.random.randn(2, 5)\n",
    "B = np.random.randn(5, 3)\n",
    "print(A)\n",
    "print(B)\n",
    "print(A.dot(B))\n",
    "print(B.T.dot(A.T))"
   ]
  },
  {
   "cell_type": "markdown",
   "metadata": {},
   "source": [
    "в)  𝐴  — матрица  8×3 ,  𝐵  — матрица  3×8 ;\n",
    "\n",
    "Обе матрицы  𝐴𝐵  и  𝐵𝐴  определены\n",
    "Матрицы 𝐴𝐵 имеет размерность 8 * 8\n",
    "Матрица ВА имеет размерность 3 * 3"
   ]
  },
  {
   "cell_type": "code",
   "execution_count": 35,
   "metadata": {},
   "outputs": [
    {
     "name": "stdout",
     "output_type": "stream",
     "text": [
      "[[ 0.05932566 -0.30749369  1.47758207]\n",
      " [-0.98910208 -0.0093617  -1.24852873]\n",
      " [-1.14520337  1.145154   -1.39502533]\n",
      " [-0.15984359  0.13430962  0.23548241]\n",
      " [ 2.25068889  0.20132877 -0.57012777]\n",
      " [ 1.14951976  0.55331743  0.41064855]\n",
      " [ 0.02772506 -0.44508832  0.96447873]\n",
      " [-0.52034178  0.02050596 -0.15759613]]\n",
      "[[-0.07048985 -0.3020862   0.33128027  0.64851821  0.19442502 -0.28678877\n",
      "  -0.148885    0.92248926]\n",
      " [-0.70738884 -0.82952026 -0.40995405 -0.10917284  1.14957633  0.73521686\n",
      "  -2.1167215  -0.6597924 ]\n",
      " [ 0.09666343  0.83601688  2.17093839 -0.09270609  0.66311161  1.4092562\n",
      "  -1.6533359  -1.68201006]]\n",
      "[[ 0.3561639   1.47243433  3.35345134 -0.06493713  0.63784875  1.83920321\n",
      "  -1.80089367 -2.22769862]\n",
      " [-0.04434304 -0.73723128 -3.03431109 -0.52468245 -1.03098208 -1.48271636\n",
      "   2.23131594  1.19377861]\n",
      " [-0.86419187 -1.77024302 -3.87735784 -0.73837761  0.16872825 -0.7955801\n",
      "   0.05297697  0.53444492]\n",
      " [-0.06097924  0.13374126  0.40320401 -0.1401551   0.27947269  0.4764431\n",
      "  -0.64982929 -0.63215425]\n",
      " [-0.35617896 -1.32354479 -0.57463898  1.49048742  0.29097469 -1.30090808\n",
      "   0.18136196  2.90236177]\n",
      " [-0.43274536 -0.46293296  1.04547119  0.64700764  1.13188184  0.65584795\n",
      "  -2.02130513  0.00463002]\n",
      " [ 0.40612599  1.16715492  2.28547443 -0.02284129  0.13328449  1.02400996\n",
      "  -0.65660714 -1.30302097]\n",
      " [ 0.00693935  0.00842494 -0.52291696 -0.32507969 -0.18209812 -0.05778882\n",
      "   0.29462502 -0.22846111]]\n",
      "[[-0.56464919  0.45661401 -0.55401461]\n",
      " [ 4.98256155  1.30800928 -1.75439899]\n",
      " [ 0.64928817  4.05071625 -5.08018601]]\n"
     ]
    }
   ],
   "source": [
    "A = np.random.randn(8, 3)\n",
    "B = np.random.randn(3, 8)\n",
    "print(A)\n",
    "print(B)\n",
    "print(A.dot(B))\n",
    "print(B.dot(A))"
   ]
  },
  {
   "cell_type": "code",
   "execution_count": null,
   "metadata": {},
   "outputs": [],
   "source": [
    "г)  𝐴  — квадратная матрица  4×4 ,  𝐵  — квадратная матрица  4×4 .\n",
    "Обе матрицы  𝐴𝐵  и  𝐵𝐴  определены и имеют размерность  4×4"
   ]
  },
  {
   "cell_type": "code",
   "execution_count": 36,
   "metadata": {},
   "outputs": [
    {
     "name": "stdout",
     "output_type": "stream",
     "text": [
      "[[ 0.53623299  2.70103549 -0.30703383  1.95159997]\n",
      " [ 1.83559184 -0.41679241 -1.40052141  1.46212094]\n",
      " [ 0.43424863 -0.20422353 -1.01093544 -0.394122  ]\n",
      " [ 0.25488046  0.25799521  0.51072021 -0.20955152]]\n",
      "[[ 0.68977183 -0.38933021 -0.01460199  0.36907782]\n",
      " [ 2.0074626   0.13987372 -0.8951195   1.14621455]\n",
      " [-0.73965952  0.22278403 -0.62935372 -1.03072127]\n",
      " [-0.38731461 -0.96058384  0.76398026 -1.39030344]]\n",
      "[[ 5.26332345 -1.77404546 -0.74136287  0.89702804]\n",
      " [ 0.89905257 -2.48945321  2.34473061 -0.38950186]\n",
      " [ 0.7899586  -0.04426467  0.51159813  1.51612939]\n",
      " [ 0.3971284   0.2519262  -0.7161752   0.1547186 ]]\n",
      "[[-0.25704311  2.12357045  0.53673918  0.70532498]\n",
      " [ 1.23666201  5.84245175  0.6780479   4.23487152]\n",
      " [-0.52369599 -2.22809363  0.02491249 -0.65375095]\n",
      " [-1.99353453 -1.16050083 -0.01815388 -2.17013415]]\n"
     ]
    }
   ],
   "source": [
    "A = np.random.randn(4, 4)\n",
    "B = np.random.randn(4, 4)\n",
    "print(A)\n",
    "print(B)\n",
    "print(A.dot(B))\n",
    "print(B.dot(A))"
   ]
  },
  {
   "cell_type": "markdown",
   "metadata": {},
   "source": [
    "2. Найти сумму и произведение матриц  𝐴=(1 3−2 0)  и  𝐵=(4 0−1 5)."
   ]
  },
  {
   "cell_type": "code",
   "execution_count": 3,
   "metadata": {},
   "outputs": [
    {
     "name": "stdout",
     "output_type": "stream",
     "text": [
      "[[ 1 -2]\n",
      " [ 3  0]]\n",
      "[[ 4 -1]\n",
      " [ 0  5]]\n",
      "[[ 5 -3]\n",
      " [ 3  5]]\n",
      "[[  4 -11]\n",
      " [ 12  -3]]\n"
     ]
    }
   ],
   "source": [
    "A = np.array([[1, -2], [3, 0]])\n",
    "B = np.array([[4, -1], [0, 5]])\n",
    "print(A)\n",
    "print(B)\n",
    "print(A + B)\n",
    "print(np.dot(A, B))"
   ]
  },
  {
   "cell_type": "markdown",
   "metadata": {},
   "source": [
    "3. Из закономерностей сложения и умножения матриц на число можно сделать вывод, что матрицы одного размера образуют линейное пространство. Вычислить линейную комбинацию  3𝐴−2𝐵+4𝐶  для матриц  𝐴=(137−6) ,  𝐵=(025−1) ,  𝐶=(21−41)."
   ]
  },
  {
   "cell_type": "markdown",
   "metadata": {},
   "source": [
    "3𝐴−2𝐵+4𝐶 = (3 - 0 + 4 * 2      3*7 - 2*5 -4*4)  = ([11,-5],\n",
    "            (3*3 -2*2 + 4      -6*3+2 + 4)         [9, -12])"
   ]
  },
  {
   "cell_type": "code",
   "execution_count": 4,
   "metadata": {},
   "outputs": [
    {
     "name": "stdout",
     "output_type": "stream",
     "text": [
      "[[ 1  7]\n",
      " [ 3 -6]]\n",
      "[[ 0  5]\n",
      " [ 2 -1]]\n",
      "[[ 2 -4]\n",
      " [ 1  1]]\n",
      "[[ 11  -5]\n",
      " [  9 -12]]\n"
     ]
    }
   ],
   "source": [
    "#Check\n",
    "A = np.array([[1, 7], [3, -6]])\n",
    "B = np.array([[0,5], [2, -1]])\n",
    "C = np.array([[2, -4], [1, 1]])\n",
    "print(A)\n",
    "print(B)\n",
    "print(C)\n",
    "print(3*A - 2*B + 4*C)"
   ]
  },
  {
   "cell_type": "markdown",
   "metadata": {},
   "source": [
    "4. Дана матрица  𝐴=4521−23 . Вычислить  𝐴𝐴𝑇  и  𝐴𝑇𝐴 ."
   ]
  },
  {
   "cell_type": "code",
   "execution_count": 6,
   "metadata": {},
   "outputs": [
    {
     "name": "stdout",
     "output_type": "stream",
     "text": [
      "[[ 4  1]\n",
      " [ 5 -2]\n",
      " [ 2  3]]\n",
      "[[17 18 11]\n",
      " [18 29  4]\n",
      " [11  4 13]]\n",
      "[[45  0]\n",
      " [ 0 14]]\n"
     ]
    }
   ],
   "source": [
    "A = np.array([[4, 1], [5, -2], [2, 3]])\n",
    "print(A)\n",
    "print(np.dot(A, A.T))\n",
    "print(np.dot(A.T, A))"
   ]
  },
  {
   "cell_type": "markdown",
   "metadata": {},
   "source": [
    "### Lesson 4"
   ]
  },
  {
   "cell_type": "markdown",
   "metadata": {},
   "source": [
    "1. Вычислить определитель:\n",
    "\n",
    "a) ||𝑠𝑖𝑛𝑥 −𝑐𝑜𝑠𝑥||;\n",
    "    ||𝑐𝑜𝑠𝑥   𝑠𝑖𝑛𝑥||"
   ]
  },
  {
   "cell_type": "markdown",
   "metadata": {},
   "source": [
    "𝑑𝑒𝑡𝐴=|𝐴|=||||𝑎11𝑎21𝑎12𝑎22||||=𝑎11𝑎22−𝑎12𝑎21.\n",
    "detA = sinx*sinx + cosx*cosx = 1"
   ]
  },
  {
   "cell_type": "code",
   "execution_count": 10,
   "metadata": {},
   "outputs": [
    {
     "data": {
      "text/plain": [
       "1.0"
      ]
     },
     "execution_count": 10,
     "metadata": {},
     "output_type": "execute_result"
    }
   ],
   "source": [
    "x = np.pi\n",
    "A = np.array([[np.sin(x), -np.cos(x)],[np.cos(x), np.sin(x)]])\n",
    "A\n",
    "np.linalg.det(A)"
   ]
  },
  {
   "cell_type": "markdown",
   "metadata": {},
   "source": [
    "б)||4 2 3 ||\n",
    "  ||0 5 1 ||\n",
    "  ||0 0 9||;\n",
    "  \n",
    "det(B) = 4*5*9 = 180"
   ]
  },
  {
   "cell_type": "code",
   "execution_count": 11,
   "metadata": {},
   "outputs": [
    {
     "data": {
      "text/plain": [
       "180.0"
      ]
     },
     "execution_count": 11,
     "metadata": {},
     "output_type": "execute_result"
    }
   ],
   "source": [
    "B = np.array([[4, 2, 3], [0, 5, 1], [0, 0 ,9]])\n",
    "np.linalg.det(B)"
   ]
  },
  {
   "cell_type": "markdown",
   "metadata": {},
   "source": [
    "   в)\n",
    "\n",
    "$$\\begin{vmatrix}\n",
    "1 & 2 & 3\\\\ \n",
    "4 & 5 & 6\\\\ \n",
    "7 & 8 & 9\n",
    "\\end{vmatrix}.$$"
   ]
  },
  {
   "cell_type": "markdown",
   "metadata": {},
   "source": [
    "|1 2 3|     |1 2 3|    |1 2 3|\n",
    "|4 5 6| <=> |2 1 0| <=>|2 1 0| <=> det(C) = 0\n",
    "|7 8 9|     |4 2 0|    |0 0 0|"
   ]
  },
  {
   "cell_type": "code",
   "execution_count": 14,
   "metadata": {},
   "outputs": [
    {
     "name": "stdout",
     "output_type": "stream",
     "text": [
      "0.0\n"
     ]
    }
   ],
   "source": [
    "C = np.array([[1, 2, 3], [4, 5, 6], [7, 8, 9]])\n",
    "print(f'{np.linalg.det(C):.1f}')"
   ]
  },
  {
   "cell_type": "markdown",
   "metadata": {},
   "source": [
    "\n",
    "__2.__ Определитель матрицы $A$ равен $4$. Найти:\n",
    "\n",
    "   а) $det(A^{2})$ = 4**2 = 16;\n",
    "\n",
    "   б) $det(A^{T})$ = 4\n",
    "\n",
    "   в) $det(2A)$ = 2 * 4 = 8 ."
   ]
  },
  {
   "cell_type": "markdown",
   "metadata": {},
   "source": [
    "__3.__  Доказать, что матрица\n",
    "\n",
    "$$\\begin{pmatrix}\n",
    "-2 & 7 & -3\\\\ \n",
    "4 & -14 & 6\\\\ \n",
    "-3 & 7 & 13\n",
    "\\end{pmatrix}$$\n",
    "   \n",
    "вырожденная."
   ]
  },
  {
   "cell_type": "code",
   "execution_count": 16,
   "metadata": {},
   "outputs": [
    {
     "name": "stdout",
     "output_type": "stream",
     "text": [
      "0.0\n"
     ]
    }
   ],
   "source": [
    "# 1 и 2 строки матриц линейно зависимы, определитель равен 0.\n",
    "# Матрица называется сингулярной, или вырожденной, если ее определитель равен нулю.\n",
    "\n",
    "A = np.array([[-2, 7, -3], [4, -14, 6], [-3, 7, 13]])\n",
    "print(f'{np.linalg.det(A):.1f}')"
   ]
  },
  {
   "cell_type": "markdown",
   "metadata": {},
   "source": [
    "__4.__ Найти ранг матрицы:\n",
    "\n",
    "   а) $\\begin{pmatrix}\n",
    "1 & 2 & 3\\\\ \n",
    "1 & 1 & 1\\\\ \n",
    "2 & 3 & 4\n",
    "\\end{pmatrix};$"
   ]
  },
  {
   "cell_type": "code",
   "execution_count": 17,
   "metadata": {},
   "outputs": [
    {
     "name": "stdout",
     "output_type": "stream",
     "text": [
      "Ранг матрицы: 2\n"
     ]
    }
   ],
   "source": [
    "a = np.array([[1, 2, 3], [1, 1, 1], [2, 3, 4]])\n",
    "r = np.linalg.matrix_rank(a)\n",
    "\n",
    "print(f'Ранг матрицы: {r}')"
   ]
  },
  {
   "cell_type": "markdown",
   "metadata": {},
   "source": [
    "   б) $\\begin{pmatrix}\n",
    "0 & 0 & 2 & 1\\\\ \n",
    "0 & 0 & 2 & 2\\\\ \n",
    "0 & 0 & 4 & 3\\\\ \n",
    "2 & 3 & 5 & 6\n",
    "\\end{pmatrix}.$"
   ]
  },
  {
   "cell_type": "code",
   "execution_count": 18,
   "metadata": {},
   "outputs": [
    {
     "name": "stdout",
     "output_type": "stream",
     "text": [
      "Ранг матрицы: 3\n"
     ]
    }
   ],
   "source": [
    "b = np.array([[0, 0, 2, 1], [0, 0, 2, 2], [0, 0, 4, 3], [2, 3, 5, 6]])\n",
    "r = np.linalg.matrix_rank(b)\n",
    "\n",
    "print(f'Ранг матрицы: {r}')"
   ]
  },
  {
   "cell_type": "code",
   "execution_count": null,
   "metadata": {},
   "outputs": [],
   "source": []
  }
 ],
 "metadata": {
  "kernelspec": {
   "display_name": "Python 3",
   "language": "python",
   "name": "python3"
  },
  "language_info": {
   "codemirror_mode": {
    "name": "ipython",
    "version": 3
   },
   "file_extension": ".py",
   "mimetype": "text/x-python",
   "name": "python",
   "nbconvert_exporter": "python",
   "pygments_lexer": "ipython3",
   "version": "3.7.3"
  }
 },
 "nbformat": 4,
 "nbformat_minor": 2
}
